{
 "cells": [
  {
   "cell_type": "code",
   "execution_count": 1,
   "metadata": {},
   "outputs": [],
   "source": [
    "import pandas as pd\n",
    "import requests\n",
    "import selenium\n",
    "from selenium import webdriver  # Selenium es una herramienta para automatizar la interacción con navegadores web.\n",
    "from webdriver_manager.chrome import ChromeDriverManager  # ChromeDriverManager gestiona la instalación del controlador de Chrome.\n",
    "from selenium.webdriver.common.keys import Keys  # Keys es útil para simular eventos de teclado en Selenium.\n",
    "from selenium.webdriver.support.ui import Select  # Select se utiliza para interactuar con elementos <select> en páginas web.\n",
    "from selenium.webdriver.support.ui import WebDriverWait\n",
    "from selenium.webdriver.support import expected_conditions as EC\n",
    "from selenium.common.exceptions import NoSuchElementException # Excepciones comunes de selenium que nos podemos encontrar \n",
    "from bs4 import BeautifulSoup\n",
    "from time import sleep \n",
    "import re\n",
    "import sys \n",
    "import os\n",
    "sys.path.append(os.path.abspath(\"../src\"))   \n",
    "from datetime import datetime\n",
    "import psycopg2\n",
    "from psycopg2 import OperationalError, errorcodes, errors\n",
    "\n",
    "import matplotlib.pyplot as plt\n",
    "import matplotlib_inline\n",
    "import seaborn as sns\n",
    "\n",
    "\n",
    "import funciones as f"
   ]
  },
  {
   "cell_type": "code",
   "execution_count": 2,
   "metadata": {},
   "outputs": [],
   "source": [
    "df_total=pd.read_csv(\"../datos/datos_Supers_completo.csv\")"
   ]
  },
  {
   "cell_type": "code",
   "execution_count": 3,
   "metadata": {},
   "outputs": [
    {
     "data": {
      "text/html": [
       "<div>\n",
       "<style scoped>\n",
       "    .dataframe tbody tr th:only-of-type {\n",
       "        vertical-align: middle;\n",
       "    }\n",
       "\n",
       "    .dataframe tbody tr th {\n",
       "        vertical-align: top;\n",
       "    }\n",
       "\n",
       "    .dataframe thead th {\n",
       "        text-align: right;\n",
       "    }\n",
       "</style>\n",
       "<table border=\"1\" class=\"dataframe\">\n",
       "  <thead>\n",
       "    <tr style=\"text-align: right;\">\n",
       "      <th></th>\n",
       "      <th>Día</th>\n",
       "      <th>Precio (€)</th>\n",
       "      <th>Variación</th>\n",
       "      <th>supermercado</th>\n",
       "      <th>producto</th>\n",
       "      <th>variante</th>\n",
       "    </tr>\n",
       "  </thead>\n",
       "  <tbody>\n",
       "    <tr>\n",
       "      <th>0</th>\n",
       "      <td>2024-07-12</td>\n",
       "      <td>21.4</td>\n",
       "      <td>0.0</td>\n",
       "      <td>carrefour</td>\n",
       "      <td>aceite-de-girasol</td>\n",
       "      <td>aceite-de-girasol-capicua-garrafa-5-l</td>\n",
       "    </tr>\n",
       "    <tr>\n",
       "      <th>1</th>\n",
       "      <td>2024-07-13</td>\n",
       "      <td>21.4</td>\n",
       "      <td>0.0</td>\n",
       "      <td>carrefour</td>\n",
       "      <td>aceite-de-girasol</td>\n",
       "      <td>aceite-de-girasol-capicua-garrafa-5-l</td>\n",
       "    </tr>\n",
       "    <tr>\n",
       "      <th>2</th>\n",
       "      <td>2024-07-14</td>\n",
       "      <td>21.4</td>\n",
       "      <td>0.0</td>\n",
       "      <td>carrefour</td>\n",
       "      <td>aceite-de-girasol</td>\n",
       "      <td>aceite-de-girasol-capicua-garrafa-5-l</td>\n",
       "    </tr>\n",
       "    <tr>\n",
       "      <th>3</th>\n",
       "      <td>2024-07-15</td>\n",
       "      <td>21.4</td>\n",
       "      <td>0.0</td>\n",
       "      <td>carrefour</td>\n",
       "      <td>aceite-de-girasol</td>\n",
       "      <td>aceite-de-girasol-capicua-garrafa-5-l</td>\n",
       "    </tr>\n",
       "    <tr>\n",
       "      <th>4</th>\n",
       "      <td>2024-07-16</td>\n",
       "      <td>21.4</td>\n",
       "      <td>0.0</td>\n",
       "      <td>carrefour</td>\n",
       "      <td>aceite-de-girasol</td>\n",
       "      <td>aceite-de-girasol-capicua-garrafa-5-l</td>\n",
       "    </tr>\n",
       "  </tbody>\n",
       "</table>\n",
       "</div>"
      ],
      "text/plain": [
       "          Día  Precio (€)  Variación supermercado           producto  \\\n",
       "0  2024-07-12        21.4        0.0    carrefour  aceite-de-girasol   \n",
       "1  2024-07-13        21.4        0.0    carrefour  aceite-de-girasol   \n",
       "2  2024-07-14        21.4        0.0    carrefour  aceite-de-girasol   \n",
       "3  2024-07-15        21.4        0.0    carrefour  aceite-de-girasol   \n",
       "4  2024-07-16        21.4        0.0    carrefour  aceite-de-girasol   \n",
       "\n",
       "                                variante  \n",
       "0  aceite-de-girasol-capicua-garrafa-5-l  \n",
       "1  aceite-de-girasol-capicua-garrafa-5-l  \n",
       "2  aceite-de-girasol-capicua-garrafa-5-l  \n",
       "3  aceite-de-girasol-capicua-garrafa-5-l  \n",
       "4  aceite-de-girasol-capicua-garrafa-5-l  "
      ]
     },
     "execution_count": 3,
     "metadata": {},
     "output_type": "execute_result"
    }
   ],
   "source": [
    "df_total.head()"
   ]
  },
  {
   "cell_type": "code",
   "execution_count": 4,
   "metadata": {},
   "outputs": [],
   "source": [
    "df_total[\"Día\"]=pd.to_datetime(df_total[\"Día\"],format= \"mixed\", dayfirst= True)"
   ]
  },
  {
   "cell_type": "code",
   "execution_count": 5,
   "metadata": {},
   "outputs": [
    {
     "name": "stdout",
     "output_type": "stream",
     "text": [
      "<class 'pandas.core.frame.DataFrame'>\n",
      "RangeIndex: 132954 entries, 0 to 132953\n",
      "Data columns (total 6 columns):\n",
      " #   Column        Non-Null Count   Dtype         \n",
      "---  ------        --------------   -----         \n",
      " 0   Día           132954 non-null  datetime64[ns]\n",
      " 1   Precio (€)    132954 non-null  float64       \n",
      " 2   Variación     132954 non-null  float64       \n",
      " 3   supermercado  132954 non-null  object        \n",
      " 4   producto      132954 non-null  object        \n",
      " 5   variante      132954 non-null  object        \n",
      "dtypes: datetime64[ns](1), float64(2), object(3)\n",
      "memory usage: 6.1+ MB\n"
     ]
    }
   ],
   "source": [
    "df_total.info()"
   ]
  },
  {
   "cell_type": "code",
   "execution_count": 6,
   "metadata": {},
   "outputs": [
    {
     "data": {
      "text/html": [
       "<div>\n",
       "<style scoped>\n",
       "    .dataframe tbody tr th:only-of-type {\n",
       "        vertical-align: middle;\n",
       "    }\n",
       "\n",
       "    .dataframe tbody tr th {\n",
       "        vertical-align: top;\n",
       "    }\n",
       "\n",
       "    .dataframe thead th {\n",
       "        text-align: right;\n",
       "    }\n",
       "</style>\n",
       "<table border=\"1\" class=\"dataframe\">\n",
       "  <thead>\n",
       "    <tr style=\"text-align: right;\">\n",
       "      <th></th>\n",
       "      <th>count</th>\n",
       "      <th>mean</th>\n",
       "      <th>min</th>\n",
       "      <th>25%</th>\n",
       "      <th>50%</th>\n",
       "      <th>75%</th>\n",
       "      <th>max</th>\n",
       "      <th>std</th>\n",
       "    </tr>\n",
       "  </thead>\n",
       "  <tbody>\n",
       "    <tr>\n",
       "      <th>Día</th>\n",
       "      <td>132954</td>\n",
       "      <td>2024-08-30 11:24:23.946929152</td>\n",
       "      <td>2024-06-22 00:00:00</td>\n",
       "      <td>2024-08-04 00:00:00</td>\n",
       "      <td>2024-08-29 00:00:00</td>\n",
       "      <td>2024-09-25 00:00:00</td>\n",
       "      <td>2024-10-26 00:00:00</td>\n",
       "      <td>NaN</td>\n",
       "    </tr>\n",
       "    <tr>\n",
       "      <th>Precio (€)</th>\n",
       "      <td>132954.0</td>\n",
       "      <td>9.734827</td>\n",
       "      <td>0.5</td>\n",
       "      <td>1.41</td>\n",
       "      <td>5.22</td>\n",
       "      <td>11.19</td>\n",
       "      <td>154.32</td>\n",
       "      <td>13.650662</td>\n",
       "    </tr>\n",
       "    <tr>\n",
       "      <th>Variación</th>\n",
       "      <td>132954.0</td>\n",
       "      <td>-0.003576</td>\n",
       "      <td>-21.33</td>\n",
       "      <td>0.0</td>\n",
       "      <td>0.0</td>\n",
       "      <td>0.0</td>\n",
       "      <td>20.69</td>\n",
       "      <td>0.53269</td>\n",
       "    </tr>\n",
       "  </tbody>\n",
       "</table>\n",
       "</div>"
      ],
      "text/plain": [
       "               count                           mean                  min  \\\n",
       "Día           132954  2024-08-30 11:24:23.946929152  2024-06-22 00:00:00   \n",
       "Precio (€)  132954.0                       9.734827                  0.5   \n",
       "Variación   132954.0                      -0.003576               -21.33   \n",
       "\n",
       "                            25%                  50%                  75%  \\\n",
       "Día         2024-08-04 00:00:00  2024-08-29 00:00:00  2024-09-25 00:00:00   \n",
       "Precio (€)                 1.41                 5.22                11.19   \n",
       "Variación                   0.0                  0.0                  0.0   \n",
       "\n",
       "                            max        std  \n",
       "Día         2024-10-26 00:00:00        NaN  \n",
       "Precio (€)               154.32  13.650662  \n",
       "Variación                 20.69    0.53269  "
      ]
     },
     "execution_count": 6,
     "metadata": {},
     "output_type": "execute_result"
    }
   ],
   "source": [
    "df_total.describe().T"
   ]
  },
  {
   "cell_type": "code",
   "execution_count": 7,
   "metadata": {},
   "outputs": [
    {
     "data": {
      "text/html": [
       "<div>\n",
       "<style scoped>\n",
       "    .dataframe tbody tr th:only-of-type {\n",
       "        vertical-align: middle;\n",
       "    }\n",
       "\n",
       "    .dataframe tbody tr th {\n",
       "        vertical-align: top;\n",
       "    }\n",
       "\n",
       "    .dataframe thead th {\n",
       "        text-align: right;\n",
       "    }\n",
       "</style>\n",
       "<table border=\"1\" class=\"dataframe\">\n",
       "  <thead>\n",
       "    <tr style=\"text-align: right;\">\n",
       "      <th></th>\n",
       "      <th>count</th>\n",
       "      <th>unique</th>\n",
       "      <th>top</th>\n",
       "      <th>freq</th>\n",
       "    </tr>\n",
       "  </thead>\n",
       "  <tbody>\n",
       "    <tr>\n",
       "      <th>supermercado</th>\n",
       "      <td>132954</td>\n",
       "      <td>6</td>\n",
       "      <td>hipercor</td>\n",
       "      <td>41096</td>\n",
       "    </tr>\n",
       "    <tr>\n",
       "      <th>producto</th>\n",
       "      <td>132954</td>\n",
       "      <td>3</td>\n",
       "      <td>leche</td>\n",
       "      <td>68599</td>\n",
       "    </tr>\n",
       "    <tr>\n",
       "      <th>variante</th>\n",
       "      <td>132954</td>\n",
       "      <td>1582</td>\n",
       "      <td>aceite-de-oliva-virgen-extra-picual-casa-junca...</td>\n",
       "      <td>242</td>\n",
       "    </tr>\n",
       "  </tbody>\n",
       "</table>\n",
       "</div>"
      ],
      "text/plain": [
       "               count unique  \\\n",
       "supermercado  132954      6   \n",
       "producto      132954      3   \n",
       "variante      132954   1582   \n",
       "\n",
       "                                                            top   freq  \n",
       "supermercado                                           hipercor  41096  \n",
       "producto                                                  leche  68599  \n",
       "variante      aceite-de-oliva-virgen-extra-picual-casa-junca...    242  "
      ]
     },
     "execution_count": 7,
     "metadata": {},
     "output_type": "execute_result"
    }
   ],
   "source": [
    "df_total.describe(include=\"O\").T"
   ]
  },
  {
   "cell_type": "markdown",
   "metadata": {},
   "source": [
    "COMENTARIOS EDA inicial:  \n",
    "\n",
    "\n",
    "\n",
    "- La media de precio de los principales supermercados (en los productos de aceite de girasol, aceite de oliva y leche) en España es de 9,73€, mientras que la mediana es de 5,22€ indicando que en los principales supermercados tienen ciertos productos bastante más caros mientras que parece haber una mayor cantidad de productos \"baratos\" (pues para calcular la mediana se ordenann de menor a mayor los productos más baratos están al principio).\n",
    "\n",
    "- En cuanto a la variación de precio, se observa que por lo general no hay variaciones y son bastante estables sin enbargo si que comprobamos un máximo y un mínimo de variación muy destacables(lo que podría indicar o bien promociones (como el descuento del IVA) o/y subidas de precio abusivas)\n",
    "\n",
    "Otros datos de interés:  \n",
    "\n",
    "- El supermercado que más aparece es Hipercor también el producto Leche y la variante Aceite de oliva virgen extra Picual Casa Juncal.\t\n"
   ]
  },
  {
   "cell_type": "markdown",
   "metadata": {},
   "source": [
    "**CREACION DE BASE DE DATOS EN DBEAVER**"
   ]
  },
  {
   "cell_type": "markdown",
   "metadata": {},
   "source": [
    "Primero diseño los Data Frames que serán mis futuras tablas en la la base de datos"
   ]
  },
  {
   "cell_type": "code",
   "execution_count": 8,
   "metadata": {},
   "outputs": [],
   "source": [
    "df_supermercados= pd.DataFrame()\n",
    "df_supermercados[\"super\"]= df_total[\"supermercado\"].unique()\n",
    "\n",
    "df_productos= pd.DataFrame()\n",
    "df_productos[\"producto\"]= df_total[\"producto\"].unique()"
   ]
  },
  {
   "cell_type": "code",
   "execution_count": 9,
   "metadata": {},
   "outputs": [],
   "source": [
    "df_diccsupe=f.crear_df_id (df_supermercados, \"super\")\n"
   ]
  },
  {
   "cell_type": "code",
   "execution_count": 10,
   "metadata": {},
   "outputs": [],
   "source": [
    "df_diccpro=f.crear_df_id(df_productos, \"producto\")"
   ]
  },
  {
   "cell_type": "code",
   "execution_count": 11,
   "metadata": {},
   "outputs": [
    {
     "data": {
      "text/html": [
       "<div>\n",
       "<style scoped>\n",
       "    .dataframe tbody tr th:only-of-type {\n",
       "        vertical-align: middle;\n",
       "    }\n",
       "\n",
       "    .dataframe tbody tr th {\n",
       "        vertical-align: top;\n",
       "    }\n",
       "\n",
       "    .dataframe thead th {\n",
       "        text-align: right;\n",
       "    }\n",
       "</style>\n",
       "<table border=\"1\" class=\"dataframe\">\n",
       "  <thead>\n",
       "    <tr style=\"text-align: right;\">\n",
       "      <th></th>\n",
       "      <th>fecha</th>\n",
       "      <th>supermercado</th>\n",
       "      <th>producto</th>\n",
       "      <th>variante</th>\n",
       "      <th>precio</th>\n",
       "      <th>variacion</th>\n",
       "    </tr>\n",
       "  </thead>\n",
       "  <tbody>\n",
       "    <tr>\n",
       "      <th>0</th>\n",
       "      <td>2024-07-12</td>\n",
       "      <td>carrefour</td>\n",
       "      <td>aceite-de-girasol</td>\n",
       "      <td>aceite-de-girasol-capicua-garrafa-5-l</td>\n",
       "      <td>21.4</td>\n",
       "      <td>0.0</td>\n",
       "    </tr>\n",
       "    <tr>\n",
       "      <th>1</th>\n",
       "      <td>2024-07-13</td>\n",
       "      <td>carrefour</td>\n",
       "      <td>aceite-de-girasol</td>\n",
       "      <td>aceite-de-girasol-capicua-garrafa-5-l</td>\n",
       "      <td>21.4</td>\n",
       "      <td>0.0</td>\n",
       "    </tr>\n",
       "    <tr>\n",
       "      <th>2</th>\n",
       "      <td>2024-07-14</td>\n",
       "      <td>carrefour</td>\n",
       "      <td>aceite-de-girasol</td>\n",
       "      <td>aceite-de-girasol-capicua-garrafa-5-l</td>\n",
       "      <td>21.4</td>\n",
       "      <td>0.0</td>\n",
       "    </tr>\n",
       "    <tr>\n",
       "      <th>3</th>\n",
       "      <td>2024-07-15</td>\n",
       "      <td>carrefour</td>\n",
       "      <td>aceite-de-girasol</td>\n",
       "      <td>aceite-de-girasol-capicua-garrafa-5-l</td>\n",
       "      <td>21.4</td>\n",
       "      <td>0.0</td>\n",
       "    </tr>\n",
       "    <tr>\n",
       "      <th>4</th>\n",
       "      <td>2024-07-16</td>\n",
       "      <td>carrefour</td>\n",
       "      <td>aceite-de-girasol</td>\n",
       "      <td>aceite-de-girasol-capicua-garrafa-5-l</td>\n",
       "      <td>21.4</td>\n",
       "      <td>0.0</td>\n",
       "    </tr>\n",
       "  </tbody>\n",
       "</table>\n",
       "</div>"
      ],
      "text/plain": [
       "       fecha supermercado           producto  \\\n",
       "0 2024-07-12    carrefour  aceite-de-girasol   \n",
       "1 2024-07-13    carrefour  aceite-de-girasol   \n",
       "2 2024-07-14    carrefour  aceite-de-girasol   \n",
       "3 2024-07-15    carrefour  aceite-de-girasol   \n",
       "4 2024-07-16    carrefour  aceite-de-girasol   \n",
       "\n",
       "                                variante  precio  variacion  \n",
       "0  aceite-de-girasol-capicua-garrafa-5-l    21.4        0.0  \n",
       "1  aceite-de-girasol-capicua-garrafa-5-l    21.4        0.0  \n",
       "2  aceite-de-girasol-capicua-garrafa-5-l    21.4        0.0  \n",
       "3  aceite-de-girasol-capicua-garrafa-5-l    21.4        0.0  \n",
       "4  aceite-de-girasol-capicua-garrafa-5-l    21.4        0.0  "
      ]
     },
     "execution_count": 11,
     "metadata": {},
     "output_type": "execute_result"
    }
   ],
   "source": [
    "df_principal= pd.DataFrame()\n",
    "df_principal[\"fecha\"]= df_total[\"Día\"]\n",
    "df_principal[\"supermercado\"]= df_total[\"supermercado\"]\n",
    "df_principal[\"producto\"]= df_total[\"producto\"]\n",
    "df_principal[\"variante\"]=df_total[\"variante\"]\n",
    "df_principal[\"precio\"]= df_total[\"Precio (€)\"]\n",
    "df_principal[\"variacion\"]=df_total[\"Variación\"]\n",
    "df_principal.head()"
   ]
  },
  {
   "cell_type": "code",
   "execution_count": 12,
   "metadata": {},
   "outputs": [
    {
     "data": {
      "text/html": [
       "<div>\n",
       "<style scoped>\n",
       "    .dataframe tbody tr th:only-of-type {\n",
       "        vertical-align: middle;\n",
       "    }\n",
       "\n",
       "    .dataframe tbody tr th {\n",
       "        vertical-align: top;\n",
       "    }\n",
       "\n",
       "    .dataframe thead th {\n",
       "        text-align: right;\n",
       "    }\n",
       "</style>\n",
       "<table border=\"1\" class=\"dataframe\">\n",
       "  <thead>\n",
       "    <tr style=\"text-align: right;\">\n",
       "      <th></th>\n",
       "      <th>fecha</th>\n",
       "      <th>supermercado</th>\n",
       "      <th>variante</th>\n",
       "      <th>precio</th>\n",
       "      <th>variacion</th>\n",
       "      <th>id_producto</th>\n",
       "    </tr>\n",
       "  </thead>\n",
       "  <tbody>\n",
       "    <tr>\n",
       "      <th>5869</th>\n",
       "      <td>2024-10-18</td>\n",
       "      <td>carrefour</td>\n",
       "      <td>aceite-de-oliva-virgen-extra-de-nuestra-tierra...</td>\n",
       "      <td>30.80</td>\n",
       "      <td>0.00</td>\n",
       "      <td>2</td>\n",
       "    </tr>\n",
       "    <tr>\n",
       "      <th>19009</th>\n",
       "      <td>2024-07-04</td>\n",
       "      <td>mercadona</td>\n",
       "      <td>aceite-de-oliva-virgen-extra-hacendado-02-l</td>\n",
       "      <td>3.14</td>\n",
       "      <td>0.00</td>\n",
       "      <td>2</td>\n",
       "    </tr>\n",
       "    <tr>\n",
       "      <th>56883</th>\n",
       "      <td>2024-10-01</td>\n",
       "      <td>dia</td>\n",
       "      <td>leche-semidesnatada-calcio-pascual-movit-brik-1-l</td>\n",
       "      <td>3.05</td>\n",
       "      <td>0.06</td>\n",
       "      <td>3</td>\n",
       "    </tr>\n",
       "  </tbody>\n",
       "</table>\n",
       "</div>"
      ],
      "text/plain": [
       "           fecha supermercado  \\\n",
       "5869  2024-10-18    carrefour   \n",
       "19009 2024-07-04    mercadona   \n",
       "56883 2024-10-01          dia   \n",
       "\n",
       "                                                variante  precio  variacion  \\\n",
       "5869   aceite-de-oliva-virgen-extra-de-nuestra-tierra...   30.80       0.00   \n",
       "19009        aceite-de-oliva-virgen-extra-hacendado-02-l    3.14       0.00   \n",
       "56883  leche-semidesnatada-calcio-pascual-movit-brik-1-l    3.05       0.06   \n",
       "\n",
       "       id_producto  \n",
       "5869             2  \n",
       "19009            2  \n",
       "56883            3  "
      ]
     },
     "execution_count": 12,
     "metadata": {},
     "output_type": "execute_result"
    }
   ],
   "source": [
    "f.añadir_id_mapeado(df_diccpro,\"producto\",\"id_producto\",\"producto\",\"id_producto\", df_principal).sample(3)"
   ]
  },
  {
   "cell_type": "code",
   "execution_count": 13,
   "metadata": {},
   "outputs": [
    {
     "data": {
      "text/html": [
       "<div>\n",
       "<style scoped>\n",
       "    .dataframe tbody tr th:only-of-type {\n",
       "        vertical-align: middle;\n",
       "    }\n",
       "\n",
       "    .dataframe tbody tr th {\n",
       "        vertical-align: top;\n",
       "    }\n",
       "\n",
       "    .dataframe thead th {\n",
       "        text-align: right;\n",
       "    }\n",
       "</style>\n",
       "<table border=\"1\" class=\"dataframe\">\n",
       "  <thead>\n",
       "    <tr style=\"text-align: right;\">\n",
       "      <th></th>\n",
       "      <th>fecha</th>\n",
       "      <th>variante</th>\n",
       "      <th>precio</th>\n",
       "      <th>variacion</th>\n",
       "      <th>id_producto</th>\n",
       "      <th>id_supermercado</th>\n",
       "    </tr>\n",
       "  </thead>\n",
       "  <tbody>\n",
       "    <tr>\n",
       "      <th>128793</th>\n",
       "      <td>2024-08-20</td>\n",
       "      <td>président-leche-desnatada-de-vaca-de-origen-10...</td>\n",
       "      <td>1.45</td>\n",
       "      <td>0.0</td>\n",
       "      <td>3</td>\n",
       "      <td>6</td>\n",
       "    </tr>\n",
       "    <tr>\n",
       "      <th>63058</th>\n",
       "      <td>2024-10-22</td>\n",
       "      <td>borges-aceite-de-oliva-intenso-08-garrafa-5-l</td>\n",
       "      <td>56.92</td>\n",
       "      <td>0.0</td>\n",
       "      <td>2</td>\n",
       "      <td>5</td>\n",
       "    </tr>\n",
       "    <tr>\n",
       "      <th>52478</th>\n",
       "      <td>2024-08-15</td>\n",
       "      <td>leche-desnatada-lauki-brik-1-l</td>\n",
       "      <td>9.54</td>\n",
       "      <td>0.0</td>\n",
       "      <td>3</td>\n",
       "      <td>4</td>\n",
       "    </tr>\n",
       "  </tbody>\n",
       "</table>\n",
       "</div>"
      ],
      "text/plain": [
       "            fecha                                           variante  precio  \\\n",
       "128793 2024-08-20  président-leche-desnatada-de-vaca-de-origen-10...    1.45   \n",
       "63058  2024-10-22      borges-aceite-de-oliva-intenso-08-garrafa-5-l   56.92   \n",
       "52478  2024-08-15                     leche-desnatada-lauki-brik-1-l    9.54   \n",
       "\n",
       "        variacion  id_producto  id_supermercado  \n",
       "128793        0.0            3                6  \n",
       "63058         0.0            2                5  \n",
       "52478         0.0            3                4  "
      ]
     },
     "execution_count": 13,
     "metadata": {},
     "output_type": "execute_result"
    }
   ],
   "source": [
    "f.añadir_id_mapeado(df_diccsupe,\"super\",\"id_super\",\"supermercado\",\"id_supermercado\", df_principal).sample(3)"
   ]
  },
  {
   "cell_type": "code",
   "execution_count": 14,
   "metadata": {},
   "outputs": [],
   "source": [
    "df_principal.index = pd.RangeIndex(start=1,stop = len(df_principal)+1,step=1)\n",
    "df_principal[\"id_principal\"]=df_principal.index\n"
   ]
  },
  {
   "cell_type": "code",
   "execution_count": 15,
   "metadata": {},
   "outputs": [
    {
     "data": {
      "text/html": [
       "<div>\n",
       "<style scoped>\n",
       "    .dataframe tbody tr th:only-of-type {\n",
       "        vertical-align: middle;\n",
       "    }\n",
       "\n",
       "    .dataframe tbody tr th {\n",
       "        vertical-align: top;\n",
       "    }\n",
       "\n",
       "    .dataframe thead th {\n",
       "        text-align: right;\n",
       "    }\n",
       "</style>\n",
       "<table border=\"1\" class=\"dataframe\">\n",
       "  <thead>\n",
       "    <tr style=\"text-align: right;\">\n",
       "      <th></th>\n",
       "      <th>fecha</th>\n",
       "      <th>variante</th>\n",
       "      <th>precio</th>\n",
       "      <th>variacion</th>\n",
       "      <th>id_producto</th>\n",
       "      <th>id_supermercado</th>\n",
       "      <th>id_principal</th>\n",
       "    </tr>\n",
       "  </thead>\n",
       "  <tbody>\n",
       "    <tr>\n",
       "      <th>1</th>\n",
       "      <td>2024-07-12</td>\n",
       "      <td>aceite-de-girasol-capicua-garrafa-5-l</td>\n",
       "      <td>21.4</td>\n",
       "      <td>0.0</td>\n",
       "      <td>1</td>\n",
       "      <td>1</td>\n",
       "      <td>1</td>\n",
       "    </tr>\n",
       "    <tr>\n",
       "      <th>2</th>\n",
       "      <td>2024-07-13</td>\n",
       "      <td>aceite-de-girasol-capicua-garrafa-5-l</td>\n",
       "      <td>21.4</td>\n",
       "      <td>0.0</td>\n",
       "      <td>1</td>\n",
       "      <td>1</td>\n",
       "      <td>2</td>\n",
       "    </tr>\n",
       "  </tbody>\n",
       "</table>\n",
       "</div>"
      ],
      "text/plain": [
       "       fecha                               variante  precio  variacion  \\\n",
       "1 2024-07-12  aceite-de-girasol-capicua-garrafa-5-l    21.4        0.0   \n",
       "2 2024-07-13  aceite-de-girasol-capicua-garrafa-5-l    21.4        0.0   \n",
       "\n",
       "   id_producto  id_supermercado  id_principal  \n",
       "1            1                1             1  \n",
       "2            1                1             2  "
      ]
     },
     "execution_count": 15,
     "metadata": {},
     "output_type": "execute_result"
    }
   ],
   "source": [
    "df_principal.head(2)"
   ]
  },
  {
   "cell_type": "code",
   "execution_count": 16,
   "metadata": {},
   "outputs": [
    {
     "data": {
      "text/html": [
       "<div>\n",
       "<style scoped>\n",
       "    .dataframe tbody tr th:only-of-type {\n",
       "        vertical-align: middle;\n",
       "    }\n",
       "\n",
       "    .dataframe tbody tr th {\n",
       "        vertical-align: top;\n",
       "    }\n",
       "\n",
       "    .dataframe thead th {\n",
       "        text-align: right;\n",
       "    }\n",
       "</style>\n",
       "<table border=\"1\" class=\"dataframe\">\n",
       "  <thead>\n",
       "    <tr style=\"text-align: right;\">\n",
       "      <th></th>\n",
       "      <th>fecha</th>\n",
       "      <th>variante</th>\n",
       "      <th>precio</th>\n",
       "      <th>variacion</th>\n",
       "      <th>id_producto</th>\n",
       "      <th>id_supermercado</th>\n",
       "      <th>id_principal</th>\n",
       "    </tr>\n",
       "  </thead>\n",
       "  <tbody>\n",
       "    <tr>\n",
       "      <th>91631</th>\n",
       "      <td>2024-10-15</td>\n",
       "      <td>lacturale-leche-semidesnatada-brik-1-l</td>\n",
       "      <td>1.26</td>\n",
       "      <td>0.0</td>\n",
       "      <td>3</td>\n",
       "      <td>5</td>\n",
       "      <td>91631</td>\n",
       "    </tr>\n",
       "    <tr>\n",
       "      <th>42286</th>\n",
       "      <td>2024-09-13</td>\n",
       "      <td>leche-semidesnatada-calcio-pascual-brik-1-litro</td>\n",
       "      <td>1.75</td>\n",
       "      <td>0.0</td>\n",
       "      <td>3</td>\n",
       "      <td>3</td>\n",
       "      <td>42286</td>\n",
       "    </tr>\n",
       "    <tr>\n",
       "      <th>79016</th>\n",
       "      <td>2024-08-01</td>\n",
       "      <td>oro-bailen-aceite-de-oliva-virgen-extra-picual...</td>\n",
       "      <td>13.29</td>\n",
       "      <td>0.0</td>\n",
       "      <td>2</td>\n",
       "      <td>5</td>\n",
       "      <td>79016</td>\n",
       "    </tr>\n",
       "    <tr>\n",
       "      <th>85585</th>\n",
       "      <td>2024-08-31</td>\n",
       "      <td>covap-leche-desnatada-sin-lactosa-brik-1-l</td>\n",
       "      <td>1.39</td>\n",
       "      <td>0.0</td>\n",
       "      <td>3</td>\n",
       "      <td>5</td>\n",
       "      <td>85585</td>\n",
       "    </tr>\n",
       "    <tr>\n",
       "      <th>131921</th>\n",
       "      <td>2024-10-09</td>\n",
       "      <td>puleva-leche-semidesnatada-de-vacas-con-alimen...</td>\n",
       "      <td>6.54</td>\n",
       "      <td>0.0</td>\n",
       "      <td>3</td>\n",
       "      <td>6</td>\n",
       "      <td>131921</td>\n",
       "    </tr>\n",
       "  </tbody>\n",
       "</table>\n",
       "</div>"
      ],
      "text/plain": [
       "            fecha                                           variante  precio  \\\n",
       "91631  2024-10-15             lacturale-leche-semidesnatada-brik-1-l    1.26   \n",
       "42286  2024-09-13    leche-semidesnatada-calcio-pascual-brik-1-litro    1.75   \n",
       "79016  2024-08-01  oro-bailen-aceite-de-oliva-virgen-extra-picual...   13.29   \n",
       "85585  2024-08-31         covap-leche-desnatada-sin-lactosa-brik-1-l    1.39   \n",
       "131921 2024-10-09  puleva-leche-semidesnatada-de-vacas-con-alimen...    6.54   \n",
       "\n",
       "        variacion  id_producto  id_supermercado  id_principal  \n",
       "91631         0.0            3                5         91631  \n",
       "42286         0.0            3                3         42286  \n",
       "79016         0.0            2                5         79016  \n",
       "85585         0.0            3                5         85585  \n",
       "131921        0.0            3                6        131921  "
      ]
     },
     "execution_count": 16,
     "metadata": {},
     "output_type": "execute_result"
    }
   ],
   "source": [
    "df_principal.sample(5)"
   ]
  },
  {
   "cell_type": "markdown",
   "metadata": {},
   "source": [
    "Ahora conecto con mi base de datos para empezar a crear allí las tablas con los datos"
   ]
  },
  {
   "cell_type": "code",
   "execution_count": 17,
   "metadata": {},
   "outputs": [],
   "source": [
    "try:\n",
    "    conexion= psycopg2.connect(\n",
    "        database= \"Precios_productos_basicos\",\n",
    "        user= \"postgres\",\n",
    "        password= \"admin\",\n",
    "        host= \"localhost\",\n",
    "        port= \"5432\"\n",
    "    )\n",
    "except OperationalError as e:\n",
    "    if e.pgcode == errorcodes.INVALID_PASSWORD:\n",
    "        print(\"La contraseña es erronea\")\n",
    "    elif e.pgcode == errorcodes.CONNECTION_EXCEPTION:\n",
    "        print(\"Error de conexion\")\n",
    "    else:\n",
    "        print(f\"Ocurrió el error {e}\")"
   ]
  },
  {
   "cell_type": "markdown",
   "metadata": {},
   "source": [
    "TABLA Supers"
   ]
  },
  {
   "cell_type": "code",
   "execution_count": 18,
   "metadata": {},
   "outputs": [],
   "source": [
    "cursor= conexion.cursor()\n",
    "query_creacion= \"\"\"\n",
    "CREATE TABLE IF NOT EXISTS mercados(\n",
    "    super VARCHAR(100),\n",
    "    id_super INT PRIMARY KEY   \n",
    ");\n",
    "\"\"\"\n",
    "cursor.execute(query_creacion)   \n",
    "conexion.commit()"
   ]
  },
  {
   "cell_type": "code",
   "execution_count": 19,
   "metadata": {},
   "outputs": [],
   "source": [
    "lista_de_tuplas=[]\n",
    "for fila in df_diccsupe.values:\n",
    "    lista_de_tuplas.append(tuple(fila))\n"
   ]
  },
  {
   "cell_type": "code",
   "execution_count": 20,
   "metadata": {},
   "outputs": [],
   "source": [
    "     \n",
    "query_insercion= \"INSERT INTO mercados (super, id_super) VALUES (%s, %s);\"      #%s es como el format de los strings (la f)\n",
    "\n",
    "cursor.executemany(query_insercion, lista_de_tuplas)                 #Executemany es para poder insertar varios valores\n",
    "conexion.commit()"
   ]
  },
  {
   "cell_type": "markdown",
   "metadata": {},
   "source": [
    "TABLA PRODUCTOS"
   ]
  },
  {
   "cell_type": "code",
   "execution_count": 21,
   "metadata": {},
   "outputs": [],
   "source": [
    "cursor=conexion.cursor()\n",
    "query_creacion= \"\"\"\n",
    "CREATE TABLE IF NOT EXISTS productos(\n",
    "    producto VARCHAR(100),\n",
    "    id_producto INT PRIMARY KEY\n",
    ");\n",
    "\"\"\" \n",
    "cursor.execute(query_creacion)\n",
    "conexion.commit()"
   ]
  },
  {
   "cell_type": "code",
   "execution_count": 22,
   "metadata": {},
   "outputs": [],
   "source": [
    "lista_de_tuplas= []\n",
    "for fila in df_diccpro.values:\n",
    "    lista_de_tuplas.append(tuple(fila))"
   ]
  },
  {
   "cell_type": "code",
   "execution_count": 23,
   "metadata": {},
   "outputs": [],
   "source": [
    "query_insercion= \"INSERT INTO productos(producto, id_producto)  VALUES (%s,%s);\"\n",
    "cursor.executemany(query_insercion, lista_de_tuplas)\n",
    "conexion.commit()"
   ]
  },
  {
   "cell_type": "markdown",
   "metadata": {},
   "source": [
    "TABLA PRINCIPAL"
   ]
  },
  {
   "cell_type": "code",
   "execution_count": 24,
   "metadata": {},
   "outputs": [],
   "source": [
    "cursor=conexion.cursor()\n",
    "query_creacion= \"\"\"\n",
    "CREATE TABLE IF NOT EXISTS principal(\n",
    "    fecha DATE,\n",
    "    variante VARCHAR(300),\n",
    "    precio FLOAT,\n",
    "    variacion FLOAT,\n",
    "    id_producto INT,\n",
    "    id_super INT,\n",
    "    id_principal INT PRIMARY KEY,\n",
    "    FOREIGN KEY (id_producto) REFERENCES productos(id_producto) ON DELETE RESTRICT ON UPDATE CASCADE,\n",
    "    FOREIGN KEY (id_super) REFERENCES mercados(id_super) ON DELETE RESTRICT ON UPDATE CASCADE\n",
    ");\n",
    "\"\"\" \n",
    "cursor.execute(query_creacion)\n",
    "conexion.commit()\n"
   ]
  },
  {
   "cell_type": "code",
   "execution_count": 25,
   "metadata": {},
   "outputs": [],
   "source": [
    "lista_de_tuplas= []\n",
    "for fila in df_principal.values:\n",
    "    lista_de_tuplas.append(tuple(fila))"
   ]
  },
  {
   "cell_type": "code",
   "execution_count": 26,
   "metadata": {},
   "outputs": [],
   "source": [
    "query_insercion= \"INSERT INTO principal (fecha, variante, precio, variacion, id_producto, id_super, id_principal) VALUES (%s, %s, %s, %s, %s, %s,%s);\"      #%s es como el format de los strings (la f)\n",
    "\n",
    "cursor.executemany(query_insercion, lista_de_tuplas)                 #Executemany es para poder insertar varios valores\n",
    "conexion.commit()"
   ]
  },
  {
   "cell_type": "markdown",
   "metadata": {},
   "source": [
    "QUERYS PARA ANALIZAR"
   ]
  },
  {
   "cell_type": "markdown",
   "metadata": {},
   "source": [
    "Comparación de Precios entre Supermercados: Determinar qué supermercados ofrecen los precios más bajos y cuáles son más caros para cada producto."
   ]
  },
  {
   "cell_type": "code",
   "execution_count": 27,
   "metadata": {},
   "outputs": [],
   "source": [
    "cursor=conexion.cursor()\n",
    "query_precios_super=\"\"\"\n",
    "SELECT m.super ,p2.producto, MIN(p.precio) AS PrecioMin,  MAX(p.precio) AS PrecioMax\n",
    "FROM mercados m\n",
    "INNER JOIN principal p ON m.id_super = p.id_super\n",
    "INNER JOIN productos p2 ON p.id_producto = p2.id_producto \n",
    "GROUP BY m.super, p2.producto \n",
    "ORDER BY PrecioMin, PrecioMax DESC;\n",
    "\"\"\"\n",
    "cursor.execute(query_precios_super)\n",
    "df_precios_super_mi_max= pd.DataFrame(cursor.fetchall())"
   ]
  },
  {
   "cell_type": "code",
   "execution_count": 28,
   "metadata": {},
   "outputs": [
    {
     "data": {
      "text/html": [
       "<div>\n",
       "<style scoped>\n",
       "    .dataframe tbody tr th:only-of-type {\n",
       "        vertical-align: middle;\n",
       "    }\n",
       "\n",
       "    .dataframe tbody tr th {\n",
       "        vertical-align: top;\n",
       "    }\n",
       "\n",
       "    .dataframe thead th {\n",
       "        text-align: right;\n",
       "    }\n",
       "</style>\n",
       "<table border=\"1\" class=\"dataframe\">\n",
       "  <thead>\n",
       "    <tr style=\"text-align: right;\">\n",
       "      <th></th>\n",
       "      <th>0</th>\n",
       "      <th>1</th>\n",
       "      <th>2</th>\n",
       "      <th>3</th>\n",
       "    </tr>\n",
       "  </thead>\n",
       "  <tbody>\n",
       "    <tr>\n",
       "      <th>0</th>\n",
       "      <td>alcampo</td>\n",
       "      <td>leche</td>\n",
       "      <td>0.50</td>\n",
       "      <td>23.43</td>\n",
       "    </tr>\n",
       "    <tr>\n",
       "      <th>1</th>\n",
       "      <td>hipercor</td>\n",
       "      <td>leche</td>\n",
       "      <td>0.64</td>\n",
       "      <td>16.95</td>\n",
       "    </tr>\n",
       "    <tr>\n",
       "      <th>2</th>\n",
       "      <td>dia</td>\n",
       "      <td>leche</td>\n",
       "      <td>0.69</td>\n",
       "      <td>14.64</td>\n",
       "    </tr>\n",
       "    <tr>\n",
       "      <th>3</th>\n",
       "      <td>carrefour</td>\n",
       "      <td>leche</td>\n",
       "      <td>0.72</td>\n",
       "      <td>46.30</td>\n",
       "    </tr>\n",
       "    <tr>\n",
       "      <th>4</th>\n",
       "      <td>eroski</td>\n",
       "      <td>leche</td>\n",
       "      <td>0.73</td>\n",
       "      <td>6.85</td>\n",
       "    </tr>\n",
       "  </tbody>\n",
       "</table>\n",
       "</div>"
      ],
      "text/plain": [
       "           0      1     2      3\n",
       "0    alcampo  leche  0.50  23.43\n",
       "1   hipercor  leche  0.64  16.95\n",
       "2        dia  leche  0.69  14.64\n",
       "3  carrefour  leche  0.72  46.30\n",
       "4     eroski  leche  0.73   6.85"
      ]
     },
     "execution_count": 28,
     "metadata": {},
     "output_type": "execute_result"
    }
   ],
   "source": [
    "df_precios_super_mi_max.head()"
   ]
  },
  {
   "cell_type": "markdown",
   "metadata": {},
   "source": [
    "Análisis de la Evolución de Precios: Estudiar cómo han cambiado los precios de los productos a lo largo del tiempo en distintos supermercados."
   ]
  },
  {
   "cell_type": "code",
   "execution_count": 29,
   "metadata": {},
   "outputs": [],
   "source": [
    "cursor=conexion.cursor()\n",
    "query_evol_precios=\"\"\"\n",
    "SELECT p.fecha, m.super, p2.producto, SUM(p.variacion) OVER (PARTITION BY m.super, p2.producto ORDER BY p.fecha) AS PrecioAcumulado\n",
    "FROM mercados m\n",
    "INNER JOIN principal p ON m.id_super = p.id_super\n",
    "INNER JOIN productos p2 ON p.id_producto = p2.id_producto\n",
    "ORDER BY p2.producto, m.super, p.fecha;\n",
    "\"\"\"\n",
    "cursor.execute(query_evol_precios)\n",
    "df_evol_precios_super= pd.DataFrame(cursor.fetchall())"
   ]
  },
  {
   "cell_type": "code",
   "execution_count": 30,
   "metadata": {},
   "outputs": [
    {
     "data": {
      "text/html": [
       "<div>\n",
       "<style scoped>\n",
       "    .dataframe tbody tr th:only-of-type {\n",
       "        vertical-align: middle;\n",
       "    }\n",
       "\n",
       "    .dataframe tbody tr th {\n",
       "        vertical-align: top;\n",
       "    }\n",
       "\n",
       "    .dataframe thead th {\n",
       "        text-align: right;\n",
       "    }\n",
       "</style>\n",
       "<table border=\"1\" class=\"dataframe\">\n",
       "  <thead>\n",
       "    <tr style=\"text-align: right;\">\n",
       "      <th></th>\n",
       "      <th>0</th>\n",
       "      <th>1</th>\n",
       "      <th>2</th>\n",
       "      <th>3</th>\n",
       "    </tr>\n",
       "  </thead>\n",
       "  <tbody>\n",
       "    <tr>\n",
       "      <th>95255</th>\n",
       "      <td>2024-09-19</td>\n",
       "      <td>dia</td>\n",
       "      <td>leche</td>\n",
       "      <td>-0.50</td>\n",
       "    </tr>\n",
       "    <tr>\n",
       "      <th>5098</th>\n",
       "      <td>2024-07-30</td>\n",
       "      <td>hipercor</td>\n",
       "      <td>aceite-de-girasol</td>\n",
       "      <td>-0.18</td>\n",
       "    </tr>\n",
       "    <tr>\n",
       "      <th>29286</th>\n",
       "      <td>2024-08-06</td>\n",
       "      <td>dia</td>\n",
       "      <td>aceite-de-oliva</td>\n",
       "      <td>-18.99</td>\n",
       "    </tr>\n",
       "    <tr>\n",
       "      <th>2194</th>\n",
       "      <td>2024-08-19</td>\n",
       "      <td>carrefour</td>\n",
       "      <td>aceite-de-girasol</td>\n",
       "      <td>-2.36</td>\n",
       "    </tr>\n",
       "    <tr>\n",
       "      <th>55562</th>\n",
       "      <td>2024-09-10</td>\n",
       "      <td>hipercor</td>\n",
       "      <td>aceite-de-oliva</td>\n",
       "      <td>-206.77</td>\n",
       "    </tr>\n",
       "  </tbody>\n",
       "</table>\n",
       "</div>"
      ],
      "text/plain": [
       "                0          1                  2       3\n",
       "95255  2024-09-19        dia              leche   -0.50\n",
       "5098   2024-07-30   hipercor  aceite-de-girasol   -0.18\n",
       "29286  2024-08-06        dia    aceite-de-oliva  -18.99\n",
       "2194   2024-08-19  carrefour  aceite-de-girasol   -2.36\n",
       "55562  2024-09-10   hipercor    aceite-de-oliva -206.77"
      ]
     },
     "execution_count": 30,
     "metadata": {},
     "output_type": "execute_result"
    }
   ],
   "source": [
    "df_evol_precios_super.sample(5)"
   ]
  },
  {
   "cell_type": "markdown",
   "metadata": {},
   "source": [
    "Detección de Anomalías: Identificar subidas o bajadas de precios inusuales que podrían señalar prácticas abusivas o promociones."
   ]
  },
  {
   "cell_type": "code",
   "execution_count": 31,
   "metadata": {},
   "outputs": [],
   "source": [
    "cursor=conexion.cursor()\n",
    "query_anomalia_precios=\"\"\"\n",
    "SELECT fecha, super, p2.producto, sum(p.variacion)  \n",
    "FROM mercados m \n",
    "INNER JOIN principal p ON m.id_super = p.id_super\n",
    "INNER JOIN productos p2 ON p.id_producto = p2.id_producto \n",
    "GROUP BY super, p2.producto, fecha;\n",
    "\"\"\"\n",
    "cursor.execute(query_anomalia_precios)\n",
    "df_precios_anomalias_supers= pd.DataFrame(cursor.fetchall())"
   ]
  },
  {
   "cell_type": "code",
   "execution_count": 32,
   "metadata": {},
   "outputs": [
    {
     "data": {
      "text/html": [
       "<div>\n",
       "<style scoped>\n",
       "    .dataframe tbody tr th:only-of-type {\n",
       "        vertical-align: middle;\n",
       "    }\n",
       "\n",
       "    .dataframe tbody tr th {\n",
       "        vertical-align: top;\n",
       "    }\n",
       "\n",
       "    .dataframe thead th {\n",
       "        text-align: right;\n",
       "    }\n",
       "</style>\n",
       "<table border=\"1\" class=\"dataframe\">\n",
       "  <thead>\n",
       "    <tr style=\"text-align: right;\">\n",
       "      <th></th>\n",
       "      <th>0</th>\n",
       "      <th>1</th>\n",
       "      <th>2</th>\n",
       "      <th>3</th>\n",
       "    </tr>\n",
       "  </thead>\n",
       "  <tbody>\n",
       "    <tr>\n",
       "      <th>1514</th>\n",
       "      <td>2024-10-25</td>\n",
       "      <td>hipercor</td>\n",
       "      <td>aceite-de-oliva</td>\n",
       "      <td>-5.08</td>\n",
       "    </tr>\n",
       "    <tr>\n",
       "      <th>1390</th>\n",
       "      <td>2024-10-25</td>\n",
       "      <td>hipercor</td>\n",
       "      <td>aceite-de-girasol</td>\n",
       "      <td>0.00</td>\n",
       "    </tr>\n",
       "    <tr>\n",
       "      <th>1269</th>\n",
       "      <td>2024-09-28</td>\n",
       "      <td>eroski</td>\n",
       "      <td>leche</td>\n",
       "      <td>0.00</td>\n",
       "    </tr>\n",
       "    <tr>\n",
       "      <th>1003</th>\n",
       "      <td>2024-08-20</td>\n",
       "      <td>eroski</td>\n",
       "      <td>aceite-de-girasol</td>\n",
       "      <td>0.00</td>\n",
       "    </tr>\n",
       "    <tr>\n",
       "      <th>781</th>\n",
       "      <td>2024-08-09</td>\n",
       "      <td>dia</td>\n",
       "      <td>aceite-de-oliva</td>\n",
       "      <td>0.00</td>\n",
       "    </tr>\n",
       "  </tbody>\n",
       "</table>\n",
       "</div>"
      ],
      "text/plain": [
       "               0         1                  2     3\n",
       "1514  2024-10-25  hipercor    aceite-de-oliva -5.08\n",
       "1390  2024-10-25  hipercor  aceite-de-girasol  0.00\n",
       "1269  2024-09-28    eroski              leche  0.00\n",
       "1003  2024-08-20    eroski  aceite-de-girasol  0.00\n",
       "781   2024-08-09       dia    aceite-de-oliva  0.00"
      ]
     },
     "execution_count": 32,
     "metadata": {},
     "output_type": "execute_result"
    }
   ],
   "source": [
    "df_precios_anomalias_supers.sample(5)"
   ]
  },
  {
   "cell_type": "markdown",
   "metadata": {},
   "source": [
    "Análisis de la Dispersión de Precios: Evaluar la variabilidad de los precios de un mismo producto en diferentes supermercados.  \n",
    "\n",
    "PARA HACER ESTO UN BOX PLOT DE LA VARIACION DEL PRECIO\n",
    "\n"
   ]
  },
  {
   "cell_type": "markdown",
   "metadata": {},
   "source": [
    "Comparación de Precios Promedio: Calcular y comparar los precios promedio de cada producto en diferentes supermercados."
   ]
  },
  {
   "cell_type": "code",
   "execution_count": 33,
   "metadata": {},
   "outputs": [],
   "source": [
    "cursor=conexion.cursor()\n",
    "query_precios_super=\"\"\"\n",
    "SELECT m.super ,p2.producto, p.precio\n",
    "FROM mercados m\n",
    "INNER JOIN principal p ON m.id_super = p.id_super\n",
    "INNER JOIN productos p2 ON p.id_producto = p2.id_producto \n",
    "WHERE fecha = current_date ;\n",
    "\"\"\"\n",
    "cursor.execute(query_precios_super)\n",
    "df_precios_super_mi_max= pd.DataFrame(cursor.fetchall())"
   ]
  }
 ],
 "metadata": {
  "kernelspec": {
   "display_name": "Python 3",
   "language": "python",
   "name": "python3"
  },
  "language_info": {
   "codemirror_mode": {
    "name": "ipython",
    "version": 3
   },
   "file_extension": ".py",
   "mimetype": "text/x-python",
   "name": "python",
   "nbconvert_exporter": "python",
   "pygments_lexer": "ipython3",
   "version": "3.11.9"
  }
 },
 "nbformat": 4,
 "nbformat_minor": 2
}
