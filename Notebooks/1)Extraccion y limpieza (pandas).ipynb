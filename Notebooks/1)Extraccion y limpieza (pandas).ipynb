{
 "cells": [
  {
   "cell_type": "code",
   "execution_count": 70,
   "metadata": {},
   "outputs": [],
   "source": [
    "import pandas as pd\n",
    "import requests\n",
    "import selenium\n",
    "from selenium import webdriver  # Selenium es una herramienta para automatizar la interacción con navegadores web.\n",
    "from webdriver_manager.chrome import ChromeDriverManager  # ChromeDriverManager gestiona la instalación del controlador de Chrome.\n",
    "from selenium.webdriver.common.keys import Keys  # Keys es útil para simular eventos de teclado en Selenium.\n",
    "from selenium.webdriver.support.ui import Select  # Select se utiliza para interactuar con elementos <select> en páginas web.\n",
    "from selenium.webdriver.support.ui import WebDriverWait\n",
    "from selenium.webdriver.support import expected_conditions as EC\n",
    "from selenium.common.exceptions import NoSuchElementException # Excepciones comunes de selenium que nos podemos encontrar \n",
    "from bs4 import BeautifulSoup\n",
    "from time import sleep \n",
    "import re\n",
    "import sys \n",
    "import os\n",
    "sys.path.append(os.path.abspath(\"../src\"))   \n",
    "from datetime import datetime\n",
    "\n",
    "\n",
    "import funciones as f"
   ]
  },
  {
   "cell_type": "markdown",
   "metadata": {},
   "source": [
    "Sacar lista supers"
   ]
  },
  {
   "cell_type": "code",
   "execution_count": 7,
   "metadata": {},
   "outputs": [
    {
     "data": {
      "text/plain": [
       "['mercadona', 'alcampo', 'carrefour', 'hipercor', 'dia', 'eroski']"
      ]
     },
     "execution_count": 7,
     "metadata": {},
     "output_type": "execute_result"
    }
   ],
   "source": [
    "url_super = \"https://super.facua.org/\"\n",
    "res_facua = requests.get(url_super)\n",
    "sopa_mercados = BeautifulSoup(res_facua.content, \"html.parser\")\n",
    "lista_mercados = sopa_mercados.findAll(\"a\", {\"class\" :\"nav-link\"})\n",
    "lista_supers= [mercado.getText().lower() for mercado in lista_mercados]\n",
    "lista_supers.pop()\n",
    "lista_supers\n"
   ]
  },
  {
   "cell_type": "markdown",
   "metadata": {},
   "source": [
    "Sacar lista productos"
   ]
  },
  {
   "cell_type": "code",
   "execution_count": null,
   "metadata": {},
   "outputs": [
    {
     "name": "stdout",
     "output_type": "stream",
     "text": [
      "aceite-de-girasol\n",
      "1\n",
      "aceite-de-oliva\n",
      "2\n",
      "leche\n",
      "3\n"
     ]
    }
   ],
   "source": [
    "url_mercados = f\"https://super.facua.org/mercadona/\"\n",
    "res_producto = requests.get(url_mercados)\n",
    "sopa_productos = BeautifulSoup(res_producto.content, \"html.parser\")\n",
    "lista_prod = sopa_productos.findAll(\"p\", {\"class\" :\"fw-bolder\"})\n",
    "lista_productos= [mercado.getText().lower().replace(\" \", \"-\") for mercado in lista_prod]\n",
    "for i, producto in enumerate(lista_productos,start=1):\n",
    "    id_prod= i\n",
    "    nombre_producto= producto\n",
    "    print(nombre_producto)\n",
    "    print(id_prod)\n"
   ]
  },
  {
   "cell_type": "markdown",
   "metadata": {},
   "source": [
    "Sacar lista variantes\n"
   ]
  },
  {
   "cell_type": "code",
   "execution_count": null,
   "metadata": {},
   "outputs": [
    {
     "name": "stdout",
     "output_type": "stream",
     "text": [
      "1\n",
      "aceite-de-girasol-refinado-02-hacendado-1-l\n",
      "2\n",
      "aceite-de-girasol-refinado-02-hacendado-5-l\n"
     ]
    }
   ],
   "source": [
    "url_variante = \"https://super.facua.org/mercadona/aceite-de-girasol/\"\n",
    "res_variante= requests.get(url_variante)\n",
    "sopa_variante = BeautifulSoup(res_variante.content, \"html.parser\")\n",
    "lista_var = sopa_variante.findAll(\"p\", {\"class\" :\"fw-bolder\"})\n",
    "lista_variantes= [variante.getText().lower().replace(\" \", \"-\").replace(\",\", \"\").replace(\"º\",\"\").replace(\".\",\"\") for variante in lista_var]\n",
    "for i, variante in enumerate(lista_variantes, start=1):\n",
    "    id_var= i\n",
    "    nombre_variante= variante\n",
    "    print(id_var)\n",
    "    print(nombre_variante)"
   ]
  },
  {
   "cell_type": "code",
   "execution_count": 48,
   "metadata": {},
   "outputs": [],
   "source": [
    "for mercado in lista_supers:\n",
    "    df_tablas= pd.DataFrame()\n",
    "    driver = webdriver.Chrome()\n",
    "    url_mercados = f\"https://super.facua.org/{mercado}/\"\n",
    "    driver.get(url_mercados)\n",
    "    sleep(3)\n",
    "    #aceptar cookie\n",
    "    driver.find_element(\"css selector\", \"#rcc-confirm-button\").click()\n",
    "    #hacer aquí la lista de productos\n",
    "    res_producto = requests.get(url_mercados)\n",
    "    sopa_productos = BeautifulSoup(res_producto.content, \"html.parser\")\n",
    "    lista_prod = sopa_productos.findAll(\"p\", {\"class\" :\"fw-bolder\"})\n",
    "    lista_productos= [prod.getText().lower().replace(\" \", \"-\") for prod in lista_prod]\n",
    "\n",
    "    for i, producto in enumerate(lista_productos):\n",
    "        driver.execute_script(\"window.scrollBy(0, 200);\")\n",
    "        sleep(2)\n",
    "        #selecciona producto\n",
    "        driver.find_element(\"css selector\", f\"body > section:nth-child(4) > div > div.row.gx-4.gx-lg-5.row-cols-2.row-cols-md-3.row-cols-xl-4.justify-content-center > div:nth-child({i+1}) > div > div.card-footer.p-4.pt-0.border-top-0.bg-transparent > div > a\").click()\n",
    "        sopa_variante = BeautifulSoup(driver.page_source, \"html.parser\")\n",
    "        lista_var = sopa_variante.findAll(\"p\", {\"class\" :\"fw-bolder\"})\n",
    "        lista_variantes= [variante.getText().lower().replace(\" \", \"-\").replace(\",\", \"\").replace(\"º\",\"\").replace(\".\",\"\") for variante in lista_var]\n",
    "        lista_variantes_bien=[]\n",
    "        for elemento in lista_variantes:\n",
    "            if elemento.startswith(\"aceite\") or elemento.startswith(\"leche\"):\n",
    "                lista_variantes_bien.append(elemento)\n",
    "        for j ,variante in enumerate(lista_variantes_bien):\n",
    "            while True:\n",
    "                #selecciona variante\n",
    "                try:\n",
    "                    sleep(2)\n",
    "                    driver.find_element(\"css selector\", f\"body > section:nth-child(4) > div > div:nth-child(7) > div:nth-child({j+1}) > div > div.card-footer.p-4.pt-0.border-top-0.bg-transparent > div > a\").click()\n",
    "                    break\n",
    "                except:\n",
    "                    driver.execute_script(\"window.scrollBy(0, 200);\")\n",
    "            sopa_mercados = BeautifulSoup(driver.page_source, \"html.parser\")\n",
    "            tabla_general= sopa_mercados.findAll(\"table\")\n",
    "            tablaindiv=tabla_general[-1]\n",
    "            #por aquí crear las columnas necesarias usando lista de productos y variante (mercado se pone formateado tal cual)\n",
    "            df_tablas=pd.concat([df_tablas, f.sacar_tabla(tablaindiv,mercado,producto,variante)])\n",
    "            driver.back()\n",
    "        driver.back()    \n",
    "    driver.close()\n",
    "    df_tablas.to_csv(f'../datos/datos{mercado}.csv', index=False)\n"
   ]
  },
  {
   "cell_type": "code",
   "execution_count": 4,
   "metadata": {},
   "outputs": [
    {
     "ename": "NameError",
     "evalue": "name 'df_tablas' is not defined",
     "output_type": "error",
     "traceback": [
      "\u001b[1;31m---------------------------------------------------------------------------\u001b[0m",
      "\u001b[1;31mNameError\u001b[0m                                 Traceback (most recent call last)",
      "Cell \u001b[1;32mIn[4], line 1\u001b[0m\n\u001b[1;32m----> 1\u001b[0m \u001b[43mdf_tablas\u001b[49m\u001b[38;5;241m.\u001b[39mhead()\n",
      "\u001b[1;31mNameError\u001b[0m: name 'df_tablas' is not defined"
     ]
    }
   ],
   "source": [
    "df_tablas.head()"
   ]
  },
  {
   "cell_type": "markdown",
   "metadata": {},
   "source": [
    "Carga de datos"
   ]
  },
  {
   "cell_type": "code",
   "execution_count": 6,
   "metadata": {},
   "outputs": [],
   "source": [
    "alcampo=pd.read_csv(\"../datos/datosalcampo.csv\")\n",
    "mercadona=pd.read_csv(\"../datos/datosmercadona.csv\")\n",
    "carrefour=pd.read_csv(\"../datos/datoscarrefour.csv\")\n",
    "dia=pd.read_csv(\"../datos/datosdia.csv\")\n",
    "eroski=pd.read_csv(\"../datos/datoseroski.csv\")\n",
    "hipercor=pd.read_csv(\"../datos/datoshipercor.csv\")"
   ]
  },
  {
   "cell_type": "code",
   "execution_count": 53,
   "metadata": {},
   "outputs": [
    {
     "data": {
      "text/html": [
       "<div>\n",
       "<style scoped>\n",
       "    .dataframe tbody tr th:only-of-type {\n",
       "        vertical-align: middle;\n",
       "    }\n",
       "\n",
       "    .dataframe tbody tr th {\n",
       "        vertical-align: top;\n",
       "    }\n",
       "\n",
       "    .dataframe thead th {\n",
       "        text-align: right;\n",
       "    }\n",
       "</style>\n",
       "<table border=\"1\" class=\"dataframe\">\n",
       "  <thead>\n",
       "    <tr style=\"text-align: right;\">\n",
       "      <th></th>\n",
       "      <th>Día</th>\n",
       "      <th>Precio (€)</th>\n",
       "      <th>Variación</th>\n",
       "      <th>supermercado</th>\n",
       "      <th>producto</th>\n",
       "      <th>variante</th>\n",
       "    </tr>\n",
       "  </thead>\n",
       "  <tbody>\n",
       "    <tr>\n",
       "      <th>0</th>\n",
       "      <td>02/07/2024</td>\n",
       "      <td>57,13</td>\n",
       "      <td>=</td>\n",
       "      <td>alcampo</td>\n",
       "      <td>aceite-de-oliva</td>\n",
       "      <td>aceite-de-oliva-virgen-extra-procedente-aceitu...</td>\n",
       "    </tr>\n",
       "    <tr>\n",
       "      <th>1</th>\n",
       "      <td>03/07/2024</td>\n",
       "      <td>57,13</td>\n",
       "      <td>=</td>\n",
       "      <td>alcampo</td>\n",
       "      <td>aceite-de-oliva</td>\n",
       "      <td>aceite-de-oliva-virgen-extra-procedente-aceitu...</td>\n",
       "    </tr>\n",
       "    <tr>\n",
       "      <th>2</th>\n",
       "      <td>04/07/2024</td>\n",
       "      <td>57,13</td>\n",
       "      <td>=</td>\n",
       "      <td>alcampo</td>\n",
       "      <td>aceite-de-oliva</td>\n",
       "      <td>aceite-de-oliva-virgen-extra-procedente-aceitu...</td>\n",
       "    </tr>\n",
       "    <tr>\n",
       "      <th>3</th>\n",
       "      <td>05/07/2024</td>\n",
       "      <td>57,13</td>\n",
       "      <td>=</td>\n",
       "      <td>alcampo</td>\n",
       "      <td>aceite-de-oliva</td>\n",
       "      <td>aceite-de-oliva-virgen-extra-procedente-aceitu...</td>\n",
       "    </tr>\n",
       "    <tr>\n",
       "      <th>4</th>\n",
       "      <td>06/07/2024</td>\n",
       "      <td>57,13</td>\n",
       "      <td>=</td>\n",
       "      <td>alcampo</td>\n",
       "      <td>aceite-de-oliva</td>\n",
       "      <td>aceite-de-oliva-virgen-extra-procedente-aceitu...</td>\n",
       "    </tr>\n",
       "  </tbody>\n",
       "</table>\n",
       "</div>"
      ],
      "text/plain": [
       "          Día Precio (€) Variación supermercado         producto  \\\n",
       "0  02/07/2024      57,13         =      alcampo  aceite-de-oliva   \n",
       "1  03/07/2024      57,13         =      alcampo  aceite-de-oliva   \n",
       "2  04/07/2024      57,13         =      alcampo  aceite-de-oliva   \n",
       "3  05/07/2024      57,13         =      alcampo  aceite-de-oliva   \n",
       "4  06/07/2024      57,13         =      alcampo  aceite-de-oliva   \n",
       "\n",
       "                                            variante  \n",
       "0  aceite-de-oliva-virgen-extra-procedente-aceitu...  \n",
       "1  aceite-de-oliva-virgen-extra-procedente-aceitu...  \n",
       "2  aceite-de-oliva-virgen-extra-procedente-aceitu...  \n",
       "3  aceite-de-oliva-virgen-extra-procedente-aceitu...  \n",
       "4  aceite-de-oliva-virgen-extra-procedente-aceitu...  "
      ]
     },
     "execution_count": 53,
     "metadata": {},
     "output_type": "execute_result"
    }
   ],
   "source": [
    "alcampo.head()"
   ]
  },
  {
   "cell_type": "code",
   "execution_count": 55,
   "metadata": {},
   "outputs": [
    {
     "data": {
      "text/html": [
       "<div>\n",
       "<style scoped>\n",
       "    .dataframe tbody tr th:only-of-type {\n",
       "        vertical-align: middle;\n",
       "    }\n",
       "\n",
       "    .dataframe tbody tr th {\n",
       "        vertical-align: top;\n",
       "    }\n",
       "\n",
       "    .dataframe thead th {\n",
       "        text-align: right;\n",
       "    }\n",
       "</style>\n",
       "<table border=\"1\" class=\"dataframe\">\n",
       "  <thead>\n",
       "    <tr style=\"text-align: right;\">\n",
       "      <th></th>\n",
       "      <th>Día</th>\n",
       "      <th>Precio (€)</th>\n",
       "      <th>Variación</th>\n",
       "      <th>supermercado</th>\n",
       "      <th>producto</th>\n",
       "      <th>variante</th>\n",
       "    </tr>\n",
       "  </thead>\n",
       "  <tbody>\n",
       "    <tr>\n",
       "      <th>0</th>\n",
       "      <td>12/07/2024</td>\n",
       "      <td>1,45</td>\n",
       "      <td>=</td>\n",
       "      <td>mercadona</td>\n",
       "      <td>aceite-de-girasol</td>\n",
       "      <td>aceite-de-girasol-refinado-02-hacendado-1-l</td>\n",
       "    </tr>\n",
       "    <tr>\n",
       "      <th>1</th>\n",
       "      <td>13/07/2024</td>\n",
       "      <td>1,45</td>\n",
       "      <td>=</td>\n",
       "      <td>mercadona</td>\n",
       "      <td>aceite-de-girasol</td>\n",
       "      <td>aceite-de-girasol-refinado-02-hacendado-1-l</td>\n",
       "    </tr>\n",
       "    <tr>\n",
       "      <th>2</th>\n",
       "      <td>14/07/2024</td>\n",
       "      <td>1,45</td>\n",
       "      <td>=</td>\n",
       "      <td>mercadona</td>\n",
       "      <td>aceite-de-girasol</td>\n",
       "      <td>aceite-de-girasol-refinado-02-hacendado-1-l</td>\n",
       "    </tr>\n",
       "    <tr>\n",
       "      <th>3</th>\n",
       "      <td>15/07/2024</td>\n",
       "      <td>1,45</td>\n",
       "      <td>=</td>\n",
       "      <td>mercadona</td>\n",
       "      <td>aceite-de-girasol</td>\n",
       "      <td>aceite-de-girasol-refinado-02-hacendado-1-l</td>\n",
       "    </tr>\n",
       "    <tr>\n",
       "      <th>4</th>\n",
       "      <td>16/07/2024</td>\n",
       "      <td>1,45</td>\n",
       "      <td>=</td>\n",
       "      <td>mercadona</td>\n",
       "      <td>aceite-de-girasol</td>\n",
       "      <td>aceite-de-girasol-refinado-02-hacendado-1-l</td>\n",
       "    </tr>\n",
       "  </tbody>\n",
       "</table>\n",
       "</div>"
      ],
      "text/plain": [
       "          Día Precio (€) Variación supermercado           producto  \\\n",
       "0  12/07/2024       1,45         =    mercadona  aceite-de-girasol   \n",
       "1  13/07/2024       1,45         =    mercadona  aceite-de-girasol   \n",
       "2  14/07/2024       1,45         =    mercadona  aceite-de-girasol   \n",
       "3  15/07/2024       1,45         =    mercadona  aceite-de-girasol   \n",
       "4  16/07/2024       1,45         =    mercadona  aceite-de-girasol   \n",
       "\n",
       "                                      variante  \n",
       "0  aceite-de-girasol-refinado-02-hacendado-1-l  \n",
       "1  aceite-de-girasol-refinado-02-hacendado-1-l  \n",
       "2  aceite-de-girasol-refinado-02-hacendado-1-l  \n",
       "3  aceite-de-girasol-refinado-02-hacendado-1-l  \n",
       "4  aceite-de-girasol-refinado-02-hacendado-1-l  "
      ]
     },
     "execution_count": 55,
     "metadata": {},
     "output_type": "execute_result"
    }
   ],
   "source": [
    "mercadona.head()"
   ]
  },
  {
   "cell_type": "code",
   "execution_count": 56,
   "metadata": {},
   "outputs": [
    {
     "data": {
      "text/html": [
       "<div>\n",
       "<style scoped>\n",
       "    .dataframe tbody tr th:only-of-type {\n",
       "        vertical-align: middle;\n",
       "    }\n",
       "\n",
       "    .dataframe tbody tr th {\n",
       "        vertical-align: top;\n",
       "    }\n",
       "\n",
       "    .dataframe thead th {\n",
       "        text-align: right;\n",
       "    }\n",
       "</style>\n",
       "<table border=\"1\" class=\"dataframe\">\n",
       "  <thead>\n",
       "    <tr style=\"text-align: right;\">\n",
       "      <th></th>\n",
       "      <th>Día</th>\n",
       "      <th>Precio (€)</th>\n",
       "      <th>Variación</th>\n",
       "      <th>supermercado</th>\n",
       "      <th>producto</th>\n",
       "      <th>variante</th>\n",
       "    </tr>\n",
       "  </thead>\n",
       "  <tbody>\n",
       "    <tr>\n",
       "      <th>0</th>\n",
       "      <td>12/07/2024</td>\n",
       "      <td>1,89</td>\n",
       "      <td>=</td>\n",
       "      <td>eroski</td>\n",
       "      <td>aceite-de-girasol</td>\n",
       "      <td>aceite-alto-oleico-eroski-botella-1-litro</td>\n",
       "    </tr>\n",
       "    <tr>\n",
       "      <th>1</th>\n",
       "      <td>13/07/2024</td>\n",
       "      <td>1,89</td>\n",
       "      <td>=</td>\n",
       "      <td>eroski</td>\n",
       "      <td>aceite-de-girasol</td>\n",
       "      <td>aceite-alto-oleico-eroski-botella-1-litro</td>\n",
       "    </tr>\n",
       "    <tr>\n",
       "      <th>2</th>\n",
       "      <td>14/07/2024</td>\n",
       "      <td>1,89</td>\n",
       "      <td>=</td>\n",
       "      <td>eroski</td>\n",
       "      <td>aceite-de-girasol</td>\n",
       "      <td>aceite-alto-oleico-eroski-botella-1-litro</td>\n",
       "    </tr>\n",
       "    <tr>\n",
       "      <th>3</th>\n",
       "      <td>15/07/2024</td>\n",
       "      <td>1,89</td>\n",
       "      <td>=</td>\n",
       "      <td>eroski</td>\n",
       "      <td>aceite-de-girasol</td>\n",
       "      <td>aceite-alto-oleico-eroski-botella-1-litro</td>\n",
       "    </tr>\n",
       "    <tr>\n",
       "      <th>4</th>\n",
       "      <td>16/07/2024</td>\n",
       "      <td>1,89</td>\n",
       "      <td>=</td>\n",
       "      <td>eroski</td>\n",
       "      <td>aceite-de-girasol</td>\n",
       "      <td>aceite-alto-oleico-eroski-botella-1-litro</td>\n",
       "    </tr>\n",
       "  </tbody>\n",
       "</table>\n",
       "</div>"
      ],
      "text/plain": [
       "          Día Precio (€) Variación supermercado           producto  \\\n",
       "0  12/07/2024       1,89         =       eroski  aceite-de-girasol   \n",
       "1  13/07/2024       1,89         =       eroski  aceite-de-girasol   \n",
       "2  14/07/2024       1,89         =       eroski  aceite-de-girasol   \n",
       "3  15/07/2024       1,89         =       eroski  aceite-de-girasol   \n",
       "4  16/07/2024       1,89         =       eroski  aceite-de-girasol   \n",
       "\n",
       "                                    variante  \n",
       "0  aceite-alto-oleico-eroski-botella-1-litro  \n",
       "1  aceite-alto-oleico-eroski-botella-1-litro  \n",
       "2  aceite-alto-oleico-eroski-botella-1-litro  \n",
       "3  aceite-alto-oleico-eroski-botella-1-litro  \n",
       "4  aceite-alto-oleico-eroski-botella-1-litro  "
      ]
     },
     "execution_count": 56,
     "metadata": {},
     "output_type": "execute_result"
    }
   ],
   "source": [
    "eroski.head()"
   ]
  },
  {
   "cell_type": "code",
   "execution_count": 57,
   "metadata": {},
   "outputs": [
    {
     "data": {
      "text/html": [
       "<div>\n",
       "<style scoped>\n",
       "    .dataframe tbody tr th:only-of-type {\n",
       "        vertical-align: middle;\n",
       "    }\n",
       "\n",
       "    .dataframe tbody tr th {\n",
       "        vertical-align: top;\n",
       "    }\n",
       "\n",
       "    .dataframe thead th {\n",
       "        text-align: right;\n",
       "    }\n",
       "</style>\n",
       "<table border=\"1\" class=\"dataframe\">\n",
       "  <thead>\n",
       "    <tr style=\"text-align: right;\">\n",
       "      <th></th>\n",
       "      <th>Día</th>\n",
       "      <th>Precio (€)</th>\n",
       "      <th>Variación</th>\n",
       "      <th>supermercado</th>\n",
       "      <th>producto</th>\n",
       "      <th>variante</th>\n",
       "    </tr>\n",
       "  </thead>\n",
       "  <tbody>\n",
       "    <tr>\n",
       "      <th>0</th>\n",
       "      <td>29/08/2024</td>\n",
       "      <td>1,99</td>\n",
       "      <td>=</td>\n",
       "      <td>dia</td>\n",
       "      <td>aceite-de-girasol</td>\n",
       "      <td>aceite-de-girasol-alto-oleico-especial-freidor...</td>\n",
       "    </tr>\n",
       "    <tr>\n",
       "      <th>1</th>\n",
       "      <td>30/08/2024</td>\n",
       "      <td>1,99</td>\n",
       "      <td>=</td>\n",
       "      <td>dia</td>\n",
       "      <td>aceite-de-girasol</td>\n",
       "      <td>aceite-de-girasol-alto-oleico-especial-freidor...</td>\n",
       "    </tr>\n",
       "    <tr>\n",
       "      <th>2</th>\n",
       "      <td>31/08/2024</td>\n",
       "      <td>1,99</td>\n",
       "      <td>=</td>\n",
       "      <td>dia</td>\n",
       "      <td>aceite-de-girasol</td>\n",
       "      <td>aceite-de-girasol-alto-oleico-especial-freidor...</td>\n",
       "    </tr>\n",
       "    <tr>\n",
       "      <th>3</th>\n",
       "      <td>01/09/2024</td>\n",
       "      <td>1,99</td>\n",
       "      <td>=</td>\n",
       "      <td>dia</td>\n",
       "      <td>aceite-de-girasol</td>\n",
       "      <td>aceite-de-girasol-alto-oleico-especial-freidor...</td>\n",
       "    </tr>\n",
       "    <tr>\n",
       "      <th>4</th>\n",
       "      <td>02/09/2024</td>\n",
       "      <td>1,99</td>\n",
       "      <td>=</td>\n",
       "      <td>dia</td>\n",
       "      <td>aceite-de-girasol</td>\n",
       "      <td>aceite-de-girasol-alto-oleico-especial-freidor...</td>\n",
       "    </tr>\n",
       "  </tbody>\n",
       "</table>\n",
       "</div>"
      ],
      "text/plain": [
       "          Día Precio (€) Variación supermercado           producto  \\\n",
       "0  29/08/2024       1,99         =          dia  aceite-de-girasol   \n",
       "1  30/08/2024       1,99         =          dia  aceite-de-girasol   \n",
       "2  31/08/2024       1,99         =          dia  aceite-de-girasol   \n",
       "3  01/09/2024       1,99         =          dia  aceite-de-girasol   \n",
       "4  02/09/2024       1,99         =          dia  aceite-de-girasol   \n",
       "\n",
       "                                            variante  \n",
       "0  aceite-de-girasol-alto-oleico-especial-freidor...  \n",
       "1  aceite-de-girasol-alto-oleico-especial-freidor...  \n",
       "2  aceite-de-girasol-alto-oleico-especial-freidor...  \n",
       "3  aceite-de-girasol-alto-oleico-especial-freidor...  \n",
       "4  aceite-de-girasol-alto-oleico-especial-freidor...  "
      ]
     },
     "execution_count": 57,
     "metadata": {},
     "output_type": "execute_result"
    }
   ],
   "source": [
    "dia.head()"
   ]
  },
  {
   "cell_type": "code",
   "execution_count": 58,
   "metadata": {},
   "outputs": [
    {
     "data": {
      "text/html": [
       "<div>\n",
       "<style scoped>\n",
       "    .dataframe tbody tr th:only-of-type {\n",
       "        vertical-align: middle;\n",
       "    }\n",
       "\n",
       "    .dataframe tbody tr th {\n",
       "        vertical-align: top;\n",
       "    }\n",
       "\n",
       "    .dataframe thead th {\n",
       "        text-align: right;\n",
       "    }\n",
       "</style>\n",
       "<table border=\"1\" class=\"dataframe\">\n",
       "  <thead>\n",
       "    <tr style=\"text-align: right;\">\n",
       "      <th></th>\n",
       "      <th>Día</th>\n",
       "      <th>Precio (€)</th>\n",
       "      <th>Variación</th>\n",
       "      <th>supermercado</th>\n",
       "      <th>producto</th>\n",
       "      <th>variante</th>\n",
       "    </tr>\n",
       "  </thead>\n",
       "  <tbody>\n",
       "    <tr>\n",
       "      <th>0</th>\n",
       "      <td>02/07/2024</td>\n",
       "      <td>14,94</td>\n",
       "      <td>=</td>\n",
       "      <td>hipercor</td>\n",
       "      <td>aceite-de-oliva</td>\n",
       "      <td>aceite-de-oliva-virgen-extra-picual-casa-junca...</td>\n",
       "    </tr>\n",
       "    <tr>\n",
       "      <th>1</th>\n",
       "      <td>11/07/2024</td>\n",
       "      <td>14,94</td>\n",
       "      <td>=</td>\n",
       "      <td>hipercor</td>\n",
       "      <td>aceite-de-oliva</td>\n",
       "      <td>aceite-de-oliva-virgen-extra-picual-casa-junca...</td>\n",
       "    </tr>\n",
       "    <tr>\n",
       "      <th>2</th>\n",
       "      <td>12/07/2024</td>\n",
       "      <td>14,94</td>\n",
       "      <td>=</td>\n",
       "      <td>hipercor</td>\n",
       "      <td>aceite-de-oliva</td>\n",
       "      <td>aceite-de-oliva-virgen-extra-picual-casa-junca...</td>\n",
       "    </tr>\n",
       "    <tr>\n",
       "      <th>3</th>\n",
       "      <td>13/07/2024</td>\n",
       "      <td>14,94</td>\n",
       "      <td>=</td>\n",
       "      <td>hipercor</td>\n",
       "      <td>aceite-de-oliva</td>\n",
       "      <td>aceite-de-oliva-virgen-extra-picual-casa-junca...</td>\n",
       "    </tr>\n",
       "    <tr>\n",
       "      <th>4</th>\n",
       "      <td>14/07/2024</td>\n",
       "      <td>14,94</td>\n",
       "      <td>=</td>\n",
       "      <td>hipercor</td>\n",
       "      <td>aceite-de-oliva</td>\n",
       "      <td>aceite-de-oliva-virgen-extra-picual-casa-junca...</td>\n",
       "    </tr>\n",
       "  </tbody>\n",
       "</table>\n",
       "</div>"
      ],
      "text/plain": [
       "          Día Precio (€) Variación supermercado         producto  \\\n",
       "0  02/07/2024      14,94         =     hipercor  aceite-de-oliva   \n",
       "1  11/07/2024      14,94         =     hipercor  aceite-de-oliva   \n",
       "2  12/07/2024      14,94         =     hipercor  aceite-de-oliva   \n",
       "3  13/07/2024      14,94         =     hipercor  aceite-de-oliva   \n",
       "4  14/07/2024      14,94         =     hipercor  aceite-de-oliva   \n",
       "\n",
       "                                            variante  \n",
       "0  aceite-de-oliva-virgen-extra-picual-casa-junca...  \n",
       "1  aceite-de-oliva-virgen-extra-picual-casa-junca...  \n",
       "2  aceite-de-oliva-virgen-extra-picual-casa-junca...  \n",
       "3  aceite-de-oliva-virgen-extra-picual-casa-junca...  \n",
       "4  aceite-de-oliva-virgen-extra-picual-casa-junca...  "
      ]
     },
     "execution_count": 58,
     "metadata": {},
     "output_type": "execute_result"
    }
   ],
   "source": [
    "hipercor.head()"
   ]
  },
  {
   "cell_type": "code",
   "execution_count": 59,
   "metadata": {},
   "outputs": [
    {
     "data": {
      "text/html": [
       "<div>\n",
       "<style scoped>\n",
       "    .dataframe tbody tr th:only-of-type {\n",
       "        vertical-align: middle;\n",
       "    }\n",
       "\n",
       "    .dataframe tbody tr th {\n",
       "        vertical-align: top;\n",
       "    }\n",
       "\n",
       "    .dataframe thead th {\n",
       "        text-align: right;\n",
       "    }\n",
       "</style>\n",
       "<table border=\"1\" class=\"dataframe\">\n",
       "  <thead>\n",
       "    <tr style=\"text-align: right;\">\n",
       "      <th></th>\n",
       "      <th>Día</th>\n",
       "      <th>Precio (€)</th>\n",
       "      <th>Variación</th>\n",
       "      <th>supermercado</th>\n",
       "      <th>producto</th>\n",
       "      <th>variante</th>\n",
       "    </tr>\n",
       "  </thead>\n",
       "  <tbody>\n",
       "    <tr>\n",
       "      <th>0</th>\n",
       "      <td>12/07/2024</td>\n",
       "      <td>21,40</td>\n",
       "      <td>=</td>\n",
       "      <td>carrefour</td>\n",
       "      <td>aceite-de-girasol</td>\n",
       "      <td>aceite-de-girasol-capicua-garrafa-5-l</td>\n",
       "    </tr>\n",
       "    <tr>\n",
       "      <th>1</th>\n",
       "      <td>13/07/2024</td>\n",
       "      <td>21,40</td>\n",
       "      <td>=</td>\n",
       "      <td>carrefour</td>\n",
       "      <td>aceite-de-girasol</td>\n",
       "      <td>aceite-de-girasol-capicua-garrafa-5-l</td>\n",
       "    </tr>\n",
       "    <tr>\n",
       "      <th>2</th>\n",
       "      <td>14/07/2024</td>\n",
       "      <td>21,40</td>\n",
       "      <td>=</td>\n",
       "      <td>carrefour</td>\n",
       "      <td>aceite-de-girasol</td>\n",
       "      <td>aceite-de-girasol-capicua-garrafa-5-l</td>\n",
       "    </tr>\n",
       "    <tr>\n",
       "      <th>3</th>\n",
       "      <td>15/07/2024</td>\n",
       "      <td>21,40</td>\n",
       "      <td>=</td>\n",
       "      <td>carrefour</td>\n",
       "      <td>aceite-de-girasol</td>\n",
       "      <td>aceite-de-girasol-capicua-garrafa-5-l</td>\n",
       "    </tr>\n",
       "    <tr>\n",
       "      <th>4</th>\n",
       "      <td>16/07/2024</td>\n",
       "      <td>21,40</td>\n",
       "      <td>=</td>\n",
       "      <td>carrefour</td>\n",
       "      <td>aceite-de-girasol</td>\n",
       "      <td>aceite-de-girasol-capicua-garrafa-5-l</td>\n",
       "    </tr>\n",
       "  </tbody>\n",
       "</table>\n",
       "</div>"
      ],
      "text/plain": [
       "          Día Precio (€) Variación supermercado           producto  \\\n",
       "0  12/07/2024      21,40         =    carrefour  aceite-de-girasol   \n",
       "1  13/07/2024      21,40         =    carrefour  aceite-de-girasol   \n",
       "2  14/07/2024      21,40         =    carrefour  aceite-de-girasol   \n",
       "3  15/07/2024      21,40         =    carrefour  aceite-de-girasol   \n",
       "4  16/07/2024      21,40         =    carrefour  aceite-de-girasol   \n",
       "\n",
       "                                variante  \n",
       "0  aceite-de-girasol-capicua-garrafa-5-l  \n",
       "1  aceite-de-girasol-capicua-garrafa-5-l  \n",
       "2  aceite-de-girasol-capicua-garrafa-5-l  \n",
       "3  aceite-de-girasol-capicua-garrafa-5-l  \n",
       "4  aceite-de-girasol-capicua-garrafa-5-l  "
      ]
     },
     "execution_count": 59,
     "metadata": {},
     "output_type": "execute_result"
    }
   ],
   "source": [
    "carrefour.head()"
   ]
  },
  {
   "cell_type": "markdown",
   "metadata": {},
   "source": [
    "Creación Data Frame Total y Exploración inicial"
   ]
  },
  {
   "cell_type": "code",
   "execution_count": 7,
   "metadata": {},
   "outputs": [],
   "source": [
    "df= pd.DataFrame()\n",
    "df_total= pd.concat([df,carrefour,mercadona,eroski,dia,hipercor,alcampo])"
   ]
  },
  {
   "cell_type": "code",
   "execution_count": 8,
   "metadata": {},
   "outputs": [
    {
     "data": {
      "text/html": [
       "<div>\n",
       "<style scoped>\n",
       "    .dataframe tbody tr th:only-of-type {\n",
       "        vertical-align: middle;\n",
       "    }\n",
       "\n",
       "    .dataframe tbody tr th {\n",
       "        vertical-align: top;\n",
       "    }\n",
       "\n",
       "    .dataframe thead th {\n",
       "        text-align: right;\n",
       "    }\n",
       "</style>\n",
       "<table border=\"1\" class=\"dataframe\">\n",
       "  <thead>\n",
       "    <tr style=\"text-align: right;\">\n",
       "      <th></th>\n",
       "      <th>Día</th>\n",
       "      <th>Precio (€)</th>\n",
       "      <th>Variación</th>\n",
       "      <th>supermercado</th>\n",
       "      <th>producto</th>\n",
       "      <th>variante</th>\n",
       "    </tr>\n",
       "  </thead>\n",
       "  <tbody>\n",
       "    <tr>\n",
       "      <th>0</th>\n",
       "      <td>12/07/2024</td>\n",
       "      <td>21,40</td>\n",
       "      <td>=</td>\n",
       "      <td>carrefour</td>\n",
       "      <td>aceite-de-girasol</td>\n",
       "      <td>aceite-de-girasol-capicua-garrafa-5-l</td>\n",
       "    </tr>\n",
       "    <tr>\n",
       "      <th>1</th>\n",
       "      <td>13/07/2024</td>\n",
       "      <td>21,40</td>\n",
       "      <td>=</td>\n",
       "      <td>carrefour</td>\n",
       "      <td>aceite-de-girasol</td>\n",
       "      <td>aceite-de-girasol-capicua-garrafa-5-l</td>\n",
       "    </tr>\n",
       "    <tr>\n",
       "      <th>2</th>\n",
       "      <td>14/07/2024</td>\n",
       "      <td>21,40</td>\n",
       "      <td>=</td>\n",
       "      <td>carrefour</td>\n",
       "      <td>aceite-de-girasol</td>\n",
       "      <td>aceite-de-girasol-capicua-garrafa-5-l</td>\n",
       "    </tr>\n",
       "    <tr>\n",
       "      <th>3</th>\n",
       "      <td>15/07/2024</td>\n",
       "      <td>21,40</td>\n",
       "      <td>=</td>\n",
       "      <td>carrefour</td>\n",
       "      <td>aceite-de-girasol</td>\n",
       "      <td>aceite-de-girasol-capicua-garrafa-5-l</td>\n",
       "    </tr>\n",
       "    <tr>\n",
       "      <th>4</th>\n",
       "      <td>16/07/2024</td>\n",
       "      <td>21,40</td>\n",
       "      <td>=</td>\n",
       "      <td>carrefour</td>\n",
       "      <td>aceite-de-girasol</td>\n",
       "      <td>aceite-de-girasol-capicua-garrafa-5-l</td>\n",
       "    </tr>\n",
       "  </tbody>\n",
       "</table>\n",
       "</div>"
      ],
      "text/plain": [
       "          Día Precio (€) Variación supermercado           producto  \\\n",
       "0  12/07/2024      21,40         =    carrefour  aceite-de-girasol   \n",
       "1  13/07/2024      21,40         =    carrefour  aceite-de-girasol   \n",
       "2  14/07/2024      21,40         =    carrefour  aceite-de-girasol   \n",
       "3  15/07/2024      21,40         =    carrefour  aceite-de-girasol   \n",
       "4  16/07/2024      21,40         =    carrefour  aceite-de-girasol   \n",
       "\n",
       "                                variante  \n",
       "0  aceite-de-girasol-capicua-garrafa-5-l  \n",
       "1  aceite-de-girasol-capicua-garrafa-5-l  \n",
       "2  aceite-de-girasol-capicua-garrafa-5-l  \n",
       "3  aceite-de-girasol-capicua-garrafa-5-l  \n",
       "4  aceite-de-girasol-capicua-garrafa-5-l  "
      ]
     },
     "execution_count": 8,
     "metadata": {},
     "output_type": "execute_result"
    }
   ],
   "source": [
    "df_total.head()"
   ]
  },
  {
   "cell_type": "markdown",
   "metadata": {},
   "source": [
    "**RESULTADOS INICIALES DE EXPLORACION**    \n",
    "\n",
    "\n",
    "Contamos con un Data Frame de 59382 filas y 6 columnas.\n",
    "\n",
    "*Nulos:*  \n",
    "\n",
    "- No cuenta con ningun dato nulo que tengamos que tratar\n",
    "\n",
    "\n",
    "*Duplicados:*  \n",
    "\n",
    "- Contamos con 193 filas duplicadas lo que supone un 0,33% del total de filas.  \n",
    "- Tras analizarlos y comprobar la web, nos dimos cuenta de que los podemos eliminar ya que en la propia web aparecen productos duplicados(Nos quedamos con un Data Frame con 59189 filas y 6 columnas). \n",
    "\n",
    "*Formatos:*  \n",
    "\n",
    "- En la columna variacion quise convertir los iguales a 0, quedarme solo con los porcentajes y luego ya pasar a float.  \n",
    "- En la columna precio cambié las , por los . y los pasé a float.   \n",
    "- En la columna Día la fecha debería estar en formato fecha así que la cambié. \n",
    "\n",
    "\n",
    "\n"
   ]
  },
  {
   "cell_type": "markdown",
   "metadata": {},
   "source": [
    "Tratamos los duplicados"
   ]
  },
  {
   "cell_type": "code",
   "execution_count": 12,
   "metadata": {},
   "outputs": [
    {
     "data": {
      "text/plain": [
       "(59382, 6)"
      ]
     },
     "execution_count": 12,
     "metadata": {},
     "output_type": "execute_result"
    }
   ],
   "source": [
    "df_total.shape"
   ]
  },
  {
   "cell_type": "code",
   "execution_count": 16,
   "metadata": {},
   "outputs": [
    {
     "data": {
      "text/plain": [
       "np.float64(0.33)"
      ]
     },
     "execution_count": 16,
     "metadata": {},
     "output_type": "execute_result"
    }
   ],
   "source": [
    "round((df_total.duplicated().sum()/len(df_total))*100, 2)"
   ]
  },
  {
   "cell_type": "code",
   "execution_count": 27,
   "metadata": {},
   "outputs": [
    {
     "data": {
      "text/html": [
       "<div>\n",
       "<style scoped>\n",
       "    .dataframe tbody tr th:only-of-type {\n",
       "        vertical-align: middle;\n",
       "    }\n",
       "\n",
       "    .dataframe tbody tr th {\n",
       "        vertical-align: top;\n",
       "    }\n",
       "\n",
       "    .dataframe thead th {\n",
       "        text-align: right;\n",
       "    }\n",
       "</style>\n",
       "<table border=\"1\" class=\"dataframe\">\n",
       "  <thead>\n",
       "    <tr style=\"text-align: right;\">\n",
       "      <th></th>\n",
       "      <th>Día</th>\n",
       "      <th>Precio (€)</th>\n",
       "      <th>Variación</th>\n",
       "      <th>supermercado</th>\n",
       "      <th>producto</th>\n",
       "      <th>variante</th>\n",
       "    </tr>\n",
       "  </thead>\n",
       "  <tbody>\n",
       "    <tr>\n",
       "      <th>11616</th>\n",
       "      <td>15/07/2024</td>\n",
       "      <td>1,08</td>\n",
       "      <td>=</td>\n",
       "      <td>carrefour</td>\n",
       "      <td>leche</td>\n",
       "      <td>leche-desnatada-central-lechera-asturiana-brik...</td>\n",
       "    </tr>\n",
       "    <tr>\n",
       "      <th>11617</th>\n",
       "      <td>16/07/2024</td>\n",
       "      <td>1,08</td>\n",
       "      <td>=</td>\n",
       "      <td>carrefour</td>\n",
       "      <td>leche</td>\n",
       "      <td>leche-desnatada-central-lechera-asturiana-brik...</td>\n",
       "    </tr>\n",
       "    <tr>\n",
       "      <th>11618</th>\n",
       "      <td>17/07/2024</td>\n",
       "      <td>1,08</td>\n",
       "      <td>=</td>\n",
       "      <td>carrefour</td>\n",
       "      <td>leche</td>\n",
       "      <td>leche-desnatada-central-lechera-asturiana-brik...</td>\n",
       "    </tr>\n",
       "    <tr>\n",
       "      <th>11619</th>\n",
       "      <td>18/07/2024</td>\n",
       "      <td>1,08</td>\n",
       "      <td>=</td>\n",
       "      <td>carrefour</td>\n",
       "      <td>leche</td>\n",
       "      <td>leche-desnatada-central-lechera-asturiana-brik...</td>\n",
       "    </tr>\n",
       "    <tr>\n",
       "      <th>11620</th>\n",
       "      <td>19/07/2024</td>\n",
       "      <td>1,08</td>\n",
       "      <td>=</td>\n",
       "      <td>carrefour</td>\n",
       "      <td>leche</td>\n",
       "      <td>leche-desnatada-central-lechera-asturiana-brik...</td>\n",
       "    </tr>\n",
       "  </tbody>\n",
       "</table>\n",
       "</div>"
      ],
      "text/plain": [
       "              Día Precio (€) Variación supermercado producto  \\\n",
       "11616  15/07/2024       1,08         =    carrefour    leche   \n",
       "11617  16/07/2024       1,08         =    carrefour    leche   \n",
       "11618  17/07/2024       1,08         =    carrefour    leche   \n",
       "11619  18/07/2024       1,08         =    carrefour    leche   \n",
       "11620  19/07/2024       1,08         =    carrefour    leche   \n",
       "\n",
       "                                                variante  \n",
       "11616  leche-desnatada-central-lechera-asturiana-brik...  \n",
       "11617  leche-desnatada-central-lechera-asturiana-brik...  \n",
       "11618  leche-desnatada-central-lechera-asturiana-brik...  \n",
       "11619  leche-desnatada-central-lechera-asturiana-brik...  \n",
       "11620  leche-desnatada-central-lechera-asturiana-brik...  "
      ]
     },
     "execution_count": 27,
     "metadata": {},
     "output_type": "execute_result"
    }
   ],
   "source": [
    "df_total[df_total.duplicated()].head()"
   ]
  },
  {
   "cell_type": "code",
   "execution_count": 29,
   "metadata": {},
   "outputs": [
    {
     "data": {
      "text/plain": [
       "(59189, 6)"
      ]
     },
     "execution_count": 29,
     "metadata": {},
     "output_type": "execute_result"
    }
   ],
   "source": [
    "df_total.drop_duplicates().shape"
   ]
  },
  {
   "cell_type": "markdown",
   "metadata": {},
   "source": [
    "Formateamos"
   ]
  },
  {
   "cell_type": "code",
   "execution_count": 62,
   "metadata": {},
   "outputs": [
    {
     "name": "stdout",
     "output_type": "stream",
     "text": [
      "<class 'pandas.core.frame.DataFrame'>\n",
      "Index: 59382 entries, 0 to 214\n",
      "Data columns (total 6 columns):\n",
      " #   Column        Non-Null Count  Dtype \n",
      "---  ------        --------------  ----- \n",
      " 0   Día           59382 non-null  object\n",
      " 1   Precio (€)    59382 non-null  object\n",
      " 2   Variación     59382 non-null  object\n",
      " 3   supermercado  59382 non-null  object\n",
      " 4   producto      59382 non-null  object\n",
      " 5   variante      59382 non-null  object\n",
      "dtypes: object(6)\n",
      "memory usage: 3.2+ MB\n"
     ]
    }
   ],
   "source": [
    "df_total.info()"
   ]
  },
  {
   "cell_type": "code",
   "execution_count": 32,
   "metadata": {},
   "outputs": [],
   "source": [
    "df_total[\"Precio (€)\"]=df_total[\"Precio (€)\"].str.replace(\",\", \".\").astype(float)\n",
    "\n"
   ]
  },
  {
   "cell_type": "code",
   "execution_count": 37,
   "metadata": {},
   "outputs": [
    {
     "data": {
      "text/html": [
       "<div>\n",
       "<style scoped>\n",
       "    .dataframe tbody tr th:only-of-type {\n",
       "        vertical-align: middle;\n",
       "    }\n",
       "\n",
       "    .dataframe tbody tr th {\n",
       "        vertical-align: top;\n",
       "    }\n",
       "\n",
       "    .dataframe thead th {\n",
       "        text-align: right;\n",
       "    }\n",
       "</style>\n",
       "<table border=\"1\" class=\"dataframe\">\n",
       "  <thead>\n",
       "    <tr style=\"text-align: right;\">\n",
       "      <th></th>\n",
       "      <th>Día</th>\n",
       "      <th>Precio (€)</th>\n",
       "      <th>Variación</th>\n",
       "      <th>supermercado</th>\n",
       "      <th>producto</th>\n",
       "      <th>variante</th>\n",
       "    </tr>\n",
       "  </thead>\n",
       "  <tbody>\n",
       "    <tr>\n",
       "      <th>11724</th>\n",
       "      <td>07/08/2024</td>\n",
       "      <td>1.09</td>\n",
       "      <td>=</td>\n",
       "      <td>carrefour</td>\n",
       "      <td>leche</td>\n",
       "      <td>leche-desnatada-central-lechera-asturiana-sin-...</td>\n",
       "    </tr>\n",
       "    <tr>\n",
       "      <th>4376</th>\n",
       "      <td>06/08/2024</td>\n",
       "      <td>9.18</td>\n",
       "      <td>=</td>\n",
       "      <td>mercadona</td>\n",
       "      <td>leche</td>\n",
       "      <td>leche-semidesnatada-sin-lactosa-hacendado-9-l</td>\n",
       "    </tr>\n",
       "    <tr>\n",
       "      <th>6529</th>\n",
       "      <td>25/09/2024</td>\n",
       "      <td>1.15</td>\n",
       "      <td>-0,15 (11,54%)</td>\n",
       "      <td>dia</td>\n",
       "      <td>leche</td>\n",
       "      <td>leche-desnatada-sin-lactosa-central-lechera-as...</td>\n",
       "    </tr>\n",
       "    <tr>\n",
       "      <th>293</th>\n",
       "      <td>03/10/2024</td>\n",
       "      <td>1.63</td>\n",
       "      <td>=</td>\n",
       "      <td>eroski</td>\n",
       "      <td>aceite-de-girasol</td>\n",
       "      <td>aceite-de-girasol-eroski-botella-1-litro</td>\n",
       "    </tr>\n",
       "    <tr>\n",
       "      <th>17778</th>\n",
       "      <td>05/09/2024</td>\n",
       "      <td>1.09</td>\n",
       "      <td>=</td>\n",
       "      <td>carrefour</td>\n",
       "      <td>leche</td>\n",
       "      <td>leche-semidesnatada-puleva-sin-gluten-sin-lact...</td>\n",
       "    </tr>\n",
       "  </tbody>\n",
       "</table>\n",
       "</div>"
      ],
      "text/plain": [
       "              Día  Precio (€)       Variación supermercado           producto  \\\n",
       "11724  07/08/2024        1.09               =    carrefour              leche   \n",
       "4376   06/08/2024        9.18               =    mercadona              leche   \n",
       "6529   25/09/2024        1.15  -0,15 (11,54%)          dia              leche   \n",
       "293    03/10/2024        1.63               =       eroski  aceite-de-girasol   \n",
       "17778  05/09/2024        1.09               =    carrefour              leche   \n",
       "\n",
       "                                                variante  \n",
       "11724  leche-desnatada-central-lechera-asturiana-sin-...  \n",
       "4376       leche-semidesnatada-sin-lactosa-hacendado-9-l  \n",
       "6529   leche-desnatada-sin-lactosa-central-lechera-as...  \n",
       "293             aceite-de-girasol-eroski-botella-1-litro  \n",
       "17778  leche-semidesnatada-puleva-sin-gluten-sin-lact...  "
      ]
     },
     "execution_count": 37,
     "metadata": {},
     "output_type": "execute_result"
    }
   ],
   "source": [
    "df_total.sample(5)"
   ]
  },
  {
   "cell_type": "code",
   "execution_count": 66,
   "metadata": {},
   "outputs": [],
   "source": [
    "df_total[\"Variación\"]=df_total[\"Variación\"].str.replace(\"+\",\"\").str.replace(\",\", \".\").str.split(\" \").str[0].str.replace(\"=\", \"0\").astype(float)"
   ]
  },
  {
   "cell_type": "code",
   "execution_count": 76,
   "metadata": {},
   "outputs": [],
   "source": [
    "df_total[\"Día\"]=pd.to_datetime(df_total[\"Día\"], dayfirst= True)"
   ]
  },
  {
   "cell_type": "code",
   "execution_count": 77,
   "metadata": {},
   "outputs": [
    {
     "name": "stdout",
     "output_type": "stream",
     "text": [
      "<class 'pandas.core.frame.DataFrame'>\n",
      "Index: 59382 entries, 0 to 214\n",
      "Data columns (total 6 columns):\n",
      " #   Column        Non-Null Count  Dtype         \n",
      "---  ------        --------------  -----         \n",
      " 0   Día           59382 non-null  datetime64[ns]\n",
      " 1   Precio (€)    59382 non-null  float64       \n",
      " 2   Variación     59382 non-null  float64       \n",
      " 3   supermercado  59382 non-null  object        \n",
      " 4   producto      59382 non-null  object        \n",
      " 5   variante      59382 non-null  object        \n",
      "dtypes: datetime64[ns](1), float64(2), object(3)\n",
      "memory usage: 5.2+ MB\n"
     ]
    }
   ],
   "source": [
    "df_total.info()"
   ]
  },
  {
   "cell_type": "code",
   "execution_count": 68,
   "metadata": {},
   "outputs": [
    {
     "data": {
      "text/html": [
       "<div>\n",
       "<style scoped>\n",
       "    .dataframe tbody tr th:only-of-type {\n",
       "        vertical-align: middle;\n",
       "    }\n",
       "\n",
       "    .dataframe tbody tr th {\n",
       "        vertical-align: top;\n",
       "    }\n",
       "\n",
       "    .dataframe thead th {\n",
       "        text-align: right;\n",
       "    }\n",
       "</style>\n",
       "<table border=\"1\" class=\"dataframe\">\n",
       "  <thead>\n",
       "    <tr style=\"text-align: right;\">\n",
       "      <th></th>\n",
       "      <th>count</th>\n",
       "      <th>mean</th>\n",
       "      <th>std</th>\n",
       "      <th>min</th>\n",
       "      <th>25%</th>\n",
       "      <th>50%</th>\n",
       "      <th>75%</th>\n",
       "      <th>max</th>\n",
       "    </tr>\n",
       "  </thead>\n",
       "  <tbody>\n",
       "    <tr>\n",
       "      <th>Precio (€)</th>\n",
       "      <td>59382.0</td>\n",
       "      <td>7.931182</td>\n",
       "      <td>10.765216</td>\n",
       "      <td>0.69</td>\n",
       "      <td>1.38</td>\n",
       "      <td>3.8</td>\n",
       "      <td>9.75</td>\n",
       "      <td>64.59</td>\n",
       "    </tr>\n",
       "    <tr>\n",
       "      <th>Variación</th>\n",
       "      <td>59382.0</td>\n",
       "      <td>-0.004942</td>\n",
       "      <td>0.528967</td>\n",
       "      <td>-20.69</td>\n",
       "      <td>0.00</td>\n",
       "      <td>0.0</td>\n",
       "      <td>0.00</td>\n",
       "      <td>20.69</td>\n",
       "    </tr>\n",
       "  </tbody>\n",
       "</table>\n",
       "</div>"
      ],
      "text/plain": [
       "              count      mean        std    min   25%  50%   75%    max\n",
       "Precio (€)  59382.0  7.931182  10.765216   0.69  1.38  3.8  9.75  64.59\n",
       "Variación   59382.0 -0.004942   0.528967 -20.69  0.00  0.0  0.00  20.69"
      ]
     },
     "execution_count": 68,
     "metadata": {},
     "output_type": "execute_result"
    }
   ],
   "source": [
    "df_total.describe().T"
   ]
  },
  {
   "cell_type": "code",
   "execution_count": 69,
   "metadata": {},
   "outputs": [
    {
     "data": {
      "text/html": [
       "<div>\n",
       "<style scoped>\n",
       "    .dataframe tbody tr th:only-of-type {\n",
       "        vertical-align: middle;\n",
       "    }\n",
       "\n",
       "    .dataframe tbody tr th {\n",
       "        vertical-align: top;\n",
       "    }\n",
       "\n",
       "    .dataframe thead th {\n",
       "        text-align: right;\n",
       "    }\n",
       "</style>\n",
       "<table border=\"1\" class=\"dataframe\">\n",
       "  <thead>\n",
       "    <tr style=\"text-align: right;\">\n",
       "      <th></th>\n",
       "      <th>count</th>\n",
       "      <th>unique</th>\n",
       "      <th>top</th>\n",
       "      <th>freq</th>\n",
       "    </tr>\n",
       "  </thead>\n",
       "  <tbody>\n",
       "    <tr>\n",
       "      <th>Día</th>\n",
       "      <td>59382</td>\n",
       "      <td>126</td>\n",
       "      <td>14/08/2024</td>\n",
       "      <td>604</td>\n",
       "    </tr>\n",
       "    <tr>\n",
       "      <th>supermercado</th>\n",
       "      <td>59382</td>\n",
       "      <td>6</td>\n",
       "      <td>eroski</td>\n",
       "      <td>23679</td>\n",
       "    </tr>\n",
       "    <tr>\n",
       "      <th>producto</th>\n",
       "      <td>59382</td>\n",
       "      <td>3</td>\n",
       "      <td>leche</td>\n",
       "      <td>31185</td>\n",
       "    </tr>\n",
       "    <tr>\n",
       "      <th>variante</th>\n",
       "      <td>59382</td>\n",
       "      <td>702</td>\n",
       "      <td>aceite-de-oliva-virgen-extra-picual-casa-junca...</td>\n",
       "      <td>207</td>\n",
       "    </tr>\n",
       "  </tbody>\n",
       "</table>\n",
       "</div>"
      ],
      "text/plain": [
       "              count unique                                                top  \\\n",
       "Día           59382    126                                         14/08/2024   \n",
       "supermercado  59382      6                                             eroski   \n",
       "producto      59382      3                                              leche   \n",
       "variante      59382    702  aceite-de-oliva-virgen-extra-picual-casa-junca...   \n",
       "\n",
       "               freq  \n",
       "Día             604  \n",
       "supermercado  23679  \n",
       "producto      31185  \n",
       "variante        207  "
      ]
     },
     "execution_count": 69,
     "metadata": {},
     "output_type": "execute_result"
    }
   ],
   "source": [
    "df_total.describe(include=\"O\").T"
   ]
  }
 ],
 "metadata": {
  "kernelspec": {
   "display_name": "Python 3",
   "language": "python",
   "name": "python3"
  },
  "language_info": {
   "codemirror_mode": {
    "name": "ipython",
    "version": 3
   },
   "file_extension": ".py",
   "mimetype": "text/x-python",
   "name": "python",
   "nbconvert_exporter": "python",
   "pygments_lexer": "ipython3",
   "version": "3.11.9"
  }
 },
 "nbformat": 4,
 "nbformat_minor": 2
}
