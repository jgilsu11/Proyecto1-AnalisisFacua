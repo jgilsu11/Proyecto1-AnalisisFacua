{
 "cells": [
  {
   "cell_type": "code",
   "execution_count": 31,
   "metadata": {},
   "outputs": [],
   "source": [
    "import pandas as pd\n",
    "import requests\n",
    "import selenium\n",
    "from selenium import webdriver  # Selenium es una herramienta para automatizar la interacción con navegadores web.\n",
    "from webdriver_manager.chrome import ChromeDriverManager  # ChromeDriverManager gestiona la instalación del controlador de Chrome.\n",
    "from selenium.webdriver.common.keys import Keys  # Keys es útil para simular eventos de teclado en Selenium.\n",
    "from selenium.webdriver.support.ui import Select  # Select se utiliza para interactuar con elementos <select> en páginas web.\n",
    "from selenium.webdriver.support.ui import WebDriverWait\n",
    "from selenium.webdriver.support import expected_conditions as EC\n",
    "from selenium.common.exceptions import NoSuchElementException # Excepciones comunes de selenium que nos podemos encontrar \n",
    "from bs4 import BeautifulSoup\n",
    "from time import sleep \n",
    "import re\n",
    "import sys \n",
    "import os\n",
    "sys.path.append(os.path.abspath(\"../src\"))   \n",
    "from datetime import datetime\n",
    "import psycopg2\n",
    "from psycopg2 import OperationalError, errorcodes, errors\n",
    "\n",
    "\n",
    "import funciones as f"
   ]
  },
  {
   "cell_type": "markdown",
   "metadata": {},
   "source": [
    "Sacar lista supers"
   ]
  },
  {
   "cell_type": "code",
   "execution_count": 77,
   "metadata": {},
   "outputs": [
    {
     "data": {
      "text/plain": [
       "['mercadona', 'alcampo', 'carrefour', 'hipercor', 'dia', 'eroski']"
      ]
     },
     "execution_count": 77,
     "metadata": {},
     "output_type": "execute_result"
    }
   ],
   "source": [
    "url_super = \"https://super.facua.org/\"\n",
    "res_facua = requests.get(url_super)\n",
    "sopa_mercados = BeautifulSoup(res_facua.content, \"html.parser\")\n",
    "lista_mercados = sopa_mercados.findAll(\"a\", {\"class\" :\"nav-link\"})\n",
    "lista_supers= [mercado.getText().lower() for mercado in lista_mercados]\n",
    "lista_supers.pop()\n",
    "lista_supers\n"
   ]
  },
  {
   "cell_type": "markdown",
   "metadata": {},
   "source": [
    "Sacar lista productos"
   ]
  },
  {
   "cell_type": "code",
   "execution_count": 78,
   "metadata": {},
   "outputs": [
    {
     "name": "stdout",
     "output_type": "stream",
     "text": [
      "aceite-de-girasol\n",
      "1\n",
      "aceite-de-oliva\n",
      "2\n",
      "leche\n",
      "3\n"
     ]
    }
   ],
   "source": [
    "url_mercados = f\"https://super.facua.org/mercadona/\"\n",
    "res_producto = requests.get(url_mercados)\n",
    "sopa_productos = BeautifulSoup(res_producto.content, \"html.parser\")\n",
    "lista_prod = sopa_productos.findAll(\"p\", {\"class\" :\"fw-bolder\"})\n",
    "lista_productos= [mercado.getText().lower().replace(\" \", \"-\") for mercado in lista_prod]\n",
    "for i, producto in enumerate(lista_productos,start=1):\n",
    "    id_prod= i\n",
    "    nombre_producto= producto\n",
    "    print(nombre_producto)\n",
    "    print(id_prod)\n"
   ]
  },
  {
   "cell_type": "markdown",
   "metadata": {},
   "source": [
    "Sacar lista variantes\n"
   ]
  },
  {
   "cell_type": "code",
   "execution_count": 79,
   "metadata": {},
   "outputs": [
    {
     "name": "stdout",
     "output_type": "stream",
     "text": [
      "1\n",
      "aceite-de-girasol-refinado-02-hacendado-1-l\n",
      "2\n",
      "aceite-de-girasol-refinado-02-hacendado-5-l\n"
     ]
    }
   ],
   "source": [
    "url_variante = \"https://super.facua.org/mercadona/aceite-de-girasol/\"\n",
    "res_variante= requests.get(url_variante)\n",
    "sopa_variante = BeautifulSoup(res_variante.content, \"html.parser\")\n",
    "lista_var = sopa_variante.findAll(\"p\", {\"class\" :\"fw-bolder\"})\n",
    "lista_variantes= [variante.getText().lower().replace(\" \", \"-\").replace(\",\", \"\").replace(\"º\",\"\").replace(\".\",\"\") for variante in lista_var]\n",
    "for i, variante in enumerate(lista_variantes, start=1):\n",
    "    id_var= i\n",
    "    nombre_variante= variante\n",
    "    print(id_var)\n",
    "    print(nombre_variante)"
   ]
  },
  {
   "cell_type": "markdown",
   "metadata": {},
   "source": [
    "Lo comento para que no me moleste"
   ]
  },
  {
   "cell_type": "code",
   "execution_count": 2,
   "metadata": {},
   "outputs": [],
   "source": [
    "# for mercado in lista_supers:\n",
    "#     df_tablas= pd.DataFrame()\n",
    "#     driver = webdriver.Chrome()\n",
    "#     url_mercados = f\"https://super.facua.org/{mercado}/\"\n",
    "#     driver.get(url_mercados)\n",
    "#     sleep(3)\n",
    "#     #aceptar cookie\n",
    "#     driver.find_element(\"css selector\", \"#rcc-confirm-button\").click()\n",
    "#     #hacer aquí la lista de productos\n",
    "#     res_producto = requests.get(url_mercados)\n",
    "#     sopa_productos = BeautifulSoup(res_producto.content, \"html.parser\")\n",
    "#     lista_prod = sopa_productos.findAll(\"p\", {\"class\" :\"fw-bolder\"})\n",
    "#     lista_productos= [prod.getText().lower().replace(\" \", \"-\") for prod in lista_prod]\n",
    "\n",
    "#     for i, producto in enumerate(lista_productos):\n",
    "#         driver.execute_script(\"window.scrollBy(0, 200);\")\n",
    "#         sleep(2)\n",
    "#         #selecciona producto\n",
    "#         driver.find_element(\"css selector\", f\"body > section:nth-child(4) > div > div.row.gx-4.gx-lg-5.row-cols-2.row-cols-md-3.row-cols-xl-4.justify-content-center > div:nth-child({i+1}) > div > div.card-footer.p-4.pt-0.border-top-0.bg-transparent > div > a\").click()\n",
    "#         sopa_variante = BeautifulSoup(driver.page_source, \"html.parser\")\n",
    "#         lista_var = sopa_variante.findAll(\"p\", {\"class\" :\"fw-bolder\"})\n",
    "#         lista_variantes= [variante.getText().lower().replace(\" \", \"-\").replace(\",\", \"\").replace(\"º\",\"\").replace(\".\",\"\") for variante in lista_var]\n",
    "#         lista_variantes_bien=[]\n",
    "#         for elemento in lista_variantes:\n",
    "#             if elemento.startswith(\"aceite\") or elemento.startswith(\"leche\"):\n",
    "#                 lista_variantes_bien.append(elemento)\n",
    "#         for j ,variante in enumerate(lista_variantes_bien):\n",
    "#             while True:\n",
    "#                 #selecciona variante\n",
    "#                 try:\n",
    "#                     sleep(2)\n",
    "#                     driver.find_element(\"css selector\", f\"body > section:nth-child(4) > div > div:nth-child(7) > div:nth-child({j+1}) > div > div.card-footer.p-4.pt-0.border-top-0.bg-transparent > div > a\").click()\n",
    "#                     break\n",
    "#                 except:\n",
    "#                     driver.execute_script(\"window.scrollBy(0, 200);\")\n",
    "#             sopa_mercados = BeautifulSoup(driver.page_source, \"html.parser\")\n",
    "#             tabla_general= sopa_mercados.findAll(\"table\")\n",
    "#             tablaindiv=tabla_general[-1]\n",
    "#             #por aquí crear las columnas necesarias usando lista de productos y variante (mercado se pone formateado tal cual)\n",
    "#             df_tablas=pd.concat([df_tablas, f.sacar_tabla(tablaindiv,mercado,producto,variante)])\n",
    "#             driver.back()\n",
    "#         driver.back()    \n",
    "#     driver.close()\n",
    "#     df_tablas.to_csv(f'../datos/datos{mercado}.csv', index=False)\n"
   ]
  },
  {
   "cell_type": "code",
   "execution_count": 3,
   "metadata": {},
   "outputs": [],
   "source": [
    "# df_tablas.head()"
   ]
  },
  {
   "cell_type": "markdown",
   "metadata": {},
   "source": [
    "Carga de datos"
   ]
  },
  {
   "cell_type": "code",
   "execution_count": 2,
   "metadata": {},
   "outputs": [],
   "source": [
    "alcampo=pd.read_csv(\"../datos/datosalcampo.csv\")\n",
    "mercadona=pd.read_csv(\"../datos/datosmercadona.csv\")\n",
    "carrefour=pd.read_csv(\"../datos/datoscarrefour.csv\")\n",
    "dia=pd.read_csv(\"../datos/datosdia.csv\")\n",
    "eroski=pd.read_csv(\"../datos/datoseroski.csv\")\n",
    "hipercor=pd.read_csv(\"../datos/datoshipercor.csv\")"
   ]
  },
  {
   "cell_type": "code",
   "execution_count": 3,
   "metadata": {},
   "outputs": [
    {
     "data": {
      "text/html": [
       "<div>\n",
       "<style scoped>\n",
       "    .dataframe tbody tr th:only-of-type {\n",
       "        vertical-align: middle;\n",
       "    }\n",
       "\n",
       "    .dataframe tbody tr th {\n",
       "        vertical-align: top;\n",
       "    }\n",
       "\n",
       "    .dataframe thead th {\n",
       "        text-align: right;\n",
       "    }\n",
       "</style>\n",
       "<table border=\"1\" class=\"dataframe\">\n",
       "  <thead>\n",
       "    <tr style=\"text-align: right;\">\n",
       "      <th></th>\n",
       "      <th>Día</th>\n",
       "      <th>Precio (€)</th>\n",
       "      <th>Variación</th>\n",
       "      <th>supermercado</th>\n",
       "      <th>producto</th>\n",
       "      <th>variante</th>\n",
       "    </tr>\n",
       "  </thead>\n",
       "  <tbody>\n",
       "    <tr>\n",
       "      <th>0</th>\n",
       "      <td>02/07/2024</td>\n",
       "      <td>57,13</td>\n",
       "      <td>=</td>\n",
       "      <td>alcampo</td>\n",
       "      <td>aceite-de-oliva</td>\n",
       "      <td>aceite-de-oliva-virgen-extra-procedente-aceitu...</td>\n",
       "    </tr>\n",
       "    <tr>\n",
       "      <th>1</th>\n",
       "      <td>03/07/2024</td>\n",
       "      <td>57,13</td>\n",
       "      <td>=</td>\n",
       "      <td>alcampo</td>\n",
       "      <td>aceite-de-oliva</td>\n",
       "      <td>aceite-de-oliva-virgen-extra-procedente-aceitu...</td>\n",
       "    </tr>\n",
       "    <tr>\n",
       "      <th>2</th>\n",
       "      <td>04/07/2024</td>\n",
       "      <td>57,13</td>\n",
       "      <td>=</td>\n",
       "      <td>alcampo</td>\n",
       "      <td>aceite-de-oliva</td>\n",
       "      <td>aceite-de-oliva-virgen-extra-procedente-aceitu...</td>\n",
       "    </tr>\n",
       "    <tr>\n",
       "      <th>3</th>\n",
       "      <td>05/07/2024</td>\n",
       "      <td>57,13</td>\n",
       "      <td>=</td>\n",
       "      <td>alcampo</td>\n",
       "      <td>aceite-de-oliva</td>\n",
       "      <td>aceite-de-oliva-virgen-extra-procedente-aceitu...</td>\n",
       "    </tr>\n",
       "    <tr>\n",
       "      <th>4</th>\n",
       "      <td>06/07/2024</td>\n",
       "      <td>57,13</td>\n",
       "      <td>=</td>\n",
       "      <td>alcampo</td>\n",
       "      <td>aceite-de-oliva</td>\n",
       "      <td>aceite-de-oliva-virgen-extra-procedente-aceitu...</td>\n",
       "    </tr>\n",
       "  </tbody>\n",
       "</table>\n",
       "</div>"
      ],
      "text/plain": [
       "          Día Precio (€) Variación supermercado         producto  \\\n",
       "0  02/07/2024      57,13         =      alcampo  aceite-de-oliva   \n",
       "1  03/07/2024      57,13         =      alcampo  aceite-de-oliva   \n",
       "2  04/07/2024      57,13         =      alcampo  aceite-de-oliva   \n",
       "3  05/07/2024      57,13         =      alcampo  aceite-de-oliva   \n",
       "4  06/07/2024      57,13         =      alcampo  aceite-de-oliva   \n",
       "\n",
       "                                            variante  \n",
       "0  aceite-de-oliva-virgen-extra-procedente-aceitu...  \n",
       "1  aceite-de-oliva-virgen-extra-procedente-aceitu...  \n",
       "2  aceite-de-oliva-virgen-extra-procedente-aceitu...  \n",
       "3  aceite-de-oliva-virgen-extra-procedente-aceitu...  \n",
       "4  aceite-de-oliva-virgen-extra-procedente-aceitu...  "
      ]
     },
     "execution_count": 3,
     "metadata": {},
     "output_type": "execute_result"
    }
   ],
   "source": [
    "alcampo.head()"
   ]
  },
  {
   "cell_type": "code",
   "execution_count": 4,
   "metadata": {},
   "outputs": [
    {
     "data": {
      "text/html": [
       "<div>\n",
       "<style scoped>\n",
       "    .dataframe tbody tr th:only-of-type {\n",
       "        vertical-align: middle;\n",
       "    }\n",
       "\n",
       "    .dataframe tbody tr th {\n",
       "        vertical-align: top;\n",
       "    }\n",
       "\n",
       "    .dataframe thead th {\n",
       "        text-align: right;\n",
       "    }\n",
       "</style>\n",
       "<table border=\"1\" class=\"dataframe\">\n",
       "  <thead>\n",
       "    <tr style=\"text-align: right;\">\n",
       "      <th></th>\n",
       "      <th>Día</th>\n",
       "      <th>Precio (€)</th>\n",
       "      <th>Variación</th>\n",
       "      <th>supermercado</th>\n",
       "      <th>producto</th>\n",
       "      <th>variante</th>\n",
       "    </tr>\n",
       "  </thead>\n",
       "  <tbody>\n",
       "    <tr>\n",
       "      <th>0</th>\n",
       "      <td>12/07/2024</td>\n",
       "      <td>1,45</td>\n",
       "      <td>=</td>\n",
       "      <td>mercadona</td>\n",
       "      <td>aceite-de-girasol</td>\n",
       "      <td>aceite-de-girasol-refinado-02-hacendado-1-l</td>\n",
       "    </tr>\n",
       "    <tr>\n",
       "      <th>1</th>\n",
       "      <td>13/07/2024</td>\n",
       "      <td>1,45</td>\n",
       "      <td>=</td>\n",
       "      <td>mercadona</td>\n",
       "      <td>aceite-de-girasol</td>\n",
       "      <td>aceite-de-girasol-refinado-02-hacendado-1-l</td>\n",
       "    </tr>\n",
       "    <tr>\n",
       "      <th>2</th>\n",
       "      <td>14/07/2024</td>\n",
       "      <td>1,45</td>\n",
       "      <td>=</td>\n",
       "      <td>mercadona</td>\n",
       "      <td>aceite-de-girasol</td>\n",
       "      <td>aceite-de-girasol-refinado-02-hacendado-1-l</td>\n",
       "    </tr>\n",
       "    <tr>\n",
       "      <th>3</th>\n",
       "      <td>15/07/2024</td>\n",
       "      <td>1,45</td>\n",
       "      <td>=</td>\n",
       "      <td>mercadona</td>\n",
       "      <td>aceite-de-girasol</td>\n",
       "      <td>aceite-de-girasol-refinado-02-hacendado-1-l</td>\n",
       "    </tr>\n",
       "    <tr>\n",
       "      <th>4</th>\n",
       "      <td>16/07/2024</td>\n",
       "      <td>1,45</td>\n",
       "      <td>=</td>\n",
       "      <td>mercadona</td>\n",
       "      <td>aceite-de-girasol</td>\n",
       "      <td>aceite-de-girasol-refinado-02-hacendado-1-l</td>\n",
       "    </tr>\n",
       "  </tbody>\n",
       "</table>\n",
       "</div>"
      ],
      "text/plain": [
       "          Día Precio (€) Variación supermercado           producto  \\\n",
       "0  12/07/2024       1,45         =    mercadona  aceite-de-girasol   \n",
       "1  13/07/2024       1,45         =    mercadona  aceite-de-girasol   \n",
       "2  14/07/2024       1,45         =    mercadona  aceite-de-girasol   \n",
       "3  15/07/2024       1,45         =    mercadona  aceite-de-girasol   \n",
       "4  16/07/2024       1,45         =    mercadona  aceite-de-girasol   \n",
       "\n",
       "                                      variante  \n",
       "0  aceite-de-girasol-refinado-02-hacendado-1-l  \n",
       "1  aceite-de-girasol-refinado-02-hacendado-1-l  \n",
       "2  aceite-de-girasol-refinado-02-hacendado-1-l  \n",
       "3  aceite-de-girasol-refinado-02-hacendado-1-l  \n",
       "4  aceite-de-girasol-refinado-02-hacendado-1-l  "
      ]
     },
     "execution_count": 4,
     "metadata": {},
     "output_type": "execute_result"
    }
   ],
   "source": [
    "mercadona.head()"
   ]
  },
  {
   "cell_type": "code",
   "execution_count": 5,
   "metadata": {},
   "outputs": [
    {
     "data": {
      "text/html": [
       "<div>\n",
       "<style scoped>\n",
       "    .dataframe tbody tr th:only-of-type {\n",
       "        vertical-align: middle;\n",
       "    }\n",
       "\n",
       "    .dataframe tbody tr th {\n",
       "        vertical-align: top;\n",
       "    }\n",
       "\n",
       "    .dataframe thead th {\n",
       "        text-align: right;\n",
       "    }\n",
       "</style>\n",
       "<table border=\"1\" class=\"dataframe\">\n",
       "  <thead>\n",
       "    <tr style=\"text-align: right;\">\n",
       "      <th></th>\n",
       "      <th>Día</th>\n",
       "      <th>Precio (€)</th>\n",
       "      <th>Variación</th>\n",
       "      <th>supermercado</th>\n",
       "      <th>producto</th>\n",
       "      <th>variante</th>\n",
       "    </tr>\n",
       "  </thead>\n",
       "  <tbody>\n",
       "    <tr>\n",
       "      <th>0</th>\n",
       "      <td>12/07/2024</td>\n",
       "      <td>1,89</td>\n",
       "      <td>=</td>\n",
       "      <td>eroski</td>\n",
       "      <td>aceite-de-girasol</td>\n",
       "      <td>aceite-alto-oleico-eroski-botella-1-litro</td>\n",
       "    </tr>\n",
       "    <tr>\n",
       "      <th>1</th>\n",
       "      <td>13/07/2024</td>\n",
       "      <td>1,89</td>\n",
       "      <td>=</td>\n",
       "      <td>eroski</td>\n",
       "      <td>aceite-de-girasol</td>\n",
       "      <td>aceite-alto-oleico-eroski-botella-1-litro</td>\n",
       "    </tr>\n",
       "    <tr>\n",
       "      <th>2</th>\n",
       "      <td>14/07/2024</td>\n",
       "      <td>1,89</td>\n",
       "      <td>=</td>\n",
       "      <td>eroski</td>\n",
       "      <td>aceite-de-girasol</td>\n",
       "      <td>aceite-alto-oleico-eroski-botella-1-litro</td>\n",
       "    </tr>\n",
       "    <tr>\n",
       "      <th>3</th>\n",
       "      <td>15/07/2024</td>\n",
       "      <td>1,89</td>\n",
       "      <td>=</td>\n",
       "      <td>eroski</td>\n",
       "      <td>aceite-de-girasol</td>\n",
       "      <td>aceite-alto-oleico-eroski-botella-1-litro</td>\n",
       "    </tr>\n",
       "    <tr>\n",
       "      <th>4</th>\n",
       "      <td>16/07/2024</td>\n",
       "      <td>1,89</td>\n",
       "      <td>=</td>\n",
       "      <td>eroski</td>\n",
       "      <td>aceite-de-girasol</td>\n",
       "      <td>aceite-alto-oleico-eroski-botella-1-litro</td>\n",
       "    </tr>\n",
       "  </tbody>\n",
       "</table>\n",
       "</div>"
      ],
      "text/plain": [
       "          Día Precio (€) Variación supermercado           producto  \\\n",
       "0  12/07/2024       1,89         =       eroski  aceite-de-girasol   \n",
       "1  13/07/2024       1,89         =       eroski  aceite-de-girasol   \n",
       "2  14/07/2024       1,89         =       eroski  aceite-de-girasol   \n",
       "3  15/07/2024       1,89         =       eroski  aceite-de-girasol   \n",
       "4  16/07/2024       1,89         =       eroski  aceite-de-girasol   \n",
       "\n",
       "                                    variante  \n",
       "0  aceite-alto-oleico-eroski-botella-1-litro  \n",
       "1  aceite-alto-oleico-eroski-botella-1-litro  \n",
       "2  aceite-alto-oleico-eroski-botella-1-litro  \n",
       "3  aceite-alto-oleico-eroski-botella-1-litro  \n",
       "4  aceite-alto-oleico-eroski-botella-1-litro  "
      ]
     },
     "execution_count": 5,
     "metadata": {},
     "output_type": "execute_result"
    }
   ],
   "source": [
    "eroski.head()"
   ]
  },
  {
   "cell_type": "code",
   "execution_count": null,
   "metadata": {},
   "outputs": [
    {
     "data": {
      "text/html": [
       "<div>\n",
       "<style scoped>\n",
       "    .dataframe tbody tr th:only-of-type {\n",
       "        vertical-align: middle;\n",
       "    }\n",
       "\n",
       "    .dataframe tbody tr th {\n",
       "        vertical-align: top;\n",
       "    }\n",
       "\n",
       "    .dataframe thead th {\n",
       "        text-align: right;\n",
       "    }\n",
       "</style>\n",
       "<table border=\"1\" class=\"dataframe\">\n",
       "  <thead>\n",
       "    <tr style=\"text-align: right;\">\n",
       "      <th></th>\n",
       "      <th>Día</th>\n",
       "      <th>Precio (€)</th>\n",
       "      <th>Variación</th>\n",
       "      <th>supermercado</th>\n",
       "      <th>producto</th>\n",
       "      <th>variante</th>\n",
       "    </tr>\n",
       "  </thead>\n",
       "  <tbody>\n",
       "    <tr>\n",
       "      <th>0</th>\n",
       "      <td>29/08/2024</td>\n",
       "      <td>1,99</td>\n",
       "      <td>=</td>\n",
       "      <td>dia</td>\n",
       "      <td>aceite-de-girasol</td>\n",
       "      <td>aceite-de-girasol-alto-oleico-especial-freidor...</td>\n",
       "    </tr>\n",
       "    <tr>\n",
       "      <th>1</th>\n",
       "      <td>30/08/2024</td>\n",
       "      <td>1,99</td>\n",
       "      <td>=</td>\n",
       "      <td>dia</td>\n",
       "      <td>aceite-de-girasol</td>\n",
       "      <td>aceite-de-girasol-alto-oleico-especial-freidor...</td>\n",
       "    </tr>\n",
       "    <tr>\n",
       "      <th>2</th>\n",
       "      <td>31/08/2024</td>\n",
       "      <td>1,99</td>\n",
       "      <td>=</td>\n",
       "      <td>dia</td>\n",
       "      <td>aceite-de-girasol</td>\n",
       "      <td>aceite-de-girasol-alto-oleico-especial-freidor...</td>\n",
       "    </tr>\n",
       "    <tr>\n",
       "      <th>3</th>\n",
       "      <td>01/09/2024</td>\n",
       "      <td>1,99</td>\n",
       "      <td>=</td>\n",
       "      <td>dia</td>\n",
       "      <td>aceite-de-girasol</td>\n",
       "      <td>aceite-de-girasol-alto-oleico-especial-freidor...</td>\n",
       "    </tr>\n",
       "    <tr>\n",
       "      <th>4</th>\n",
       "      <td>02/09/2024</td>\n",
       "      <td>1,99</td>\n",
       "      <td>=</td>\n",
       "      <td>dia</td>\n",
       "      <td>aceite-de-girasol</td>\n",
       "      <td>aceite-de-girasol-alto-oleico-especial-freidor...</td>\n",
       "    </tr>\n",
       "  </tbody>\n",
       "</table>\n",
       "</div>"
      ],
      "text/plain": [
       "          Día Precio (€) Variación supermercado           producto  \\\n",
       "0  29/08/2024       1,99         =          dia  aceite-de-girasol   \n",
       "1  30/08/2024       1,99         =          dia  aceite-de-girasol   \n",
       "2  31/08/2024       1,99         =          dia  aceite-de-girasol   \n",
       "3  01/09/2024       1,99         =          dia  aceite-de-girasol   \n",
       "4  02/09/2024       1,99         =          dia  aceite-de-girasol   \n",
       "\n",
       "                                            variante  \n",
       "0  aceite-de-girasol-alto-oleico-especial-freidor...  \n",
       "1  aceite-de-girasol-alto-oleico-especial-freidor...  \n",
       "2  aceite-de-girasol-alto-oleico-especial-freidor...  \n",
       "3  aceite-de-girasol-alto-oleico-especial-freidor...  \n",
       "4  aceite-de-girasol-alto-oleico-especial-freidor...  "
      ]
     },
     "execution_count": 6,
     "metadata": {},
     "output_type": "execute_result"
    }
   ],
   "source": [
    "dia.head()"
   ]
  },
  {
   "cell_type": "code",
   "execution_count": 7,
   "metadata": {},
   "outputs": [
    {
     "data": {
      "text/html": [
       "<div>\n",
       "<style scoped>\n",
       "    .dataframe tbody tr th:only-of-type {\n",
       "        vertical-align: middle;\n",
       "    }\n",
       "\n",
       "    .dataframe tbody tr th {\n",
       "        vertical-align: top;\n",
       "    }\n",
       "\n",
       "    .dataframe thead th {\n",
       "        text-align: right;\n",
       "    }\n",
       "</style>\n",
       "<table border=\"1\" class=\"dataframe\">\n",
       "  <thead>\n",
       "    <tr style=\"text-align: right;\">\n",
       "      <th></th>\n",
       "      <th>Día</th>\n",
       "      <th>Precio (€)</th>\n",
       "      <th>Variación</th>\n",
       "      <th>supermercado</th>\n",
       "      <th>producto</th>\n",
       "      <th>variante</th>\n",
       "    </tr>\n",
       "  </thead>\n",
       "  <tbody>\n",
       "    <tr>\n",
       "      <th>0</th>\n",
       "      <td>02/07/2024</td>\n",
       "      <td>14,94</td>\n",
       "      <td>=</td>\n",
       "      <td>hipercor</td>\n",
       "      <td>aceite-de-oliva</td>\n",
       "      <td>aceite-de-oliva-virgen-extra-picual-casa-junca...</td>\n",
       "    </tr>\n",
       "    <tr>\n",
       "      <th>1</th>\n",
       "      <td>11/07/2024</td>\n",
       "      <td>14,94</td>\n",
       "      <td>=</td>\n",
       "      <td>hipercor</td>\n",
       "      <td>aceite-de-oliva</td>\n",
       "      <td>aceite-de-oliva-virgen-extra-picual-casa-junca...</td>\n",
       "    </tr>\n",
       "    <tr>\n",
       "      <th>2</th>\n",
       "      <td>12/07/2024</td>\n",
       "      <td>14,94</td>\n",
       "      <td>=</td>\n",
       "      <td>hipercor</td>\n",
       "      <td>aceite-de-oliva</td>\n",
       "      <td>aceite-de-oliva-virgen-extra-picual-casa-junca...</td>\n",
       "    </tr>\n",
       "    <tr>\n",
       "      <th>3</th>\n",
       "      <td>13/07/2024</td>\n",
       "      <td>14,94</td>\n",
       "      <td>=</td>\n",
       "      <td>hipercor</td>\n",
       "      <td>aceite-de-oliva</td>\n",
       "      <td>aceite-de-oliva-virgen-extra-picual-casa-junca...</td>\n",
       "    </tr>\n",
       "    <tr>\n",
       "      <th>4</th>\n",
       "      <td>14/07/2024</td>\n",
       "      <td>14,94</td>\n",
       "      <td>=</td>\n",
       "      <td>hipercor</td>\n",
       "      <td>aceite-de-oliva</td>\n",
       "      <td>aceite-de-oliva-virgen-extra-picual-casa-junca...</td>\n",
       "    </tr>\n",
       "  </tbody>\n",
       "</table>\n",
       "</div>"
      ],
      "text/plain": [
       "          Día Precio (€) Variación supermercado         producto  \\\n",
       "0  02/07/2024      14,94         =     hipercor  aceite-de-oliva   \n",
       "1  11/07/2024      14,94         =     hipercor  aceite-de-oliva   \n",
       "2  12/07/2024      14,94         =     hipercor  aceite-de-oliva   \n",
       "3  13/07/2024      14,94         =     hipercor  aceite-de-oliva   \n",
       "4  14/07/2024      14,94         =     hipercor  aceite-de-oliva   \n",
       "\n",
       "                                            variante  \n",
       "0  aceite-de-oliva-virgen-extra-picual-casa-junca...  \n",
       "1  aceite-de-oliva-virgen-extra-picual-casa-junca...  \n",
       "2  aceite-de-oliva-virgen-extra-picual-casa-junca...  \n",
       "3  aceite-de-oliva-virgen-extra-picual-casa-junca...  \n",
       "4  aceite-de-oliva-virgen-extra-picual-casa-junca...  "
      ]
     },
     "execution_count": 7,
     "metadata": {},
     "output_type": "execute_result"
    }
   ],
   "source": [
    "hipercor.head()"
   ]
  },
  {
   "cell_type": "code",
   "execution_count": 8,
   "metadata": {},
   "outputs": [
    {
     "data": {
      "text/html": [
       "<div>\n",
       "<style scoped>\n",
       "    .dataframe tbody tr th:only-of-type {\n",
       "        vertical-align: middle;\n",
       "    }\n",
       "\n",
       "    .dataframe tbody tr th {\n",
       "        vertical-align: top;\n",
       "    }\n",
       "\n",
       "    .dataframe thead th {\n",
       "        text-align: right;\n",
       "    }\n",
       "</style>\n",
       "<table border=\"1\" class=\"dataframe\">\n",
       "  <thead>\n",
       "    <tr style=\"text-align: right;\">\n",
       "      <th></th>\n",
       "      <th>Día</th>\n",
       "      <th>Precio (€)</th>\n",
       "      <th>Variación</th>\n",
       "      <th>supermercado</th>\n",
       "      <th>producto</th>\n",
       "      <th>variante</th>\n",
       "    </tr>\n",
       "  </thead>\n",
       "  <tbody>\n",
       "    <tr>\n",
       "      <th>0</th>\n",
       "      <td>12/07/2024</td>\n",
       "      <td>21,40</td>\n",
       "      <td>=</td>\n",
       "      <td>carrefour</td>\n",
       "      <td>aceite-de-girasol</td>\n",
       "      <td>aceite-de-girasol-capicua-garrafa-5-l</td>\n",
       "    </tr>\n",
       "    <tr>\n",
       "      <th>1</th>\n",
       "      <td>13/07/2024</td>\n",
       "      <td>21,40</td>\n",
       "      <td>=</td>\n",
       "      <td>carrefour</td>\n",
       "      <td>aceite-de-girasol</td>\n",
       "      <td>aceite-de-girasol-capicua-garrafa-5-l</td>\n",
       "    </tr>\n",
       "    <tr>\n",
       "      <th>2</th>\n",
       "      <td>14/07/2024</td>\n",
       "      <td>21,40</td>\n",
       "      <td>=</td>\n",
       "      <td>carrefour</td>\n",
       "      <td>aceite-de-girasol</td>\n",
       "      <td>aceite-de-girasol-capicua-garrafa-5-l</td>\n",
       "    </tr>\n",
       "    <tr>\n",
       "      <th>3</th>\n",
       "      <td>15/07/2024</td>\n",
       "      <td>21,40</td>\n",
       "      <td>=</td>\n",
       "      <td>carrefour</td>\n",
       "      <td>aceite-de-girasol</td>\n",
       "      <td>aceite-de-girasol-capicua-garrafa-5-l</td>\n",
       "    </tr>\n",
       "    <tr>\n",
       "      <th>4</th>\n",
       "      <td>16/07/2024</td>\n",
       "      <td>21,40</td>\n",
       "      <td>=</td>\n",
       "      <td>carrefour</td>\n",
       "      <td>aceite-de-girasol</td>\n",
       "      <td>aceite-de-girasol-capicua-garrafa-5-l</td>\n",
       "    </tr>\n",
       "  </tbody>\n",
       "</table>\n",
       "</div>"
      ],
      "text/plain": [
       "          Día Precio (€) Variación supermercado           producto  \\\n",
       "0  12/07/2024      21,40         =    carrefour  aceite-de-girasol   \n",
       "1  13/07/2024      21,40         =    carrefour  aceite-de-girasol   \n",
       "2  14/07/2024      21,40         =    carrefour  aceite-de-girasol   \n",
       "3  15/07/2024      21,40         =    carrefour  aceite-de-girasol   \n",
       "4  16/07/2024      21,40         =    carrefour  aceite-de-girasol   \n",
       "\n",
       "                                variante  \n",
       "0  aceite-de-girasol-capicua-garrafa-5-l  \n",
       "1  aceite-de-girasol-capicua-garrafa-5-l  \n",
       "2  aceite-de-girasol-capicua-garrafa-5-l  \n",
       "3  aceite-de-girasol-capicua-garrafa-5-l  \n",
       "4  aceite-de-girasol-capicua-garrafa-5-l  "
      ]
     },
     "execution_count": 8,
     "metadata": {},
     "output_type": "execute_result"
    }
   ],
   "source": [
    "carrefour.head()"
   ]
  },
  {
   "cell_type": "markdown",
   "metadata": {},
   "source": [
    "Creación Data Frame Total y Exploración inicial"
   ]
  },
  {
   "cell_type": "code",
   "execution_count": 9,
   "metadata": {},
   "outputs": [],
   "source": [
    "df= pd.DataFrame()\n",
    "df_total= pd.concat([df,carrefour,mercadona,eroski,dia,hipercor,alcampo])"
   ]
  },
  {
   "cell_type": "code",
   "execution_count": 10,
   "metadata": {},
   "outputs": [
    {
     "data": {
      "text/html": [
       "<div>\n",
       "<style scoped>\n",
       "    .dataframe tbody tr th:only-of-type {\n",
       "        vertical-align: middle;\n",
       "    }\n",
       "\n",
       "    .dataframe tbody tr th {\n",
       "        vertical-align: top;\n",
       "    }\n",
       "\n",
       "    .dataframe thead th {\n",
       "        text-align: right;\n",
       "    }\n",
       "</style>\n",
       "<table border=\"1\" class=\"dataframe\">\n",
       "  <thead>\n",
       "    <tr style=\"text-align: right;\">\n",
       "      <th></th>\n",
       "      <th>Día</th>\n",
       "      <th>Precio (€)</th>\n",
       "      <th>Variación</th>\n",
       "      <th>supermercado</th>\n",
       "      <th>producto</th>\n",
       "      <th>variante</th>\n",
       "    </tr>\n",
       "  </thead>\n",
       "  <tbody>\n",
       "    <tr>\n",
       "      <th>0</th>\n",
       "      <td>12/07/2024</td>\n",
       "      <td>21,40</td>\n",
       "      <td>=</td>\n",
       "      <td>carrefour</td>\n",
       "      <td>aceite-de-girasol</td>\n",
       "      <td>aceite-de-girasol-capicua-garrafa-5-l</td>\n",
       "    </tr>\n",
       "    <tr>\n",
       "      <th>1</th>\n",
       "      <td>13/07/2024</td>\n",
       "      <td>21,40</td>\n",
       "      <td>=</td>\n",
       "      <td>carrefour</td>\n",
       "      <td>aceite-de-girasol</td>\n",
       "      <td>aceite-de-girasol-capicua-garrafa-5-l</td>\n",
       "    </tr>\n",
       "    <tr>\n",
       "      <th>2</th>\n",
       "      <td>14/07/2024</td>\n",
       "      <td>21,40</td>\n",
       "      <td>=</td>\n",
       "      <td>carrefour</td>\n",
       "      <td>aceite-de-girasol</td>\n",
       "      <td>aceite-de-girasol-capicua-garrafa-5-l</td>\n",
       "    </tr>\n",
       "    <tr>\n",
       "      <th>3</th>\n",
       "      <td>15/07/2024</td>\n",
       "      <td>21,40</td>\n",
       "      <td>=</td>\n",
       "      <td>carrefour</td>\n",
       "      <td>aceite-de-girasol</td>\n",
       "      <td>aceite-de-girasol-capicua-garrafa-5-l</td>\n",
       "    </tr>\n",
       "    <tr>\n",
       "      <th>4</th>\n",
       "      <td>16/07/2024</td>\n",
       "      <td>21,40</td>\n",
       "      <td>=</td>\n",
       "      <td>carrefour</td>\n",
       "      <td>aceite-de-girasol</td>\n",
       "      <td>aceite-de-girasol-capicua-garrafa-5-l</td>\n",
       "    </tr>\n",
       "  </tbody>\n",
       "</table>\n",
       "</div>"
      ],
      "text/plain": [
       "          Día Precio (€) Variación supermercado           producto  \\\n",
       "0  12/07/2024      21,40         =    carrefour  aceite-de-girasol   \n",
       "1  13/07/2024      21,40         =    carrefour  aceite-de-girasol   \n",
       "2  14/07/2024      21,40         =    carrefour  aceite-de-girasol   \n",
       "3  15/07/2024      21,40         =    carrefour  aceite-de-girasol   \n",
       "4  16/07/2024      21,40         =    carrefour  aceite-de-girasol   \n",
       "\n",
       "                                variante  \n",
       "0  aceite-de-girasol-capicua-garrafa-5-l  \n",
       "1  aceite-de-girasol-capicua-garrafa-5-l  \n",
       "2  aceite-de-girasol-capicua-garrafa-5-l  \n",
       "3  aceite-de-girasol-capicua-garrafa-5-l  \n",
       "4  aceite-de-girasol-capicua-garrafa-5-l  "
      ]
     },
     "execution_count": 10,
     "metadata": {},
     "output_type": "execute_result"
    }
   ],
   "source": [
    "df_total.head()"
   ]
  },
  {
   "cell_type": "markdown",
   "metadata": {},
   "source": [
    "**RESULTADOS INICIALES DE EXPLORACION**    \n",
    "\n",
    "\n",
    "Contamos con un Data Frame de 59382 filas y 6 columnas.\n",
    "\n",
    "*Nulos:*  \n",
    "\n",
    "- No cuenta con ningun dato nulo que tengamos que tratar\n",
    "\n",
    "\n",
    "*Duplicados:*  \n",
    "\n",
    "- Contamos con 193 filas duplicadas lo que supone un 0,33% del total de filas.  \n",
    "- Tras analizarlos y comprobar la web, nos dimos cuenta de que los podemos eliminar ya que en la propia web aparecen productos duplicados(Nos quedamos con un Data Frame con 59189 filas y 6 columnas). \n",
    "\n",
    "*Formatos:*  \n",
    "\n",
    "- En la columna variacion quise convertir los iguales a 0, quedarme solo con los porcentajes y luego ya pasar a float.  \n",
    "- En la columna precio cambié las , por los . y los pasé a float.   \n",
    "- En la columna Día la fecha debería estar en formato fecha así que la cambié. \n",
    "\n",
    "\n",
    "\n"
   ]
  },
  {
   "cell_type": "markdown",
   "metadata": {},
   "source": [
    "Tratamos los duplicados"
   ]
  },
  {
   "cell_type": "code",
   "execution_count": 11,
   "metadata": {},
   "outputs": [
    {
     "data": {
      "text/plain": [
       "(59382, 6)"
      ]
     },
     "execution_count": 11,
     "metadata": {},
     "output_type": "execute_result"
    }
   ],
   "source": [
    "df_total.shape"
   ]
  },
  {
   "cell_type": "code",
   "execution_count": 12,
   "metadata": {},
   "outputs": [
    {
     "data": {
      "text/plain": [
       "np.float64(0.33)"
      ]
     },
     "execution_count": 12,
     "metadata": {},
     "output_type": "execute_result"
    }
   ],
   "source": [
    "round((df_total.duplicated().sum()/len(df_total))*100, 2)"
   ]
  },
  {
   "cell_type": "code",
   "execution_count": 13,
   "metadata": {},
   "outputs": [
    {
     "data": {
      "text/html": [
       "<div>\n",
       "<style scoped>\n",
       "    .dataframe tbody tr th:only-of-type {\n",
       "        vertical-align: middle;\n",
       "    }\n",
       "\n",
       "    .dataframe tbody tr th {\n",
       "        vertical-align: top;\n",
       "    }\n",
       "\n",
       "    .dataframe thead th {\n",
       "        text-align: right;\n",
       "    }\n",
       "</style>\n",
       "<table border=\"1\" class=\"dataframe\">\n",
       "  <thead>\n",
       "    <tr style=\"text-align: right;\">\n",
       "      <th></th>\n",
       "      <th>Día</th>\n",
       "      <th>Precio (€)</th>\n",
       "      <th>Variación</th>\n",
       "      <th>supermercado</th>\n",
       "      <th>producto</th>\n",
       "      <th>variante</th>\n",
       "    </tr>\n",
       "  </thead>\n",
       "  <tbody>\n",
       "    <tr>\n",
       "      <th>11616</th>\n",
       "      <td>15/07/2024</td>\n",
       "      <td>1,08</td>\n",
       "      <td>=</td>\n",
       "      <td>carrefour</td>\n",
       "      <td>leche</td>\n",
       "      <td>leche-desnatada-central-lechera-asturiana-brik...</td>\n",
       "    </tr>\n",
       "    <tr>\n",
       "      <th>11617</th>\n",
       "      <td>16/07/2024</td>\n",
       "      <td>1,08</td>\n",
       "      <td>=</td>\n",
       "      <td>carrefour</td>\n",
       "      <td>leche</td>\n",
       "      <td>leche-desnatada-central-lechera-asturiana-brik...</td>\n",
       "    </tr>\n",
       "    <tr>\n",
       "      <th>11618</th>\n",
       "      <td>17/07/2024</td>\n",
       "      <td>1,08</td>\n",
       "      <td>=</td>\n",
       "      <td>carrefour</td>\n",
       "      <td>leche</td>\n",
       "      <td>leche-desnatada-central-lechera-asturiana-brik...</td>\n",
       "    </tr>\n",
       "    <tr>\n",
       "      <th>11619</th>\n",
       "      <td>18/07/2024</td>\n",
       "      <td>1,08</td>\n",
       "      <td>=</td>\n",
       "      <td>carrefour</td>\n",
       "      <td>leche</td>\n",
       "      <td>leche-desnatada-central-lechera-asturiana-brik...</td>\n",
       "    </tr>\n",
       "    <tr>\n",
       "      <th>11620</th>\n",
       "      <td>19/07/2024</td>\n",
       "      <td>1,08</td>\n",
       "      <td>=</td>\n",
       "      <td>carrefour</td>\n",
       "      <td>leche</td>\n",
       "      <td>leche-desnatada-central-lechera-asturiana-brik...</td>\n",
       "    </tr>\n",
       "  </tbody>\n",
       "</table>\n",
       "</div>"
      ],
      "text/plain": [
       "              Día Precio (€) Variación supermercado producto  \\\n",
       "11616  15/07/2024       1,08         =    carrefour    leche   \n",
       "11617  16/07/2024       1,08         =    carrefour    leche   \n",
       "11618  17/07/2024       1,08         =    carrefour    leche   \n",
       "11619  18/07/2024       1,08         =    carrefour    leche   \n",
       "11620  19/07/2024       1,08         =    carrefour    leche   \n",
       "\n",
       "                                                variante  \n",
       "11616  leche-desnatada-central-lechera-asturiana-brik...  \n",
       "11617  leche-desnatada-central-lechera-asturiana-brik...  \n",
       "11618  leche-desnatada-central-lechera-asturiana-brik...  \n",
       "11619  leche-desnatada-central-lechera-asturiana-brik...  \n",
       "11620  leche-desnatada-central-lechera-asturiana-brik...  "
      ]
     },
     "execution_count": 13,
     "metadata": {},
     "output_type": "execute_result"
    }
   ],
   "source": [
    "df_total[df_total.duplicated()].head()"
   ]
  },
  {
   "cell_type": "code",
   "execution_count": 14,
   "metadata": {},
   "outputs": [],
   "source": [
    "df_total.drop_duplicates(inplace=True)"
   ]
  },
  {
   "cell_type": "markdown",
   "metadata": {},
   "source": [
    "Formateamos"
   ]
  },
  {
   "cell_type": "code",
   "execution_count": 15,
   "metadata": {},
   "outputs": [
    {
     "name": "stdout",
     "output_type": "stream",
     "text": [
      "<class 'pandas.core.frame.DataFrame'>\n",
      "Index: 59189 entries, 0 to 214\n",
      "Data columns (total 6 columns):\n",
      " #   Column        Non-Null Count  Dtype \n",
      "---  ------        --------------  ----- \n",
      " 0   Día           59189 non-null  object\n",
      " 1   Precio (€)    59189 non-null  object\n",
      " 2   Variación     59189 non-null  object\n",
      " 3   supermercado  59189 non-null  object\n",
      " 4   producto      59189 non-null  object\n",
      " 5   variante      59189 non-null  object\n",
      "dtypes: object(6)\n",
      "memory usage: 3.2+ MB\n"
     ]
    }
   ],
   "source": [
    "df_total.info()"
   ]
  },
  {
   "cell_type": "code",
   "execution_count": 16,
   "metadata": {},
   "outputs": [],
   "source": [
    "df_total[\"Precio (€)\"]=df_total[\"Precio (€)\"].str.replace(\",\", \".\").astype(float)\n",
    "\n"
   ]
  },
  {
   "cell_type": "code",
   "execution_count": 17,
   "metadata": {},
   "outputs": [
    {
     "data": {
      "text/html": [
       "<div>\n",
       "<style scoped>\n",
       "    .dataframe tbody tr th:only-of-type {\n",
       "        vertical-align: middle;\n",
       "    }\n",
       "\n",
       "    .dataframe tbody tr th {\n",
       "        vertical-align: top;\n",
       "    }\n",
       "\n",
       "    .dataframe thead th {\n",
       "        text-align: right;\n",
       "    }\n",
       "</style>\n",
       "<table border=\"1\" class=\"dataframe\">\n",
       "  <thead>\n",
       "    <tr style=\"text-align: right;\">\n",
       "      <th></th>\n",
       "      <th>Día</th>\n",
       "      <th>Precio (€)</th>\n",
       "      <th>Variación</th>\n",
       "      <th>supermercado</th>\n",
       "      <th>producto</th>\n",
       "      <th>variante</th>\n",
       "    </tr>\n",
       "  </thead>\n",
       "  <tbody>\n",
       "    <tr>\n",
       "      <th>20670</th>\n",
       "      <td>16/10/2024</td>\n",
       "      <td>1.16</td>\n",
       "      <td>=</td>\n",
       "      <td>eroski</td>\n",
       "      <td>leche</td>\n",
       "      <td>leche-semidesnatada-pascual-brik-1-litro</td>\n",
       "    </tr>\n",
       "    <tr>\n",
       "      <th>11208</th>\n",
       "      <td>13/08/2024</td>\n",
       "      <td>1.36</td>\n",
       "      <td>=</td>\n",
       "      <td>carrefour</td>\n",
       "      <td>leche</td>\n",
       "      <td>leche-desnatada-carrefour-botella-15-l\\n</td>\n",
       "    </tr>\n",
       "    <tr>\n",
       "      <th>127</th>\n",
       "      <td>30/07/2024</td>\n",
       "      <td>0.95</td>\n",
       "      <td>=</td>\n",
       "      <td>alcampo</td>\n",
       "      <td>leche</td>\n",
       "      <td>leche-entera-fresca-hacendado-1-l</td>\n",
       "    </tr>\n",
       "    <tr>\n",
       "      <th>11922</th>\n",
       "      <td>04/09/2024</td>\n",
       "      <td>1.19</td>\n",
       "      <td>=</td>\n",
       "      <td>carrefour</td>\n",
       "      <td>leche</td>\n",
       "      <td>leche-desnatada-con-vitaminas-a+d-puleva-brik-...</td>\n",
       "    </tr>\n",
       "    <tr>\n",
       "      <th>29</th>\n",
       "      <td>27/09/2024</td>\n",
       "      <td>1.99</td>\n",
       "      <td>=</td>\n",
       "      <td>dia</td>\n",
       "      <td>aceite-de-girasol</td>\n",
       "      <td>aceite-de-girasol-alto-oleico-especial-freidor...</td>\n",
       "    </tr>\n",
       "  </tbody>\n",
       "</table>\n",
       "</div>"
      ],
      "text/plain": [
       "              Día  Precio (€) Variación supermercado           producto  \\\n",
       "20670  16/10/2024        1.16         =       eroski              leche   \n",
       "11208  13/08/2024        1.36         =    carrefour              leche   \n",
       "127    30/07/2024        0.95         =      alcampo              leche   \n",
       "11922  04/09/2024        1.19         =    carrefour              leche   \n",
       "29     27/09/2024        1.99         =          dia  aceite-de-girasol   \n",
       "\n",
       "                                                variante  \n",
       "20670           leche-semidesnatada-pascual-brik-1-litro  \n",
       "11208           leche-desnatada-carrefour-botella-15-l\\n  \n",
       "127                    leche-entera-fresca-hacendado-1-l  \n",
       "11922  leche-desnatada-con-vitaminas-a+d-puleva-brik-...  \n",
       "29     aceite-de-girasol-alto-oleico-especial-freidor...  "
      ]
     },
     "execution_count": 17,
     "metadata": {},
     "output_type": "execute_result"
    }
   ],
   "source": [
    "df_total.sample(5)"
   ]
  },
  {
   "cell_type": "code",
   "execution_count": 18,
   "metadata": {},
   "outputs": [],
   "source": [
    "df_total[\"Variación\"]=df_total[\"Variación\"].str.replace(\"+\",\"\").str.replace(\",\", \".\").str.split(\" \").str[0].str.replace(\"=\", \"0\").astype(float)"
   ]
  },
  {
   "cell_type": "code",
   "execution_count": 19,
   "metadata": {},
   "outputs": [],
   "source": [
    "df_total[\"Día\"]=pd.to_datetime(df_total[\"Día\"], dayfirst= True)"
   ]
  },
  {
   "cell_type": "code",
   "execution_count": 20,
   "metadata": {},
   "outputs": [
    {
     "name": "stdout",
     "output_type": "stream",
     "text": [
      "<class 'pandas.core.frame.DataFrame'>\n",
      "Index: 59189 entries, 0 to 214\n",
      "Data columns (total 6 columns):\n",
      " #   Column        Non-Null Count  Dtype         \n",
      "---  ------        --------------  -----         \n",
      " 0   Día           59189 non-null  datetime64[ns]\n",
      " 1   Precio (€)    59189 non-null  float64       \n",
      " 2   Variación     59189 non-null  float64       \n",
      " 3   supermercado  59189 non-null  object        \n",
      " 4   producto      59189 non-null  object        \n",
      " 5   variante      59189 non-null  object        \n",
      "dtypes: datetime64[ns](1), float64(2), object(3)\n",
      "memory usage: 3.2+ MB\n"
     ]
    }
   ],
   "source": [
    "df_total.info()"
   ]
  },
  {
   "cell_type": "code",
   "execution_count": 21,
   "metadata": {},
   "outputs": [
    {
     "data": {
      "text/html": [
       "<div>\n",
       "<style scoped>\n",
       "    .dataframe tbody tr th:only-of-type {\n",
       "        vertical-align: middle;\n",
       "    }\n",
       "\n",
       "    .dataframe tbody tr th {\n",
       "        vertical-align: top;\n",
       "    }\n",
       "\n",
       "    .dataframe thead th {\n",
       "        text-align: right;\n",
       "    }\n",
       "</style>\n",
       "<table border=\"1\" class=\"dataframe\">\n",
       "  <thead>\n",
       "    <tr style=\"text-align: right;\">\n",
       "      <th></th>\n",
       "      <th>count</th>\n",
       "      <th>mean</th>\n",
       "      <th>min</th>\n",
       "      <th>25%</th>\n",
       "      <th>50%</th>\n",
       "      <th>75%</th>\n",
       "      <th>max</th>\n",
       "      <th>std</th>\n",
       "    </tr>\n",
       "  </thead>\n",
       "  <tbody>\n",
       "    <tr>\n",
       "      <th>Día</th>\n",
       "      <td>59189</td>\n",
       "      <td>2024-08-29 18:50:14.708814080</td>\n",
       "      <td>2024-06-22 00:00:00</td>\n",
       "      <td>2024-08-03 00:00:00</td>\n",
       "      <td>2024-08-28 00:00:00</td>\n",
       "      <td>2024-09-26 00:00:00</td>\n",
       "      <td>2024-10-25 00:00:00</td>\n",
       "      <td>NaN</td>\n",
       "    </tr>\n",
       "    <tr>\n",
       "      <th>Precio (€)</th>\n",
       "      <td>59189.0</td>\n",
       "      <td>7.953348</td>\n",
       "      <td>0.69</td>\n",
       "      <td>1.39</td>\n",
       "      <td>3.83</td>\n",
       "      <td>9.78</td>\n",
       "      <td>64.59</td>\n",
       "      <td>10.775573</td>\n",
       "    </tr>\n",
       "    <tr>\n",
       "      <th>Variación</th>\n",
       "      <td>59189.0</td>\n",
       "      <td>-0.004951</td>\n",
       "      <td>-20.69</td>\n",
       "      <td>0.0</td>\n",
       "      <td>0.0</td>\n",
       "      <td>0.0</td>\n",
       "      <td>20.69</td>\n",
       "      <td>0.529826</td>\n",
       "    </tr>\n",
       "  </tbody>\n",
       "</table>\n",
       "</div>"
      ],
      "text/plain": [
       "              count                           mean                  min  \\\n",
       "Día           59189  2024-08-29 18:50:14.708814080  2024-06-22 00:00:00   \n",
       "Precio (€)  59189.0                       7.953348                 0.69   \n",
       "Variación   59189.0                      -0.004951               -20.69   \n",
       "\n",
       "                            25%                  50%                  75%  \\\n",
       "Día         2024-08-03 00:00:00  2024-08-28 00:00:00  2024-09-26 00:00:00   \n",
       "Precio (€)                 1.39                 3.83                 9.78   \n",
       "Variación                   0.0                  0.0                  0.0   \n",
       "\n",
       "                            max        std  \n",
       "Día         2024-10-25 00:00:00        NaN  \n",
       "Precio (€)                64.59  10.775573  \n",
       "Variación                 20.69   0.529826  "
      ]
     },
     "execution_count": 21,
     "metadata": {},
     "output_type": "execute_result"
    }
   ],
   "source": [
    "df_total.describe().T"
   ]
  },
  {
   "cell_type": "code",
   "execution_count": 22,
   "metadata": {},
   "outputs": [
    {
     "data": {
      "text/html": [
       "<div>\n",
       "<style scoped>\n",
       "    .dataframe tbody tr th:only-of-type {\n",
       "        vertical-align: middle;\n",
       "    }\n",
       "\n",
       "    .dataframe tbody tr th {\n",
       "        vertical-align: top;\n",
       "    }\n",
       "\n",
       "    .dataframe thead th {\n",
       "        text-align: right;\n",
       "    }\n",
       "</style>\n",
       "<table border=\"1\" class=\"dataframe\">\n",
       "  <thead>\n",
       "    <tr style=\"text-align: right;\">\n",
       "      <th></th>\n",
       "      <th>count</th>\n",
       "      <th>unique</th>\n",
       "      <th>top</th>\n",
       "      <th>freq</th>\n",
       "    </tr>\n",
       "  </thead>\n",
       "  <tbody>\n",
       "    <tr>\n",
       "      <th>supermercado</th>\n",
       "      <td>59189</td>\n",
       "      <td>6</td>\n",
       "      <td>eroski</td>\n",
       "      <td>23674</td>\n",
       "    </tr>\n",
       "    <tr>\n",
       "      <th>producto</th>\n",
       "      <td>59189</td>\n",
       "      <td>3</td>\n",
       "      <td>leche</td>\n",
       "      <td>30997</td>\n",
       "    </tr>\n",
       "    <tr>\n",
       "      <th>variante</th>\n",
       "      <td>59189</td>\n",
       "      <td>702</td>\n",
       "      <td>aceite-de-oliva-virgen-extra-picual-casa-junca...</td>\n",
       "      <td>207</td>\n",
       "    </tr>\n",
       "  </tbody>\n",
       "</table>\n",
       "</div>"
      ],
      "text/plain": [
       "              count unique                                                top  \\\n",
       "supermercado  59189      6                                             eroski   \n",
       "producto      59189      3                                              leche   \n",
       "variante      59189    702  aceite-de-oliva-virgen-extra-picual-casa-junca...   \n",
       "\n",
       "               freq  \n",
       "supermercado  23674  \n",
       "producto      30997  \n",
       "variante        207  "
      ]
     },
     "execution_count": 22,
     "metadata": {},
     "output_type": "execute_result"
    }
   ],
   "source": [
    "df_total.describe(include=\"O\").T"
   ]
  },
  {
   "cell_type": "markdown",
   "metadata": {},
   "source": [
    "COMENTARIOS EDA inicial:  \n",
    "\n",
    "\n",
    "\n",
    "- La media de precio de los principales supermercados (en los productos de aceite de girasol, aceite de oliva y leche) en España es de 7,95€, mientras que la mediana es de 3,83€ indicando que en los principales supermercados tienen ciertos productos bastante más caros mientras que parece haber una mayor cantidad de productos \"baratos\" (pues para calcular la mediana se ordenann de menor a mayor los productos más baratos están al principio).\n",
    "\n",
    "- En cuanto a la variación de precio, se observa que por lo general no hay variaciones y son bastante estables sin enbargo si que comprobamos un máximo y un mínimo de variación muy destacables(lo que podría indicar o bien promociones (como el descuento del IVA) o/y subidas de precio abusivas)\n",
    "\n",
    "Otros datos de interés:  \n",
    "\n",
    "- El supermercado que más aparece es Eroski también el producto Leche y la variante Aceite de Oliva Virgen Extra Casa Juncal.\t\n"
   ]
  },
  {
   "cell_type": "markdown",
   "metadata": {},
   "source": [
    "**CREACION DE BASE DE DATOS EN DBEAVER**"
   ]
  },
  {
   "cell_type": "markdown",
   "metadata": {},
   "source": [
    "Primero diseño los Data Frames que serán mis futuras tablas en la la base de datos"
   ]
  },
  {
   "cell_type": "code",
   "execution_count": 23,
   "metadata": {},
   "outputs": [],
   "source": [
    "df_supermercados= pd.DataFrame()\n",
    "df_supermercados[\"super\"]= df_total[\"supermercado\"].unique()\n",
    "\n",
    "df_productos= pd.DataFrame()\n",
    "df_productos[\"producto\"]= df_total[\"producto\"].unique()"
   ]
  },
  {
   "cell_type": "code",
   "execution_count": 24,
   "metadata": {},
   "outputs": [],
   "source": [
    "df_diccsupe=f.crear_df_id (df_supermercados, \"super\")\n"
   ]
  },
  {
   "cell_type": "code",
   "execution_count": 25,
   "metadata": {},
   "outputs": [],
   "source": [
    "df_diccpro=f.crear_df_id(df_productos, \"producto\")"
   ]
  },
  {
   "cell_type": "code",
   "execution_count": 26,
   "metadata": {},
   "outputs": [
    {
     "data": {
      "text/html": [
       "<div>\n",
       "<style scoped>\n",
       "    .dataframe tbody tr th:only-of-type {\n",
       "        vertical-align: middle;\n",
       "    }\n",
       "\n",
       "    .dataframe tbody tr th {\n",
       "        vertical-align: top;\n",
       "    }\n",
       "\n",
       "    .dataframe thead th {\n",
       "        text-align: right;\n",
       "    }\n",
       "</style>\n",
       "<table border=\"1\" class=\"dataframe\">\n",
       "  <thead>\n",
       "    <tr style=\"text-align: right;\">\n",
       "      <th></th>\n",
       "      <th>fecha</th>\n",
       "      <th>supermercado</th>\n",
       "      <th>producto</th>\n",
       "      <th>variante</th>\n",
       "      <th>precio</th>\n",
       "      <th>variacion</th>\n",
       "    </tr>\n",
       "  </thead>\n",
       "  <tbody>\n",
       "    <tr>\n",
       "      <th>0</th>\n",
       "      <td>2024-07-12</td>\n",
       "      <td>carrefour</td>\n",
       "      <td>aceite-de-girasol</td>\n",
       "      <td>aceite-de-girasol-capicua-garrafa-5-l</td>\n",
       "      <td>21.4</td>\n",
       "      <td>0.0</td>\n",
       "    </tr>\n",
       "    <tr>\n",
       "      <th>1</th>\n",
       "      <td>2024-07-13</td>\n",
       "      <td>carrefour</td>\n",
       "      <td>aceite-de-girasol</td>\n",
       "      <td>aceite-de-girasol-capicua-garrafa-5-l</td>\n",
       "      <td>21.4</td>\n",
       "      <td>0.0</td>\n",
       "    </tr>\n",
       "    <tr>\n",
       "      <th>2</th>\n",
       "      <td>2024-07-14</td>\n",
       "      <td>carrefour</td>\n",
       "      <td>aceite-de-girasol</td>\n",
       "      <td>aceite-de-girasol-capicua-garrafa-5-l</td>\n",
       "      <td>21.4</td>\n",
       "      <td>0.0</td>\n",
       "    </tr>\n",
       "    <tr>\n",
       "      <th>3</th>\n",
       "      <td>2024-07-15</td>\n",
       "      <td>carrefour</td>\n",
       "      <td>aceite-de-girasol</td>\n",
       "      <td>aceite-de-girasol-capicua-garrafa-5-l</td>\n",
       "      <td>21.4</td>\n",
       "      <td>0.0</td>\n",
       "    </tr>\n",
       "    <tr>\n",
       "      <th>4</th>\n",
       "      <td>2024-07-16</td>\n",
       "      <td>carrefour</td>\n",
       "      <td>aceite-de-girasol</td>\n",
       "      <td>aceite-de-girasol-capicua-garrafa-5-l</td>\n",
       "      <td>21.4</td>\n",
       "      <td>0.0</td>\n",
       "    </tr>\n",
       "  </tbody>\n",
       "</table>\n",
       "</div>"
      ],
      "text/plain": [
       "       fecha supermercado           producto  \\\n",
       "0 2024-07-12    carrefour  aceite-de-girasol   \n",
       "1 2024-07-13    carrefour  aceite-de-girasol   \n",
       "2 2024-07-14    carrefour  aceite-de-girasol   \n",
       "3 2024-07-15    carrefour  aceite-de-girasol   \n",
       "4 2024-07-16    carrefour  aceite-de-girasol   \n",
       "\n",
       "                                variante  precio  variacion  \n",
       "0  aceite-de-girasol-capicua-garrafa-5-l    21.4        0.0  \n",
       "1  aceite-de-girasol-capicua-garrafa-5-l    21.4        0.0  \n",
       "2  aceite-de-girasol-capicua-garrafa-5-l    21.4        0.0  \n",
       "3  aceite-de-girasol-capicua-garrafa-5-l    21.4        0.0  \n",
       "4  aceite-de-girasol-capicua-garrafa-5-l    21.4        0.0  "
      ]
     },
     "execution_count": 26,
     "metadata": {},
     "output_type": "execute_result"
    }
   ],
   "source": [
    "df_principal= pd.DataFrame()\n",
    "df_principal[\"fecha\"]= df_total[\"Día\"]\n",
    "df_principal[\"supermercado\"]= df_total[\"supermercado\"]\n",
    "df_principal[\"producto\"]= df_total[\"producto\"]\n",
    "df_principal[\"variante\"]=df_total[\"variante\"]\n",
    "df_principal[\"precio\"]= df_total[\"Precio (€)\"]\n",
    "df_principal[\"variacion\"]=df_total[\"Variación\"]\n",
    "df_principal.head()"
   ]
  },
  {
   "cell_type": "code",
   "execution_count": 28,
   "metadata": {},
   "outputs": [
    {
     "data": {
      "text/html": [
       "<div>\n",
       "<style scoped>\n",
       "    .dataframe tbody tr th:only-of-type {\n",
       "        vertical-align: middle;\n",
       "    }\n",
       "\n",
       "    .dataframe tbody tr th {\n",
       "        vertical-align: top;\n",
       "    }\n",
       "\n",
       "    .dataframe thead th {\n",
       "        text-align: right;\n",
       "    }\n",
       "</style>\n",
       "<table border=\"1\" class=\"dataframe\">\n",
       "  <thead>\n",
       "    <tr style=\"text-align: right;\">\n",
       "      <th></th>\n",
       "      <th>fecha</th>\n",
       "      <th>supermercado</th>\n",
       "      <th>variante</th>\n",
       "      <th>precio</th>\n",
       "      <th>variacion</th>\n",
       "      <th>id_producto</th>\n",
       "    </tr>\n",
       "  </thead>\n",
       "  <tbody>\n",
       "    <tr>\n",
       "      <th>17447</th>\n",
       "      <td>2024-08-19</td>\n",
       "      <td>carrefour</td>\n",
       "      <td>leche-semidesnatada-pascual-sin-lactosa-brik-1...</td>\n",
       "      <td>1.53</td>\n",
       "      <td>0.0</td>\n",
       "      <td>3</td>\n",
       "    </tr>\n",
       "    <tr>\n",
       "      <th>9240</th>\n",
       "      <td>2024-08-13</td>\n",
       "      <td>eroski</td>\n",
       "      <td>aceite-de-oliva-virgen-guillen-botella-1-litro</td>\n",
       "      <td>8.30</td>\n",
       "      <td>0.0</td>\n",
       "      <td>2</td>\n",
       "    </tr>\n",
       "    <tr>\n",
       "      <th>208</th>\n",
       "      <td>2024-08-16</td>\n",
       "      <td>carrefour</td>\n",
       "      <td>aceite-de-girasol-carrefour-garrafa-5-l</td>\n",
       "      <td>10.55</td>\n",
       "      <td>0.0</td>\n",
       "      <td>1</td>\n",
       "    </tr>\n",
       "  </tbody>\n",
       "</table>\n",
       "</div>"
      ],
      "text/plain": [
       "           fecha supermercado  \\\n",
       "17447 2024-08-19    carrefour   \n",
       "9240  2024-08-13       eroski   \n",
       "208   2024-08-16    carrefour   \n",
       "\n",
       "                                                variante  precio  variacion  \\\n",
       "17447  leche-semidesnatada-pascual-sin-lactosa-brik-1...    1.53        0.0   \n",
       "9240      aceite-de-oliva-virgen-guillen-botella-1-litro    8.30        0.0   \n",
       "208              aceite-de-girasol-carrefour-garrafa-5-l   10.55        0.0   \n",
       "\n",
       "       id_producto  \n",
       "17447            3  \n",
       "9240             2  \n",
       "208              1  "
      ]
     },
     "execution_count": 28,
     "metadata": {},
     "output_type": "execute_result"
    }
   ],
   "source": [
    "f.añadir_id_mapeado(df_diccpro,\"producto\",\"id_producto\",\"producto\",\"id_producto\", df_principal).sample(3)"
   ]
  },
  {
   "cell_type": "code",
   "execution_count": 29,
   "metadata": {},
   "outputs": [
    {
     "data": {
      "text/html": [
       "<div>\n",
       "<style scoped>\n",
       "    .dataframe tbody tr th:only-of-type {\n",
       "        vertical-align: middle;\n",
       "    }\n",
       "\n",
       "    .dataframe tbody tr th {\n",
       "        vertical-align: top;\n",
       "    }\n",
       "\n",
       "    .dataframe thead th {\n",
       "        text-align: right;\n",
       "    }\n",
       "</style>\n",
       "<table border=\"1\" class=\"dataframe\">\n",
       "  <thead>\n",
       "    <tr style=\"text-align: right;\">\n",
       "      <th></th>\n",
       "      <th>fecha</th>\n",
       "      <th>variante</th>\n",
       "      <th>precio</th>\n",
       "      <th>variacion</th>\n",
       "      <th>id_producto</th>\n",
       "      <th>id_supermercado</th>\n",
       "    </tr>\n",
       "  </thead>\n",
       "  <tbody>\n",
       "    <tr>\n",
       "      <th>6710</th>\n",
       "      <td>2024-08-22</td>\n",
       "      <td>aceite-de-oliva-virgen-extra-eco-oro-de-génabe...</td>\n",
       "      <td>11.42</td>\n",
       "      <td>0.0</td>\n",
       "      <td>2</td>\n",
       "      <td>3</td>\n",
       "    </tr>\n",
       "    <tr>\n",
       "      <th>3383</th>\n",
       "      <td>2024-09-15</td>\n",
       "      <td>aceite-de-oliva-intenso-coosur-botella-1-litro</td>\n",
       "      <td>11.49</td>\n",
       "      <td>0.0</td>\n",
       "      <td>2</td>\n",
       "      <td>3</td>\n",
       "    </tr>\n",
       "    <tr>\n",
       "      <th>14841</th>\n",
       "      <td>2024-07-24</td>\n",
       "      <td>leche-entera-puleva-sin-gluten-sin-lactosa-bot...</td>\n",
       "      <td>1.09</td>\n",
       "      <td>0.0</td>\n",
       "      <td>3</td>\n",
       "      <td>1</td>\n",
       "    </tr>\n",
       "  </tbody>\n",
       "</table>\n",
       "</div>"
      ],
      "text/plain": [
       "           fecha                                           variante  precio  \\\n",
       "6710  2024-08-22  aceite-de-oliva-virgen-extra-eco-oro-de-génabe...   11.42   \n",
       "3383  2024-09-15     aceite-de-oliva-intenso-coosur-botella-1-litro   11.49   \n",
       "14841 2024-07-24  leche-entera-puleva-sin-gluten-sin-lactosa-bot...    1.09   \n",
       "\n",
       "       variacion  id_producto  id_supermercado  \n",
       "6710         0.0            2                3  \n",
       "3383         0.0            2                3  \n",
       "14841        0.0            3                1  "
      ]
     },
     "execution_count": 29,
     "metadata": {},
     "output_type": "execute_result"
    }
   ],
   "source": [
    "f.añadir_id_mapeado(df_diccsupe,\"super\",\"id_super\",\"supermercado\",\"id_supermercado\", df_principal).sample(3)"
   ]
  },
  {
   "cell_type": "code",
   "execution_count": 47,
   "metadata": {},
   "outputs": [],
   "source": [
    "df_principal.index = pd.RangeIndex(start=1,stop = len(df_principal)+1,step=1)\n",
    "df_principal[\"id_principal\"]=df_principal.index\n"
   ]
  },
  {
   "cell_type": "code",
   "execution_count": 49,
   "metadata": {},
   "outputs": [
    {
     "data": {
      "text/html": [
       "<div>\n",
       "<style scoped>\n",
       "    .dataframe tbody tr th:only-of-type {\n",
       "        vertical-align: middle;\n",
       "    }\n",
       "\n",
       "    .dataframe tbody tr th {\n",
       "        vertical-align: top;\n",
       "    }\n",
       "\n",
       "    .dataframe thead th {\n",
       "        text-align: right;\n",
       "    }\n",
       "</style>\n",
       "<table border=\"1\" class=\"dataframe\">\n",
       "  <thead>\n",
       "    <tr style=\"text-align: right;\">\n",
       "      <th></th>\n",
       "      <th>fecha</th>\n",
       "      <th>variante</th>\n",
       "      <th>precio</th>\n",
       "      <th>variacion</th>\n",
       "      <th>id_producto</th>\n",
       "      <th>id_supermercado</th>\n",
       "      <th>id_principal</th>\n",
       "    </tr>\n",
       "  </thead>\n",
       "  <tbody>\n",
       "    <tr>\n",
       "      <th>1</th>\n",
       "      <td>2024-07-12</td>\n",
       "      <td>aceite-de-girasol-capicua-garrafa-5-l</td>\n",
       "      <td>21.4</td>\n",
       "      <td>0.0</td>\n",
       "      <td>1</td>\n",
       "      <td>1</td>\n",
       "      <td>1</td>\n",
       "    </tr>\n",
       "    <tr>\n",
       "      <th>2</th>\n",
       "      <td>2024-07-13</td>\n",
       "      <td>aceite-de-girasol-capicua-garrafa-5-l</td>\n",
       "      <td>21.4</td>\n",
       "      <td>0.0</td>\n",
       "      <td>1</td>\n",
       "      <td>1</td>\n",
       "      <td>2</td>\n",
       "    </tr>\n",
       "  </tbody>\n",
       "</table>\n",
       "</div>"
      ],
      "text/plain": [
       "       fecha                               variante  precio  variacion  \\\n",
       "1 2024-07-12  aceite-de-girasol-capicua-garrafa-5-l    21.4        0.0   \n",
       "2 2024-07-13  aceite-de-girasol-capicua-garrafa-5-l    21.4        0.0   \n",
       "\n",
       "   id_producto  id_supermercado  id_principal  \n",
       "1            1                1             1  \n",
       "2            1                1             2  "
      ]
     },
     "execution_count": 49,
     "metadata": {},
     "output_type": "execute_result"
    }
   ],
   "source": [
    "df_principal.head(2)"
   ]
  },
  {
   "cell_type": "code",
   "execution_count": 48,
   "metadata": {},
   "outputs": [
    {
     "data": {
      "text/html": [
       "<div>\n",
       "<style scoped>\n",
       "    .dataframe tbody tr th:only-of-type {\n",
       "        vertical-align: middle;\n",
       "    }\n",
       "\n",
       "    .dataframe tbody tr th {\n",
       "        vertical-align: top;\n",
       "    }\n",
       "\n",
       "    .dataframe thead th {\n",
       "        text-align: right;\n",
       "    }\n",
       "</style>\n",
       "<table border=\"1\" class=\"dataframe\">\n",
       "  <thead>\n",
       "    <tr style=\"text-align: right;\">\n",
       "      <th></th>\n",
       "      <th>fecha</th>\n",
       "      <th>variante</th>\n",
       "      <th>precio</th>\n",
       "      <th>variacion</th>\n",
       "      <th>id_producto</th>\n",
       "      <th>id_supermercado</th>\n",
       "      <th>id_principal</th>\n",
       "    </tr>\n",
       "  </thead>\n",
       "  <tbody>\n",
       "    <tr>\n",
       "      <th>28908</th>\n",
       "      <td>2024-09-14</td>\n",
       "      <td>aceite-de-oliva-virgen-extra-eco-coosur-botell...</td>\n",
       "      <td>13.76</td>\n",
       "      <td>0.0</td>\n",
       "      <td>2</td>\n",
       "      <td>3</td>\n",
       "      <td>28908</td>\n",
       "    </tr>\n",
       "    <tr>\n",
       "      <th>24150</th>\n",
       "      <td>2024-09-08</td>\n",
       "      <td>aceite-de-oliva-04-carbonell-lata-5-litros</td>\n",
       "      <td>50.43</td>\n",
       "      <td>0.0</td>\n",
       "      <td>2</td>\n",
       "      <td>3</td>\n",
       "      <td>24150</td>\n",
       "    </tr>\n",
       "    <tr>\n",
       "      <th>8515</th>\n",
       "      <td>2024-09-02</td>\n",
       "      <td>aceite-de-oliva-virgen-extra-marqués-de-griñón...</td>\n",
       "      <td>11.69</td>\n",
       "      <td>0.0</td>\n",
       "      <td>2</td>\n",
       "      <td>1</td>\n",
       "      <td>8515</td>\n",
       "    </tr>\n",
       "    <tr>\n",
       "      <th>58586</th>\n",
       "      <td>2024-09-16</td>\n",
       "      <td>aceites-de-ardales-aceite-de-oliva-virgen-extr...</td>\n",
       "      <td>7.65</td>\n",
       "      <td>0.0</td>\n",
       "      <td>2</td>\n",
       "      <td>5</td>\n",
       "      <td>58586</td>\n",
       "    </tr>\n",
       "    <tr>\n",
       "      <th>53174</th>\n",
       "      <td>2024-09-29</td>\n",
       "      <td>leche-entera-calcio-puleva-brik-1-l</td>\n",
       "      <td>5.16</td>\n",
       "      <td>0.0</td>\n",
       "      <td>3</td>\n",
       "      <td>4</td>\n",
       "      <td>53174</td>\n",
       "    </tr>\n",
       "  </tbody>\n",
       "</table>\n",
       "</div>"
      ],
      "text/plain": [
       "           fecha                                           variante  precio  \\\n",
       "28908 2024-09-14  aceite-de-oliva-virgen-extra-eco-coosur-botell...   13.76   \n",
       "24150 2024-09-08         aceite-de-oliva-04-carbonell-lata-5-litros   50.43   \n",
       "8515  2024-09-02  aceite-de-oliva-virgen-extra-marqués-de-griñón...   11.69   \n",
       "58586 2024-09-16  aceites-de-ardales-aceite-de-oliva-virgen-extr...    7.65   \n",
       "53174 2024-09-29                leche-entera-calcio-puleva-brik-1-l    5.16   \n",
       "\n",
       "       variacion  id_producto  id_supermercado  id_principal  \n",
       "28908        0.0            2                3         28908  \n",
       "24150        0.0            2                3         24150  \n",
       "8515         0.0            2                1          8515  \n",
       "58586        0.0            2                5         58586  \n",
       "53174        0.0            3                4         53174  "
      ]
     },
     "execution_count": 48,
     "metadata": {},
     "output_type": "execute_result"
    }
   ],
   "source": [
    "df_principal.sample(5)"
   ]
  },
  {
   "cell_type": "markdown",
   "metadata": {},
   "source": [
    "Ahora conecto con mi base de datos para empezar a crear allí las tablas con los datos"
   ]
  },
  {
   "cell_type": "code",
   "execution_count": 54,
   "metadata": {},
   "outputs": [],
   "source": [
    "try:\n",
    "    conexion= psycopg2.connect(\n",
    "        database= \"Precios_productos_basicos\",\n",
    "        user= \"postgres\",\n",
    "        password= \"admin\",\n",
    "        host= \"localhost\",\n",
    "        port= \"5432\"\n",
    "    )\n",
    "except OperationalError as e:\n",
    "    if e.pgcode == errorcodes.INVALID_PASSWORD:\n",
    "        print(\"La contraseña es erronea\")\n",
    "    elif e.pgcode == errorcodes.CONNECTION_EXCEPTION:\n",
    "        print(\"Error de conexion\")\n",
    "    else:\n",
    "        print(f\"Ocurrió el error {e}\")"
   ]
  },
  {
   "cell_type": "markdown",
   "metadata": {},
   "source": [
    "TABLA Supers"
   ]
  },
  {
   "cell_type": "code",
   "execution_count": 34,
   "metadata": {},
   "outputs": [],
   "source": [
    "cursor= conexion.cursor()\n",
    "query_creacion= \"\"\"\n",
    "CREATE TABLE IF NOT EXISTS mercados(\n",
    "    super VARCHAR(100),\n",
    "    id_super INT PRIMARY KEY   \n",
    ");\n",
    "\"\"\"\n",
    "cursor.execute(query_creacion)   \n",
    "conexion.commit()"
   ]
  },
  {
   "cell_type": "code",
   "execution_count": 35,
   "metadata": {},
   "outputs": [],
   "source": [
    "lista_de_tuplas=[]\n",
    "for fila in df_diccsupe.values:\n",
    "    lista_de_tuplas.append(tuple(fila))\n"
   ]
  },
  {
   "cell_type": "code",
   "execution_count": 36,
   "metadata": {},
   "outputs": [],
   "source": [
    "     \n",
    "query_insercion= \"INSERT INTO mercados (super, id_super) VALUES (%s, %s);\"      #%s es como el format de los strings (la f)\n",
    "\n",
    "cursor.executemany(query_insercion, lista_de_tuplas)                 #Executemany es para poder insertar varios valores\n",
    "conexion.commit()"
   ]
  },
  {
   "cell_type": "markdown",
   "metadata": {},
   "source": [
    "TABLA PRODUCTOS"
   ]
  },
  {
   "cell_type": "code",
   "execution_count": 43,
   "metadata": {},
   "outputs": [],
   "source": [
    "cursor=conexion.cursor()\n",
    "query_creacion= \"\"\"\n",
    "CREATE TABLE productos(\n",
    "    producto VARCHAR(100),\n",
    "    id_producto INT PRIMARY KEY\n",
    ");\n",
    "\"\"\" \n",
    "cursor.execute(query_creacion)\n",
    "conexion.commit()"
   ]
  },
  {
   "cell_type": "code",
   "execution_count": 44,
   "metadata": {},
   "outputs": [],
   "source": [
    "lista_de_tuplas= []\n",
    "for fila in df_diccpro.values:\n",
    "    lista_de_tuplas.append(tuple(fila))"
   ]
  },
  {
   "cell_type": "code",
   "execution_count": 45,
   "metadata": {},
   "outputs": [],
   "source": [
    "query_insercion= \"INSERT INTO productos(producto, id_producto)  VALUES (%s,%s);\"\n",
    "cursor.executemany(query_insercion, lista_de_tuplas)\n",
    "conexion.commit()"
   ]
  },
  {
   "cell_type": "markdown",
   "metadata": {},
   "source": [
    "TABLA PRINCIPAL"
   ]
  },
  {
   "cell_type": "code",
   "execution_count": 55,
   "metadata": {},
   "outputs": [],
   "source": [
    "cursor=conexion.cursor()\n",
    "query_creacion= \"\"\"\n",
    "CREATE TABLE principal(\n",
    "    fecha DATE,\n",
    "    variante VARCHAR(300),\n",
    "    precio FLOAT,\n",
    "    variacion FLOAT,\n",
    "    id_producto INT,\n",
    "    id_super INT,\n",
    "    id_principal INT PRIMARY KEY,\n",
    "    FOREIGN KEY (id_producto) REFERENCES productos(id_producto) ON DELETE RESTRICT ON UPDATE CASCADE,\n",
    "    FOREIGN KEY (id_super) REFERENCES mercados(id_super) ON DELETE RESTRICT ON UPDATE CASCADE\n",
    ");\n",
    "\"\"\" \n",
    "cursor.execute(query_creacion)\n",
    "conexion.commit()\n"
   ]
  },
  {
   "cell_type": "code",
   "execution_count": 56,
   "metadata": {},
   "outputs": [],
   "source": [
    "lista_de_tuplas= []\n",
    "for fila in df_principal.values:\n",
    "    lista_de_tuplas.append(tuple(fila))"
   ]
  },
  {
   "cell_type": "code",
   "execution_count": 57,
   "metadata": {},
   "outputs": [],
   "source": [
    "query_insercion= \"INSERT INTO principal (fecha, variante, precio, variacion, id_producto, id_super, id_principal) VALUES (%s, %s, %s, %s, %s, %s,%s);\"      #%s es como el format de los strings (la f)\n",
    "\n",
    "cursor.executemany(query_insercion, lista_de_tuplas)                 #Executemany es para poder insertar varios valores\n",
    "conexion.commit()"
   ]
  }
 ],
 "metadata": {
  "kernelspec": {
   "display_name": "Python 3",
   "language": "python",
   "name": "python3"
  },
  "language_info": {
   "codemirror_mode": {
    "name": "ipython",
    "version": 3
   },
   "file_extension": ".py",
   "mimetype": "text/x-python",
   "name": "python",
   "nbconvert_exporter": "python",
   "pygments_lexer": "ipython3",
   "version": "3.11.9"
  }
 },
 "nbformat": 4,
 "nbformat_minor": 2
}
