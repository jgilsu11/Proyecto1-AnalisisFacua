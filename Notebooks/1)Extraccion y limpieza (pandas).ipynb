{
 "cells": [
  {
   "cell_type": "code",
   "execution_count": 128,
   "metadata": {},
   "outputs": [],
   "source": [
    "import pandas as pd\n",
    "import requests\n",
    "import selenium\n",
    "from selenium import webdriver  # Selenium es una herramienta para automatizar la interacción con navegadores web.\n",
    "from webdriver_manager.chrome import ChromeDriverManager  # ChromeDriverManager gestiona la instalación del controlador de Chrome.\n",
    "from selenium.webdriver.common.keys import Keys  # Keys es útil para simular eventos de teclado en Selenium.\n",
    "from selenium.webdriver.support.ui import Select  # Select se utiliza para interactuar con elementos <select> en páginas web.\n",
    "from selenium.webdriver.support.ui import WebDriverWait\n",
    "from selenium.webdriver.support import expected_conditions as EC\n",
    "from selenium.common.exceptions import NoSuchElementException # Excepciones comunes de selenium que nos podemos encontrar \n",
    "from bs4 import BeautifulSoup\n",
    "from time import sleep \n",
    "import re\n",
    "import sys \n",
    "import os\n",
    "sys.path.append(os.path.abspath(\"../src\"))   \n",
    "from datetime import datetime\n",
    "import psycopg2\n",
    "from psycopg2 import OperationalError, errorcodes, errors\n",
    "\n",
    "import matplotlib.pyplot as plt\n",
    "import matplotlib_inline\n",
    "import seaborn as sns\n",
    "\n",
    "\n",
    "import funciones as f"
   ]
  },
  {
   "cell_type": "markdown",
   "metadata": {},
   "source": [
    "Sacar lista supers"
   ]
  },
  {
   "cell_type": "code",
   "execution_count": 72,
   "metadata": {},
   "outputs": [
    {
     "data": {
      "text/plain": [
       "['mercadona', 'alcampo', 'carrefour', 'hipercor', 'dia', 'eroski']"
      ]
     },
     "execution_count": 72,
     "metadata": {},
     "output_type": "execute_result"
    }
   ],
   "source": [
    "url_super = \"https://super.facua.org/\"\n",
    "res_facua = requests.get(url_super)\n",
    "sopa_mercados = BeautifulSoup(res_facua.content, \"html.parser\")\n",
    "lista_mercados = sopa_mercados.findAll(\"a\", {\"class\" :\"nav-link\"})\n",
    "lista_supers= [mercado.getText().lower() for mercado in lista_mercados]\n",
    "lista_supers.pop()\n",
    "lista_supers\n"
   ]
  },
  {
   "cell_type": "markdown",
   "metadata": {},
   "source": [
    "Sacar lista productos"
   ]
  },
  {
   "cell_type": "code",
   "execution_count": 78,
   "metadata": {},
   "outputs": [
    {
     "name": "stdout",
     "output_type": "stream",
     "text": [
      "aceite-de-girasol\n",
      "1\n",
      "aceite-de-oliva\n",
      "2\n",
      "leche\n",
      "3\n"
     ]
    }
   ],
   "source": [
    "url_mercados = f\"https://super.facua.org/mercadona/\"\n",
    "res_producto = requests.get(url_mercados)\n",
    "sopa_productos = BeautifulSoup(res_producto.content, \"html.parser\")\n",
    "lista_prod = sopa_productos.findAll(\"p\", {\"class\" :\"fw-bolder\"})\n",
    "lista_productos= [mercado.getText().lower().replace(\" \", \"-\") for mercado in lista_prod]\n",
    "for i, producto in enumerate(lista_productos,start=1):\n",
    "    id_prod= i\n",
    "    nombre_producto= producto\n",
    "    print(nombre_producto)\n",
    "    print(id_prod)\n"
   ]
  },
  {
   "cell_type": "markdown",
   "metadata": {},
   "source": [
    "Sacar lista variantes\n"
   ]
  },
  {
   "cell_type": "code",
   "execution_count": 79,
   "metadata": {},
   "outputs": [
    {
     "name": "stdout",
     "output_type": "stream",
     "text": [
      "1\n",
      "aceite-de-girasol-refinado-02-hacendado-1-l\n",
      "2\n",
      "aceite-de-girasol-refinado-02-hacendado-5-l\n"
     ]
    }
   ],
   "source": [
    "url_variante = \"https://super.facua.org/mercadona/aceite-de-girasol/\"\n",
    "res_variante= requests.get(url_variante)\n",
    "sopa_variante = BeautifulSoup(res_variante.content, \"html.parser\")\n",
    "lista_var = sopa_variante.findAll(\"p\", {\"class\" :\"fw-bolder\"})\n",
    "lista_variantes= [variante.getText().lower().replace(\" \", \"-\").replace(\",\", \"\").replace(\"º\",\"\").replace(\".\",\"\") for variante in lista_var]\n",
    "for i, variante in enumerate(lista_variantes, start=1):\n",
    "    id_var= i\n",
    "    nombre_variante= variante\n",
    "    print(id_var)\n",
    "    print(nombre_variante)"
   ]
  },
  {
   "cell_type": "markdown",
   "metadata": {},
   "source": [
    "Lo comento para que no me moleste"
   ]
  },
  {
   "cell_type": "code",
   "execution_count": 73,
   "metadata": {},
   "outputs": [],
   "source": [
    "# for mercado in lista_supers:\n",
    "#     df_tablas= pd.DataFrame()\n",
    "#     driver = webdriver.Chrome()\n",
    "#     url_mercados = f\"https://super.facua.org/{mercado}/\"\n",
    "#     driver.get(url_mercados)\n",
    "#     sleep(3)\n",
    "#     #aceptar cookie\n",
    "#     driver.find_element(\"css selector\", \"#rcc-confirm-button\").click()\n",
    "#     #hacer aquí la lista de productos\n",
    "#     res_producto = requests.get(url_mercados)\n",
    "#     sopa_productos = BeautifulSoup(res_producto.content, \"html.parser\")\n",
    "#     lista_prod = sopa_productos.findAll(\"p\", {\"class\" :\"fw-bolder\"})\n",
    "#     lista_productos= [prod.getText().lower().replace(\" \", \"-\") for prod in lista_prod]\n",
    "\n",
    "#     for i, producto in enumerate(lista_productos):\n",
    "#         driver.execute_script(\"window.scrollBy(0, 200);\")\n",
    "#         sleep(2)\n",
    "#         #selecciona producto\n",
    "#         driver.find_element(\"css selector\", f\"body > section:nth-child(4) > div > div.row.gx-4.gx-lg-5.row-cols-2.row-cols-md-3.row-cols-xl-4.justify-content-center > div:nth-child({i+1}) > div > div.card-footer.p-4.pt-0.border-top-0.bg-transparent > div > a\").click()\n",
    "#         sopa_variante = BeautifulSoup(driver.page_source, \"html.parser\")\n",
    "#         lista_var = sopa_variante.findAll(\"p\", {\"class\" :\"fw-bolder\"})\n",
    "#         lista_variantes= [variante.getText().lower().replace(\" \", \"-\").replace(\",\", \"\").replace(\"º\",\"\").replace(\".\",\"\") for variante in lista_var]\n",
    "#         lista_variantes_bien=[]\n",
    "#         for elemento in lista_variantes:\n",
    "#             if \"aceite\" in elemento or \"leche\" in elemento:\n",
    "#                 lista_variantes_bien.append(elemento)\n",
    "#         for j ,variante in enumerate(lista_variantes_bien):\n",
    "#             while True:\n",
    "#                 #selecciona variante\n",
    "#                 try:\n",
    "#                     sleep(2)\n",
    "#                     driver.find_element(\"css selector\", f\"body > section:nth-child(4) > div > div:nth-child(7) > div:nth-child({j+1}) > div > div.card-footer.p-4.pt-0.border-top-0.bg-transparent > div > a\").click()\n",
    "#                     break\n",
    "#                 except:\n",
    "#                     driver.execute_script(\"window.scrollBy(0, 200);\")\n",
    "#             sopa_mercados = BeautifulSoup(driver.page_source, \"html.parser\")\n",
    "#             tabla_general= sopa_mercados.findAll(\"table\")\n",
    "#             tablaindiv=tabla_general[-1]\n",
    "#             #por aquí crear las columnas necesarias usando lista de productos y variante (mercado se pone formateado tal cual)\n",
    "#             df_tablas=pd.concat([df_tablas, f.sacar_tabla(tablaindiv,mercado,producto,variante)])\n",
    "#             driver.back()\n",
    "#         driver.back()    \n",
    "#     driver.close()\n",
    "#     df_tablas.to_csv(f'../datos/datos{mercado}.csv', index=False)\n"
   ]
  },
  {
   "cell_type": "code",
   "execution_count": 3,
   "metadata": {},
   "outputs": [],
   "source": [
    "# df_tablas.head()"
   ]
  },
  {
   "cell_type": "code",
   "execution_count": null,
   "metadata": {},
   "outputs": [],
   "source": []
  },
  {
   "cell_type": "code",
   "execution_count": 69,
   "metadata": {},
   "outputs": [
    {
     "data": {
      "text/plain": [
       "['aceite de oliva',\n",
       " 'oliva de aceite',\n",
       " 'oliva aceite de',\n",
       " 'leche merengada azul',\n",
       " 'merengada leche azul',\n",
       " 'merengada zaul leche']"
      ]
     },
     "execution_count": 69,
     "metadata": {},
     "output_type": "execute_result"
    }
   ],
   "source": [
    "lista=[]\n",
    "lista_variantes_bien=[\"aceite de oliva\", \"oliva de aceite\", \"oliva aceite de\", \"leche merengada azul\", \"merengada leche azul\", \"merengada zaul leche\", \"caca\"]     \n",
    "for elemento in lista_variantes_bien:\n",
    "    if \"aceite\" in elemento or \"leche\" in elemento:\n",
    "        lista.append(elemento)\n",
    "lista"
   ]
  },
  {
   "cell_type": "markdown",
   "metadata": {},
   "source": [
    "Carga de datos"
   ]
  },
  {
   "cell_type": "code",
   "execution_count": 74,
   "metadata": {},
   "outputs": [],
   "source": [
    "alcampo=pd.read_csv(\"../datos/datosalcampo.csv\")\n",
    "mercadona=pd.read_csv(\"../datos/datosmercadona.csv\")\n",
    "carrefour=pd.read_csv(\"../datos/datoscarrefour.csv\")\n",
    "dia=pd.read_csv(\"../datos/datosdia.csv\")\n",
    "eroski=pd.read_csv(\"../datos/datoseroski.csv\")\n",
    "hipercor=pd.read_csv(\"../datos/datoshipercor.csv\")"
   ]
  },
  {
   "cell_type": "code",
   "execution_count": 75,
   "metadata": {},
   "outputs": [
    {
     "data": {
      "text/html": [
       "<div>\n",
       "<style scoped>\n",
       "    .dataframe tbody tr th:only-of-type {\n",
       "        vertical-align: middle;\n",
       "    }\n",
       "\n",
       "    .dataframe tbody tr th {\n",
       "        vertical-align: top;\n",
       "    }\n",
       "\n",
       "    .dataframe thead th {\n",
       "        text-align: right;\n",
       "    }\n",
       "</style>\n",
       "<table border=\"1\" class=\"dataframe\">\n",
       "  <thead>\n",
       "    <tr style=\"text-align: right;\">\n",
       "      <th></th>\n",
       "      <th>Día</th>\n",
       "      <th>Precio (€)</th>\n",
       "      <th>Variación</th>\n",
       "      <th>supermercado</th>\n",
       "      <th>producto</th>\n",
       "      <th>variante</th>\n",
       "    </tr>\n",
       "  </thead>\n",
       "  <tbody>\n",
       "    <tr>\n",
       "      <th>0</th>\n",
       "      <td>30/06/2024</td>\n",
       "      <td>5,88</td>\n",
       "      <td>=</td>\n",
       "      <td>alcampo</td>\n",
       "      <td>aceite-de-girasol</td>\n",
       "      <td>campomar-nature-aceite-de-girasol-ecológico-ca...</td>\n",
       "    </tr>\n",
       "    <tr>\n",
       "      <th>1</th>\n",
       "      <td>01/07/2024</td>\n",
       "      <td>5,88</td>\n",
       "      <td>=</td>\n",
       "      <td>alcampo</td>\n",
       "      <td>aceite-de-girasol</td>\n",
       "      <td>campomar-nature-aceite-de-girasol-ecológico-ca...</td>\n",
       "    </tr>\n",
       "    <tr>\n",
       "      <th>2</th>\n",
       "      <td>12/07/2024</td>\n",
       "      <td>5,88</td>\n",
       "      <td>=</td>\n",
       "      <td>alcampo</td>\n",
       "      <td>aceite-de-girasol</td>\n",
       "      <td>campomar-nature-aceite-de-girasol-ecológico-ca...</td>\n",
       "    </tr>\n",
       "    <tr>\n",
       "      <th>3</th>\n",
       "      <td>13/07/2024</td>\n",
       "      <td>5,88</td>\n",
       "      <td>=</td>\n",
       "      <td>alcampo</td>\n",
       "      <td>aceite-de-girasol</td>\n",
       "      <td>campomar-nature-aceite-de-girasol-ecológico-ca...</td>\n",
       "    </tr>\n",
       "    <tr>\n",
       "      <th>4</th>\n",
       "      <td>14/07/2024</td>\n",
       "      <td>5,88</td>\n",
       "      <td>=</td>\n",
       "      <td>alcampo</td>\n",
       "      <td>aceite-de-girasol</td>\n",
       "      <td>campomar-nature-aceite-de-girasol-ecológico-ca...</td>\n",
       "    </tr>\n",
       "  </tbody>\n",
       "</table>\n",
       "</div>"
      ],
      "text/plain": [
       "          Día Precio (€) Variación supermercado           producto  \\\n",
       "0  30/06/2024       5,88         =      alcampo  aceite-de-girasol   \n",
       "1  01/07/2024       5,88         =      alcampo  aceite-de-girasol   \n",
       "2  12/07/2024       5,88         =      alcampo  aceite-de-girasol   \n",
       "3  13/07/2024       5,88         =      alcampo  aceite-de-girasol   \n",
       "4  14/07/2024       5,88         =      alcampo  aceite-de-girasol   \n",
       "\n",
       "                                            variante  \n",
       "0  campomar-nature-aceite-de-girasol-ecológico-ca...  \n",
       "1  campomar-nature-aceite-de-girasol-ecológico-ca...  \n",
       "2  campomar-nature-aceite-de-girasol-ecológico-ca...  \n",
       "3  campomar-nature-aceite-de-girasol-ecológico-ca...  \n",
       "4  campomar-nature-aceite-de-girasol-ecológico-ca...  "
      ]
     },
     "execution_count": 75,
     "metadata": {},
     "output_type": "execute_result"
    }
   ],
   "source": [
    "alcampo.head()"
   ]
  },
  {
   "cell_type": "code",
   "execution_count": 76,
   "metadata": {},
   "outputs": [
    {
     "data": {
      "text/html": [
       "<div>\n",
       "<style scoped>\n",
       "    .dataframe tbody tr th:only-of-type {\n",
       "        vertical-align: middle;\n",
       "    }\n",
       "\n",
       "    .dataframe tbody tr th {\n",
       "        vertical-align: top;\n",
       "    }\n",
       "\n",
       "    .dataframe thead th {\n",
       "        text-align: right;\n",
       "    }\n",
       "</style>\n",
       "<table border=\"1\" class=\"dataframe\">\n",
       "  <thead>\n",
       "    <tr style=\"text-align: right;\">\n",
       "      <th></th>\n",
       "      <th>Día</th>\n",
       "      <th>Precio (€)</th>\n",
       "      <th>Variación</th>\n",
       "      <th>supermercado</th>\n",
       "      <th>producto</th>\n",
       "      <th>variante</th>\n",
       "    </tr>\n",
       "  </thead>\n",
       "  <tbody>\n",
       "    <tr>\n",
       "      <th>0</th>\n",
       "      <td>12/07/2024</td>\n",
       "      <td>1,45</td>\n",
       "      <td>=</td>\n",
       "      <td>mercadona</td>\n",
       "      <td>aceite-de-girasol</td>\n",
       "      <td>aceite-de-girasol-refinado-02-hacendado-1-l</td>\n",
       "    </tr>\n",
       "    <tr>\n",
       "      <th>1</th>\n",
       "      <td>13/07/2024</td>\n",
       "      <td>1,45</td>\n",
       "      <td>=</td>\n",
       "      <td>mercadona</td>\n",
       "      <td>aceite-de-girasol</td>\n",
       "      <td>aceite-de-girasol-refinado-02-hacendado-1-l</td>\n",
       "    </tr>\n",
       "    <tr>\n",
       "      <th>2</th>\n",
       "      <td>14/07/2024</td>\n",
       "      <td>1,45</td>\n",
       "      <td>=</td>\n",
       "      <td>mercadona</td>\n",
       "      <td>aceite-de-girasol</td>\n",
       "      <td>aceite-de-girasol-refinado-02-hacendado-1-l</td>\n",
       "    </tr>\n",
       "    <tr>\n",
       "      <th>3</th>\n",
       "      <td>15/07/2024</td>\n",
       "      <td>1,45</td>\n",
       "      <td>=</td>\n",
       "      <td>mercadona</td>\n",
       "      <td>aceite-de-girasol</td>\n",
       "      <td>aceite-de-girasol-refinado-02-hacendado-1-l</td>\n",
       "    </tr>\n",
       "    <tr>\n",
       "      <th>4</th>\n",
       "      <td>16/07/2024</td>\n",
       "      <td>1,45</td>\n",
       "      <td>=</td>\n",
       "      <td>mercadona</td>\n",
       "      <td>aceite-de-girasol</td>\n",
       "      <td>aceite-de-girasol-refinado-02-hacendado-1-l</td>\n",
       "    </tr>\n",
       "  </tbody>\n",
       "</table>\n",
       "</div>"
      ],
      "text/plain": [
       "          Día Precio (€) Variación supermercado           producto  \\\n",
       "0  12/07/2024       1,45         =    mercadona  aceite-de-girasol   \n",
       "1  13/07/2024       1,45         =    mercadona  aceite-de-girasol   \n",
       "2  14/07/2024       1,45         =    mercadona  aceite-de-girasol   \n",
       "3  15/07/2024       1,45         =    mercadona  aceite-de-girasol   \n",
       "4  16/07/2024       1,45         =    mercadona  aceite-de-girasol   \n",
       "\n",
       "                                      variante  \n",
       "0  aceite-de-girasol-refinado-02-hacendado-1-l  \n",
       "1  aceite-de-girasol-refinado-02-hacendado-1-l  \n",
       "2  aceite-de-girasol-refinado-02-hacendado-1-l  \n",
       "3  aceite-de-girasol-refinado-02-hacendado-1-l  \n",
       "4  aceite-de-girasol-refinado-02-hacendado-1-l  "
      ]
     },
     "execution_count": 76,
     "metadata": {},
     "output_type": "execute_result"
    }
   ],
   "source": [
    "mercadona.head()"
   ]
  },
  {
   "cell_type": "code",
   "execution_count": 77,
   "metadata": {},
   "outputs": [
    {
     "data": {
      "text/html": [
       "<div>\n",
       "<style scoped>\n",
       "    .dataframe tbody tr th:only-of-type {\n",
       "        vertical-align: middle;\n",
       "    }\n",
       "\n",
       "    .dataframe tbody tr th {\n",
       "        vertical-align: top;\n",
       "    }\n",
       "\n",
       "    .dataframe thead th {\n",
       "        text-align: right;\n",
       "    }\n",
       "</style>\n",
       "<table border=\"1\" class=\"dataframe\">\n",
       "  <thead>\n",
       "    <tr style=\"text-align: right;\">\n",
       "      <th></th>\n",
       "      <th>Día</th>\n",
       "      <th>Precio (€)</th>\n",
       "      <th>Variación</th>\n",
       "      <th>supermercado</th>\n",
       "      <th>producto</th>\n",
       "      <th>variante</th>\n",
       "    </tr>\n",
       "  </thead>\n",
       "  <tbody>\n",
       "    <tr>\n",
       "      <th>0</th>\n",
       "      <td>12/07/2024</td>\n",
       "      <td>1,89</td>\n",
       "      <td>=</td>\n",
       "      <td>eroski</td>\n",
       "      <td>aceite-de-girasol</td>\n",
       "      <td>aceite-alto-oleico-eroski-botella-1-litro</td>\n",
       "    </tr>\n",
       "    <tr>\n",
       "      <th>1</th>\n",
       "      <td>13/07/2024</td>\n",
       "      <td>1,89</td>\n",
       "      <td>=</td>\n",
       "      <td>eroski</td>\n",
       "      <td>aceite-de-girasol</td>\n",
       "      <td>aceite-alto-oleico-eroski-botella-1-litro</td>\n",
       "    </tr>\n",
       "    <tr>\n",
       "      <th>2</th>\n",
       "      <td>14/07/2024</td>\n",
       "      <td>1,89</td>\n",
       "      <td>=</td>\n",
       "      <td>eroski</td>\n",
       "      <td>aceite-de-girasol</td>\n",
       "      <td>aceite-alto-oleico-eroski-botella-1-litro</td>\n",
       "    </tr>\n",
       "    <tr>\n",
       "      <th>3</th>\n",
       "      <td>15/07/2024</td>\n",
       "      <td>1,89</td>\n",
       "      <td>=</td>\n",
       "      <td>eroski</td>\n",
       "      <td>aceite-de-girasol</td>\n",
       "      <td>aceite-alto-oleico-eroski-botella-1-litro</td>\n",
       "    </tr>\n",
       "    <tr>\n",
       "      <th>4</th>\n",
       "      <td>16/07/2024</td>\n",
       "      <td>1,89</td>\n",
       "      <td>=</td>\n",
       "      <td>eroski</td>\n",
       "      <td>aceite-de-girasol</td>\n",
       "      <td>aceite-alto-oleico-eroski-botella-1-litro</td>\n",
       "    </tr>\n",
       "  </tbody>\n",
       "</table>\n",
       "</div>"
      ],
      "text/plain": [
       "          Día Precio (€) Variación supermercado           producto  \\\n",
       "0  12/07/2024       1,89         =       eroski  aceite-de-girasol   \n",
       "1  13/07/2024       1,89         =       eroski  aceite-de-girasol   \n",
       "2  14/07/2024       1,89         =       eroski  aceite-de-girasol   \n",
       "3  15/07/2024       1,89         =       eroski  aceite-de-girasol   \n",
       "4  16/07/2024       1,89         =       eroski  aceite-de-girasol   \n",
       "\n",
       "                                    variante  \n",
       "0  aceite-alto-oleico-eroski-botella-1-litro  \n",
       "1  aceite-alto-oleico-eroski-botella-1-litro  \n",
       "2  aceite-alto-oleico-eroski-botella-1-litro  \n",
       "3  aceite-alto-oleico-eroski-botella-1-litro  \n",
       "4  aceite-alto-oleico-eroski-botella-1-litro  "
      ]
     },
     "execution_count": 77,
     "metadata": {},
     "output_type": "execute_result"
    }
   ],
   "source": [
    "eroski.head()"
   ]
  },
  {
   "cell_type": "code",
   "execution_count": 78,
   "metadata": {},
   "outputs": [
    {
     "data": {
      "text/html": [
       "<div>\n",
       "<style scoped>\n",
       "    .dataframe tbody tr th:only-of-type {\n",
       "        vertical-align: middle;\n",
       "    }\n",
       "\n",
       "    .dataframe tbody tr th {\n",
       "        vertical-align: top;\n",
       "    }\n",
       "\n",
       "    .dataframe thead th {\n",
       "        text-align: right;\n",
       "    }\n",
       "</style>\n",
       "<table border=\"1\" class=\"dataframe\">\n",
       "  <thead>\n",
       "    <tr style=\"text-align: right;\">\n",
       "      <th></th>\n",
       "      <th>Día</th>\n",
       "      <th>Precio (€)</th>\n",
       "      <th>Variación</th>\n",
       "      <th>supermercado</th>\n",
       "      <th>producto</th>\n",
       "      <th>variante</th>\n",
       "    </tr>\n",
       "  </thead>\n",
       "  <tbody>\n",
       "    <tr>\n",
       "      <th>0</th>\n",
       "      <td>29/08/2024</td>\n",
       "      <td>1,99</td>\n",
       "      <td>=</td>\n",
       "      <td>dia</td>\n",
       "      <td>aceite-de-girasol</td>\n",
       "      <td>aceite-de-girasol-alto-oleico-especial-freidor...</td>\n",
       "    </tr>\n",
       "    <tr>\n",
       "      <th>1</th>\n",
       "      <td>30/08/2024</td>\n",
       "      <td>1,99</td>\n",
       "      <td>=</td>\n",
       "      <td>dia</td>\n",
       "      <td>aceite-de-girasol</td>\n",
       "      <td>aceite-de-girasol-alto-oleico-especial-freidor...</td>\n",
       "    </tr>\n",
       "    <tr>\n",
       "      <th>2</th>\n",
       "      <td>31/08/2024</td>\n",
       "      <td>1,99</td>\n",
       "      <td>=</td>\n",
       "      <td>dia</td>\n",
       "      <td>aceite-de-girasol</td>\n",
       "      <td>aceite-de-girasol-alto-oleico-especial-freidor...</td>\n",
       "    </tr>\n",
       "    <tr>\n",
       "      <th>3</th>\n",
       "      <td>01/09/2024</td>\n",
       "      <td>1,99</td>\n",
       "      <td>=</td>\n",
       "      <td>dia</td>\n",
       "      <td>aceite-de-girasol</td>\n",
       "      <td>aceite-de-girasol-alto-oleico-especial-freidor...</td>\n",
       "    </tr>\n",
       "    <tr>\n",
       "      <th>4</th>\n",
       "      <td>02/09/2024</td>\n",
       "      <td>1,99</td>\n",
       "      <td>=</td>\n",
       "      <td>dia</td>\n",
       "      <td>aceite-de-girasol</td>\n",
       "      <td>aceite-de-girasol-alto-oleico-especial-freidor...</td>\n",
       "    </tr>\n",
       "  </tbody>\n",
       "</table>\n",
       "</div>"
      ],
      "text/plain": [
       "          Día Precio (€) Variación supermercado           producto  \\\n",
       "0  29/08/2024       1,99         =          dia  aceite-de-girasol   \n",
       "1  30/08/2024       1,99         =          dia  aceite-de-girasol   \n",
       "2  31/08/2024       1,99         =          dia  aceite-de-girasol   \n",
       "3  01/09/2024       1,99         =          dia  aceite-de-girasol   \n",
       "4  02/09/2024       1,99         =          dia  aceite-de-girasol   \n",
       "\n",
       "                                            variante  \n",
       "0  aceite-de-girasol-alto-oleico-especial-freidor...  \n",
       "1  aceite-de-girasol-alto-oleico-especial-freidor...  \n",
       "2  aceite-de-girasol-alto-oleico-especial-freidor...  \n",
       "3  aceite-de-girasol-alto-oleico-especial-freidor...  \n",
       "4  aceite-de-girasol-alto-oleico-especial-freidor...  "
      ]
     },
     "execution_count": 78,
     "metadata": {},
     "output_type": "execute_result"
    }
   ],
   "source": [
    "dia.head()"
   ]
  },
  {
   "cell_type": "code",
   "execution_count": 79,
   "metadata": {},
   "outputs": [
    {
     "data": {
      "text/html": [
       "<div>\n",
       "<style scoped>\n",
       "    .dataframe tbody tr th:only-of-type {\n",
       "        vertical-align: middle;\n",
       "    }\n",
       "\n",
       "    .dataframe tbody tr th {\n",
       "        vertical-align: top;\n",
       "    }\n",
       "\n",
       "    .dataframe thead th {\n",
       "        text-align: right;\n",
       "    }\n",
       "</style>\n",
       "<table border=\"1\" class=\"dataframe\">\n",
       "  <thead>\n",
       "    <tr style=\"text-align: right;\">\n",
       "      <th></th>\n",
       "      <th>Día</th>\n",
       "      <th>Precio (€)</th>\n",
       "      <th>Variación</th>\n",
       "      <th>supermercado</th>\n",
       "      <th>producto</th>\n",
       "      <th>variante</th>\n",
       "    </tr>\n",
       "  </thead>\n",
       "  <tbody>\n",
       "    <tr>\n",
       "      <th>0</th>\n",
       "      <td>13/07/2024</td>\n",
       "      <td>1,40</td>\n",
       "      <td>=</td>\n",
       "      <td>hipercor</td>\n",
       "      <td>aceite-de-girasol</td>\n",
       "      <td>abrilsol-aceite-refinado-de-girasol-botella-1-l</td>\n",
       "    </tr>\n",
       "    <tr>\n",
       "      <th>1</th>\n",
       "      <td>14/07/2024</td>\n",
       "      <td>1,40</td>\n",
       "      <td>=</td>\n",
       "      <td>hipercor</td>\n",
       "      <td>aceite-de-girasol</td>\n",
       "      <td>abrilsol-aceite-refinado-de-girasol-botella-1-l</td>\n",
       "    </tr>\n",
       "    <tr>\n",
       "      <th>2</th>\n",
       "      <td>15/07/2024</td>\n",
       "      <td>1,40</td>\n",
       "      <td>=</td>\n",
       "      <td>hipercor</td>\n",
       "      <td>aceite-de-girasol</td>\n",
       "      <td>abrilsol-aceite-refinado-de-girasol-botella-1-l</td>\n",
       "    </tr>\n",
       "    <tr>\n",
       "      <th>3</th>\n",
       "      <td>16/07/2024</td>\n",
       "      <td>1,40</td>\n",
       "      <td>=</td>\n",
       "      <td>hipercor</td>\n",
       "      <td>aceite-de-girasol</td>\n",
       "      <td>abrilsol-aceite-refinado-de-girasol-botella-1-l</td>\n",
       "    </tr>\n",
       "    <tr>\n",
       "      <th>4</th>\n",
       "      <td>17/07/2024</td>\n",
       "      <td>1,40</td>\n",
       "      <td>=</td>\n",
       "      <td>hipercor</td>\n",
       "      <td>aceite-de-girasol</td>\n",
       "      <td>abrilsol-aceite-refinado-de-girasol-botella-1-l</td>\n",
       "    </tr>\n",
       "  </tbody>\n",
       "</table>\n",
       "</div>"
      ],
      "text/plain": [
       "          Día Precio (€) Variación supermercado           producto  \\\n",
       "0  13/07/2024       1,40         =     hipercor  aceite-de-girasol   \n",
       "1  14/07/2024       1,40         =     hipercor  aceite-de-girasol   \n",
       "2  15/07/2024       1,40         =     hipercor  aceite-de-girasol   \n",
       "3  16/07/2024       1,40         =     hipercor  aceite-de-girasol   \n",
       "4  17/07/2024       1,40         =     hipercor  aceite-de-girasol   \n",
       "\n",
       "                                          variante  \n",
       "0  abrilsol-aceite-refinado-de-girasol-botella-1-l  \n",
       "1  abrilsol-aceite-refinado-de-girasol-botella-1-l  \n",
       "2  abrilsol-aceite-refinado-de-girasol-botella-1-l  \n",
       "3  abrilsol-aceite-refinado-de-girasol-botella-1-l  \n",
       "4  abrilsol-aceite-refinado-de-girasol-botella-1-l  "
      ]
     },
     "execution_count": 79,
     "metadata": {},
     "output_type": "execute_result"
    }
   ],
   "source": [
    "hipercor.head()"
   ]
  },
  {
   "cell_type": "code",
   "execution_count": 80,
   "metadata": {},
   "outputs": [
    {
     "data": {
      "text/html": [
       "<div>\n",
       "<style scoped>\n",
       "    .dataframe tbody tr th:only-of-type {\n",
       "        vertical-align: middle;\n",
       "    }\n",
       "\n",
       "    .dataframe tbody tr th {\n",
       "        vertical-align: top;\n",
       "    }\n",
       "\n",
       "    .dataframe thead th {\n",
       "        text-align: right;\n",
       "    }\n",
       "</style>\n",
       "<table border=\"1\" class=\"dataframe\">\n",
       "  <thead>\n",
       "    <tr style=\"text-align: right;\">\n",
       "      <th></th>\n",
       "      <th>Día</th>\n",
       "      <th>Precio (€)</th>\n",
       "      <th>Variación</th>\n",
       "      <th>supermercado</th>\n",
       "      <th>producto</th>\n",
       "      <th>variante</th>\n",
       "    </tr>\n",
       "  </thead>\n",
       "  <tbody>\n",
       "    <tr>\n",
       "      <th>0</th>\n",
       "      <td>12/07/2024</td>\n",
       "      <td>21,40</td>\n",
       "      <td>=</td>\n",
       "      <td>carrefour</td>\n",
       "      <td>aceite-de-girasol</td>\n",
       "      <td>aceite-de-girasol-capicua-garrafa-5-l</td>\n",
       "    </tr>\n",
       "    <tr>\n",
       "      <th>1</th>\n",
       "      <td>13/07/2024</td>\n",
       "      <td>21,40</td>\n",
       "      <td>=</td>\n",
       "      <td>carrefour</td>\n",
       "      <td>aceite-de-girasol</td>\n",
       "      <td>aceite-de-girasol-capicua-garrafa-5-l</td>\n",
       "    </tr>\n",
       "    <tr>\n",
       "      <th>2</th>\n",
       "      <td>14/07/2024</td>\n",
       "      <td>21,40</td>\n",
       "      <td>=</td>\n",
       "      <td>carrefour</td>\n",
       "      <td>aceite-de-girasol</td>\n",
       "      <td>aceite-de-girasol-capicua-garrafa-5-l</td>\n",
       "    </tr>\n",
       "    <tr>\n",
       "      <th>3</th>\n",
       "      <td>15/07/2024</td>\n",
       "      <td>21,40</td>\n",
       "      <td>=</td>\n",
       "      <td>carrefour</td>\n",
       "      <td>aceite-de-girasol</td>\n",
       "      <td>aceite-de-girasol-capicua-garrafa-5-l</td>\n",
       "    </tr>\n",
       "    <tr>\n",
       "      <th>4</th>\n",
       "      <td>16/07/2024</td>\n",
       "      <td>21,40</td>\n",
       "      <td>=</td>\n",
       "      <td>carrefour</td>\n",
       "      <td>aceite-de-girasol</td>\n",
       "      <td>aceite-de-girasol-capicua-garrafa-5-l</td>\n",
       "    </tr>\n",
       "  </tbody>\n",
       "</table>\n",
       "</div>"
      ],
      "text/plain": [
       "          Día Precio (€) Variación supermercado           producto  \\\n",
       "0  12/07/2024      21,40         =    carrefour  aceite-de-girasol   \n",
       "1  13/07/2024      21,40         =    carrefour  aceite-de-girasol   \n",
       "2  14/07/2024      21,40         =    carrefour  aceite-de-girasol   \n",
       "3  15/07/2024      21,40         =    carrefour  aceite-de-girasol   \n",
       "4  16/07/2024      21,40         =    carrefour  aceite-de-girasol   \n",
       "\n",
       "                                variante  \n",
       "0  aceite-de-girasol-capicua-garrafa-5-l  \n",
       "1  aceite-de-girasol-capicua-garrafa-5-l  \n",
       "2  aceite-de-girasol-capicua-garrafa-5-l  \n",
       "3  aceite-de-girasol-capicua-garrafa-5-l  \n",
       "4  aceite-de-girasol-capicua-garrafa-5-l  "
      ]
     },
     "execution_count": 80,
     "metadata": {},
     "output_type": "execute_result"
    }
   ],
   "source": [
    "carrefour.head()"
   ]
  },
  {
   "cell_type": "markdown",
   "metadata": {},
   "source": [
    "Creación Data Frame Total y Exploración inicial"
   ]
  },
  {
   "cell_type": "code",
   "execution_count": 81,
   "metadata": {},
   "outputs": [],
   "source": [
    "df= pd.DataFrame()\n",
    "df_total= pd.concat([df,carrefour,mercadona,eroski,dia,hipercor,alcampo])"
   ]
  },
  {
   "cell_type": "code",
   "execution_count": 82,
   "metadata": {},
   "outputs": [
    {
     "data": {
      "text/html": [
       "<div>\n",
       "<style scoped>\n",
       "    .dataframe tbody tr th:only-of-type {\n",
       "        vertical-align: middle;\n",
       "    }\n",
       "\n",
       "    .dataframe tbody tr th {\n",
       "        vertical-align: top;\n",
       "    }\n",
       "\n",
       "    .dataframe thead th {\n",
       "        text-align: right;\n",
       "    }\n",
       "</style>\n",
       "<table border=\"1\" class=\"dataframe\">\n",
       "  <thead>\n",
       "    <tr style=\"text-align: right;\">\n",
       "      <th></th>\n",
       "      <th>Día</th>\n",
       "      <th>Precio (€)</th>\n",
       "      <th>Variación</th>\n",
       "      <th>supermercado</th>\n",
       "      <th>producto</th>\n",
       "      <th>variante</th>\n",
       "    </tr>\n",
       "  </thead>\n",
       "  <tbody>\n",
       "    <tr>\n",
       "      <th>0</th>\n",
       "      <td>12/07/2024</td>\n",
       "      <td>21,40</td>\n",
       "      <td>=</td>\n",
       "      <td>carrefour</td>\n",
       "      <td>aceite-de-girasol</td>\n",
       "      <td>aceite-de-girasol-capicua-garrafa-5-l</td>\n",
       "    </tr>\n",
       "    <tr>\n",
       "      <th>1</th>\n",
       "      <td>13/07/2024</td>\n",
       "      <td>21,40</td>\n",
       "      <td>=</td>\n",
       "      <td>carrefour</td>\n",
       "      <td>aceite-de-girasol</td>\n",
       "      <td>aceite-de-girasol-capicua-garrafa-5-l</td>\n",
       "    </tr>\n",
       "    <tr>\n",
       "      <th>2</th>\n",
       "      <td>14/07/2024</td>\n",
       "      <td>21,40</td>\n",
       "      <td>=</td>\n",
       "      <td>carrefour</td>\n",
       "      <td>aceite-de-girasol</td>\n",
       "      <td>aceite-de-girasol-capicua-garrafa-5-l</td>\n",
       "    </tr>\n",
       "    <tr>\n",
       "      <th>3</th>\n",
       "      <td>15/07/2024</td>\n",
       "      <td>21,40</td>\n",
       "      <td>=</td>\n",
       "      <td>carrefour</td>\n",
       "      <td>aceite-de-girasol</td>\n",
       "      <td>aceite-de-girasol-capicua-garrafa-5-l</td>\n",
       "    </tr>\n",
       "    <tr>\n",
       "      <th>4</th>\n",
       "      <td>16/07/2024</td>\n",
       "      <td>21,40</td>\n",
       "      <td>=</td>\n",
       "      <td>carrefour</td>\n",
       "      <td>aceite-de-girasol</td>\n",
       "      <td>aceite-de-girasol-capicua-garrafa-5-l</td>\n",
       "    </tr>\n",
       "  </tbody>\n",
       "</table>\n",
       "</div>"
      ],
      "text/plain": [
       "          Día Precio (€) Variación supermercado           producto  \\\n",
       "0  12/07/2024      21,40         =    carrefour  aceite-de-girasol   \n",
       "1  13/07/2024      21,40         =    carrefour  aceite-de-girasol   \n",
       "2  14/07/2024      21,40         =    carrefour  aceite-de-girasol   \n",
       "3  15/07/2024      21,40         =    carrefour  aceite-de-girasol   \n",
       "4  16/07/2024      21,40         =    carrefour  aceite-de-girasol   \n",
       "\n",
       "                                variante  \n",
       "0  aceite-de-girasol-capicua-garrafa-5-l  \n",
       "1  aceite-de-girasol-capicua-garrafa-5-l  \n",
       "2  aceite-de-girasol-capicua-garrafa-5-l  \n",
       "3  aceite-de-girasol-capicua-garrafa-5-l  \n",
       "4  aceite-de-girasol-capicua-garrafa-5-l  "
      ]
     },
     "execution_count": 82,
     "metadata": {},
     "output_type": "execute_result"
    }
   ],
   "source": [
    "df_total.head()"
   ]
  },
  {
   "cell_type": "markdown",
   "metadata": {},
   "source": [
    "**RESULTADOS INICIALES DE EXPLORACION**    \n",
    "\n",
    "\n",
    "Contamos con un Data Frame de 134114 filas y 6 columnas.\n",
    "\n",
    "*Nulos:*  \n",
    "\n",
    "- No cuenta con ningun dato nulo que tengamos que tratar\n",
    "\n",
    "\n",
    "*Duplicados:*  \n",
    "\n",
    "- Contamos con 1160 filas duplicadas lo que supone un 0,86% del total de filas.  \n",
    "- Tras analizarlos y comprobar la web, nos dimos cuenta de que los podemos eliminar ya que en la propia web aparecen productos duplicados(Nos quedamos con un Data Frame con 132954 filas y 6 columnas). \n",
    "\n",
    "*Formatos:*  \n",
    "\n",
    "- En la columna variacion quise convertir los iguales a 0, quedarme solo con los porcentajes y luego ya pasar a float.  \n",
    "- En la columna precio cambié las , por los . y los pasé a float.   \n",
    "- En la columna Día la fecha debería estar en formato fecha así que la cambié. \n",
    "\n",
    "\n",
    "\n"
   ]
  },
  {
   "cell_type": "markdown",
   "metadata": {},
   "source": [
    "Tratamos los duplicados"
   ]
  },
  {
   "cell_type": "code",
   "execution_count": 83,
   "metadata": {},
   "outputs": [
    {
     "data": {
      "text/plain": [
       "(134114, 6)"
      ]
     },
     "execution_count": 83,
     "metadata": {},
     "output_type": "execute_result"
    }
   ],
   "source": [
    "df_total.shape"
   ]
  },
  {
   "cell_type": "code",
   "execution_count": 86,
   "metadata": {},
   "outputs": [
    {
     "data": {
      "text/plain": [
       "np.int64(1160)"
      ]
     },
     "execution_count": 86,
     "metadata": {},
     "output_type": "execute_result"
    }
   ],
   "source": [
    "df_total.duplicated().sum()"
   ]
  },
  {
   "cell_type": "code",
   "execution_count": 84,
   "metadata": {},
   "outputs": [
    {
     "data": {
      "text/plain": [
       "np.float64(0.86)"
      ]
     },
     "execution_count": 84,
     "metadata": {},
     "output_type": "execute_result"
    }
   ],
   "source": [
    "round((df_total.duplicated().sum()/len(df_total))*100, 2)"
   ]
  },
  {
   "cell_type": "code",
   "execution_count": 87,
   "metadata": {},
   "outputs": [
    {
     "data": {
      "text/html": [
       "<div>\n",
       "<style scoped>\n",
       "    .dataframe tbody tr th:only-of-type {\n",
       "        vertical-align: middle;\n",
       "    }\n",
       "\n",
       "    .dataframe tbody tr th {\n",
       "        vertical-align: top;\n",
       "    }\n",
       "\n",
       "    .dataframe thead th {\n",
       "        text-align: right;\n",
       "    }\n",
       "</style>\n",
       "<table border=\"1\" class=\"dataframe\">\n",
       "  <thead>\n",
       "    <tr style=\"text-align: right;\">\n",
       "      <th></th>\n",
       "      <th>Día</th>\n",
       "      <th>Precio (€)</th>\n",
       "      <th>Variación</th>\n",
       "      <th>supermercado</th>\n",
       "      <th>producto</th>\n",
       "      <th>variante</th>\n",
       "    </tr>\n",
       "  </thead>\n",
       "  <tbody>\n",
       "    <tr>\n",
       "      <th>11872</th>\n",
       "      <td>15/07/2024</td>\n",
       "      <td>1,08</td>\n",
       "      <td>=</td>\n",
       "      <td>carrefour</td>\n",
       "      <td>leche</td>\n",
       "      <td>leche-desnatada-central-lechera-asturiana-brik...</td>\n",
       "    </tr>\n",
       "    <tr>\n",
       "      <th>11873</th>\n",
       "      <td>16/07/2024</td>\n",
       "      <td>1,08</td>\n",
       "      <td>=</td>\n",
       "      <td>carrefour</td>\n",
       "      <td>leche</td>\n",
       "      <td>leche-desnatada-central-lechera-asturiana-brik...</td>\n",
       "    </tr>\n",
       "    <tr>\n",
       "      <th>11874</th>\n",
       "      <td>17/07/2024</td>\n",
       "      <td>1,08</td>\n",
       "      <td>=</td>\n",
       "      <td>carrefour</td>\n",
       "      <td>leche</td>\n",
       "      <td>leche-desnatada-central-lechera-asturiana-brik...</td>\n",
       "    </tr>\n",
       "    <tr>\n",
       "      <th>11875</th>\n",
       "      <td>18/07/2024</td>\n",
       "      <td>1,08</td>\n",
       "      <td>=</td>\n",
       "      <td>carrefour</td>\n",
       "      <td>leche</td>\n",
       "      <td>leche-desnatada-central-lechera-asturiana-brik...</td>\n",
       "    </tr>\n",
       "    <tr>\n",
       "      <th>11876</th>\n",
       "      <td>19/07/2024</td>\n",
       "      <td>1,08</td>\n",
       "      <td>=</td>\n",
       "      <td>carrefour</td>\n",
       "      <td>leche</td>\n",
       "      <td>leche-desnatada-central-lechera-asturiana-brik...</td>\n",
       "    </tr>\n",
       "  </tbody>\n",
       "</table>\n",
       "</div>"
      ],
      "text/plain": [
       "              Día Precio (€) Variación supermercado producto  \\\n",
       "11872  15/07/2024       1,08         =    carrefour    leche   \n",
       "11873  16/07/2024       1,08         =    carrefour    leche   \n",
       "11874  17/07/2024       1,08         =    carrefour    leche   \n",
       "11875  18/07/2024       1,08         =    carrefour    leche   \n",
       "11876  19/07/2024       1,08         =    carrefour    leche   \n",
       "\n",
       "                                                variante  \n",
       "11872  leche-desnatada-central-lechera-asturiana-brik...  \n",
       "11873  leche-desnatada-central-lechera-asturiana-brik...  \n",
       "11874  leche-desnatada-central-lechera-asturiana-brik...  \n",
       "11875  leche-desnatada-central-lechera-asturiana-brik...  \n",
       "11876  leche-desnatada-central-lechera-asturiana-brik...  "
      ]
     },
     "execution_count": 87,
     "metadata": {},
     "output_type": "execute_result"
    }
   ],
   "source": [
    "df_total[df_total.duplicated()].head()"
   ]
  },
  {
   "cell_type": "code",
   "execution_count": 88,
   "metadata": {},
   "outputs": [],
   "source": [
    "df_total.drop_duplicates(inplace=True)"
   ]
  },
  {
   "cell_type": "markdown",
   "metadata": {},
   "source": [
    "Formateamos"
   ]
  },
  {
   "cell_type": "code",
   "execution_count": 89,
   "metadata": {},
   "outputs": [
    {
     "name": "stdout",
     "output_type": "stream",
     "text": [
      "<class 'pandas.core.frame.DataFrame'>\n",
      "Index: 132954 entries, 0 to 32867\n",
      "Data columns (total 6 columns):\n",
      " #   Column        Non-Null Count   Dtype \n",
      "---  ------        --------------   ----- \n",
      " 0   Día           132954 non-null  object\n",
      " 1   Precio (€)    132954 non-null  object\n",
      " 2   Variación     132954 non-null  object\n",
      " 3   supermercado  132954 non-null  object\n",
      " 4   producto      132954 non-null  object\n",
      " 5   variante      132954 non-null  object\n",
      "dtypes: object(6)\n",
      "memory usage: 7.1+ MB\n"
     ]
    }
   ],
   "source": [
    "df_total.info()"
   ]
  },
  {
   "cell_type": "code",
   "execution_count": 90,
   "metadata": {},
   "outputs": [],
   "source": [
    "df_total[\"Precio (€)\"]=df_total[\"Precio (€)\"].str.replace(\",\", \".\").astype(float)\n",
    "\n"
   ]
  },
  {
   "cell_type": "code",
   "execution_count": 91,
   "metadata": {},
   "outputs": [
    {
     "data": {
      "text/html": [
       "<div>\n",
       "<style scoped>\n",
       "    .dataframe tbody tr th:only-of-type {\n",
       "        vertical-align: middle;\n",
       "    }\n",
       "\n",
       "    .dataframe tbody tr th {\n",
       "        vertical-align: top;\n",
       "    }\n",
       "\n",
       "    .dataframe thead th {\n",
       "        text-align: right;\n",
       "    }\n",
       "</style>\n",
       "<table border=\"1\" class=\"dataframe\">\n",
       "  <thead>\n",
       "    <tr style=\"text-align: right;\">\n",
       "      <th></th>\n",
       "      <th>Día</th>\n",
       "      <th>Precio (€)</th>\n",
       "      <th>Variación</th>\n",
       "      <th>supermercado</th>\n",
       "      <th>producto</th>\n",
       "      <th>variante</th>\n",
       "    </tr>\n",
       "  </thead>\n",
       "  <tbody>\n",
       "    <tr>\n",
       "      <th>38721</th>\n",
       "      <td>19/07/2024</td>\n",
       "      <td>1.89</td>\n",
       "      <td>=</td>\n",
       "      <td>hipercor</td>\n",
       "      <td>leche</td>\n",
       "      <td>puleva-leche-fresca-semidesnatada-ecológica-bo...</td>\n",
       "    </tr>\n",
       "    <tr>\n",
       "      <th>19636</th>\n",
       "      <td>25/10/2024</td>\n",
       "      <td>6.42</td>\n",
       "      <td>+0,12 (1,90%)</td>\n",
       "      <td>alcampo</td>\n",
       "      <td>leche</td>\n",
       "      <td>central-lechera-asturiana-leche-de-vaca-semide...</td>\n",
       "    </tr>\n",
       "    <tr>\n",
       "      <th>80</th>\n",
       "      <td>02/08/2024</td>\n",
       "      <td>9.75</td>\n",
       "      <td>=</td>\n",
       "      <td>dia</td>\n",
       "      <td>aceite-de-girasol</td>\n",
       "      <td>aceite-de-girasol-coosol-garrafa-5-l</td>\n",
       "    </tr>\n",
       "    <tr>\n",
       "      <th>9377</th>\n",
       "      <td>15/09/2024</td>\n",
       "      <td>6.46</td>\n",
       "      <td>=</td>\n",
       "      <td>alcampo</td>\n",
       "      <td>aceite-de-oliva</td>\n",
       "      <td>maestros-de-hojiblanca-oda-n--5--aceite-de-oli...</td>\n",
       "    </tr>\n",
       "    <tr>\n",
       "      <th>35735</th>\n",
       "      <td>31/07/2024</td>\n",
       "      <td>1.45</td>\n",
       "      <td>=</td>\n",
       "      <td>hipercor</td>\n",
       "      <td>leche</td>\n",
       "      <td>pascual-leche-desnatada-sin-lactosa-brik-1-l</td>\n",
       "    </tr>\n",
       "  </tbody>\n",
       "</table>\n",
       "</div>"
      ],
      "text/plain": [
       "              Día  Precio (€)      Variación supermercado           producto  \\\n",
       "38721  19/07/2024        1.89              =     hipercor              leche   \n",
       "19636  25/10/2024        6.42  +0,12 (1,90%)      alcampo              leche   \n",
       "80     02/08/2024        9.75              =          dia  aceite-de-girasol   \n",
       "9377   15/09/2024        6.46              =      alcampo    aceite-de-oliva   \n",
       "35735  31/07/2024        1.45              =     hipercor              leche   \n",
       "\n",
       "                                                variante  \n",
       "38721  puleva-leche-fresca-semidesnatada-ecológica-bo...  \n",
       "19636  central-lechera-asturiana-leche-de-vaca-semide...  \n",
       "80                  aceite-de-girasol-coosol-garrafa-5-l  \n",
       "9377   maestros-de-hojiblanca-oda-n--5--aceite-de-oli...  \n",
       "35735       pascual-leche-desnatada-sin-lactosa-brik-1-l  "
      ]
     },
     "execution_count": 91,
     "metadata": {},
     "output_type": "execute_result"
    }
   ],
   "source": [
    "df_total.sample(5)"
   ]
  },
  {
   "cell_type": "code",
   "execution_count": 92,
   "metadata": {},
   "outputs": [],
   "source": [
    "df_total[\"Variación\"]=df_total[\"Variación\"].str.replace(\"+\",\"\").str.replace(\",\", \".\").str.split(\" \").str[0].str.replace(\"=\", \"0\").astype(float)"
   ]
  },
  {
   "cell_type": "code",
   "execution_count": 93,
   "metadata": {},
   "outputs": [],
   "source": [
    "df_total[\"Día\"]=pd.to_datetime(df_total[\"Día\"], dayfirst= True)"
   ]
  },
  {
   "cell_type": "code",
   "execution_count": 94,
   "metadata": {},
   "outputs": [
    {
     "name": "stdout",
     "output_type": "stream",
     "text": [
      "<class 'pandas.core.frame.DataFrame'>\n",
      "Index: 132954 entries, 0 to 32867\n",
      "Data columns (total 6 columns):\n",
      " #   Column        Non-Null Count   Dtype         \n",
      "---  ------        --------------   -----         \n",
      " 0   Día           132954 non-null  datetime64[ns]\n",
      " 1   Precio (€)    132954 non-null  float64       \n",
      " 2   Variación     132954 non-null  float64       \n",
      " 3   supermercado  132954 non-null  object        \n",
      " 4   producto      132954 non-null  object        \n",
      " 5   variante      132954 non-null  object        \n",
      "dtypes: datetime64[ns](1), float64(2), object(3)\n",
      "memory usage: 7.1+ MB\n"
     ]
    }
   ],
   "source": [
    "df_total.info()"
   ]
  },
  {
   "cell_type": "code",
   "execution_count": 95,
   "metadata": {},
   "outputs": [
    {
     "data": {
      "text/html": [
       "<div>\n",
       "<style scoped>\n",
       "    .dataframe tbody tr th:only-of-type {\n",
       "        vertical-align: middle;\n",
       "    }\n",
       "\n",
       "    .dataframe tbody tr th {\n",
       "        vertical-align: top;\n",
       "    }\n",
       "\n",
       "    .dataframe thead th {\n",
       "        text-align: right;\n",
       "    }\n",
       "</style>\n",
       "<table border=\"1\" class=\"dataframe\">\n",
       "  <thead>\n",
       "    <tr style=\"text-align: right;\">\n",
       "      <th></th>\n",
       "      <th>count</th>\n",
       "      <th>mean</th>\n",
       "      <th>min</th>\n",
       "      <th>25%</th>\n",
       "      <th>50%</th>\n",
       "      <th>75%</th>\n",
       "      <th>max</th>\n",
       "      <th>std</th>\n",
       "    </tr>\n",
       "  </thead>\n",
       "  <tbody>\n",
       "    <tr>\n",
       "      <th>Día</th>\n",
       "      <td>132954</td>\n",
       "      <td>2024-08-30 11:24:23.946929152</td>\n",
       "      <td>2024-06-22 00:00:00</td>\n",
       "      <td>2024-08-04 00:00:00</td>\n",
       "      <td>2024-08-29 00:00:00</td>\n",
       "      <td>2024-09-25 00:00:00</td>\n",
       "      <td>2024-10-26 00:00:00</td>\n",
       "      <td>NaN</td>\n",
       "    </tr>\n",
       "    <tr>\n",
       "      <th>Precio (€)</th>\n",
       "      <td>132954.0</td>\n",
       "      <td>9.734827</td>\n",
       "      <td>0.5</td>\n",
       "      <td>1.41</td>\n",
       "      <td>5.22</td>\n",
       "      <td>11.19</td>\n",
       "      <td>154.32</td>\n",
       "      <td>13.650662</td>\n",
       "    </tr>\n",
       "    <tr>\n",
       "      <th>Variación</th>\n",
       "      <td>132954.0</td>\n",
       "      <td>-0.003576</td>\n",
       "      <td>-21.33</td>\n",
       "      <td>0.0</td>\n",
       "      <td>0.0</td>\n",
       "      <td>0.0</td>\n",
       "      <td>20.69</td>\n",
       "      <td>0.53269</td>\n",
       "    </tr>\n",
       "  </tbody>\n",
       "</table>\n",
       "</div>"
      ],
      "text/plain": [
       "               count                           mean                  min  \\\n",
       "Día           132954  2024-08-30 11:24:23.946929152  2024-06-22 00:00:00   \n",
       "Precio (€)  132954.0                       9.734827                  0.5   \n",
       "Variación   132954.0                      -0.003576               -21.33   \n",
       "\n",
       "                            25%                  50%                  75%  \\\n",
       "Día         2024-08-04 00:00:00  2024-08-29 00:00:00  2024-09-25 00:00:00   \n",
       "Precio (€)                 1.41                 5.22                11.19   \n",
       "Variación                   0.0                  0.0                  0.0   \n",
       "\n",
       "                            max        std  \n",
       "Día         2024-10-26 00:00:00        NaN  \n",
       "Precio (€)               154.32  13.650662  \n",
       "Variación                 20.69    0.53269  "
      ]
     },
     "execution_count": 95,
     "metadata": {},
     "output_type": "execute_result"
    }
   ],
   "source": [
    "df_total.describe().T"
   ]
  },
  {
   "cell_type": "code",
   "execution_count": 96,
   "metadata": {},
   "outputs": [
    {
     "data": {
      "text/html": [
       "<div>\n",
       "<style scoped>\n",
       "    .dataframe tbody tr th:only-of-type {\n",
       "        vertical-align: middle;\n",
       "    }\n",
       "\n",
       "    .dataframe tbody tr th {\n",
       "        vertical-align: top;\n",
       "    }\n",
       "\n",
       "    .dataframe thead th {\n",
       "        text-align: right;\n",
       "    }\n",
       "</style>\n",
       "<table border=\"1\" class=\"dataframe\">\n",
       "  <thead>\n",
       "    <tr style=\"text-align: right;\">\n",
       "      <th></th>\n",
       "      <th>count</th>\n",
       "      <th>unique</th>\n",
       "      <th>top</th>\n",
       "      <th>freq</th>\n",
       "    </tr>\n",
       "  </thead>\n",
       "  <tbody>\n",
       "    <tr>\n",
       "      <th>supermercado</th>\n",
       "      <td>132954</td>\n",
       "      <td>6</td>\n",
       "      <td>hipercor</td>\n",
       "      <td>41096</td>\n",
       "    </tr>\n",
       "    <tr>\n",
       "      <th>producto</th>\n",
       "      <td>132954</td>\n",
       "      <td>3</td>\n",
       "      <td>leche</td>\n",
       "      <td>68599</td>\n",
       "    </tr>\n",
       "    <tr>\n",
       "      <th>variante</th>\n",
       "      <td>132954</td>\n",
       "      <td>1582</td>\n",
       "      <td>aceite-de-oliva-virgen-extra-picual-casa-junca...</td>\n",
       "      <td>242</td>\n",
       "    </tr>\n",
       "  </tbody>\n",
       "</table>\n",
       "</div>"
      ],
      "text/plain": [
       "               count unique  \\\n",
       "supermercado  132954      6   \n",
       "producto      132954      3   \n",
       "variante      132954   1582   \n",
       "\n",
       "                                                            top   freq  \n",
       "supermercado                                           hipercor  41096  \n",
       "producto                                                  leche  68599  \n",
       "variante      aceite-de-oliva-virgen-extra-picual-casa-junca...    242  "
      ]
     },
     "execution_count": 96,
     "metadata": {},
     "output_type": "execute_result"
    }
   ],
   "source": [
    "df_total.describe(include=\"O\").T"
   ]
  },
  {
   "cell_type": "markdown",
   "metadata": {},
   "source": [
    "COMENTARIOS EDA inicial:  \n",
    "\n",
    "\n",
    "\n",
    "- La media de precio de los principales supermercados (en los productos de aceite de girasol, aceite de oliva y leche) en España es de 9,73€, mientras que la mediana es de 5,22€ indicando que en los principales supermercados tienen ciertos productos bastante más caros mientras que parece haber una mayor cantidad de productos \"baratos\" (pues para calcular la mediana se ordenann de menor a mayor los productos más baratos están al principio).\n",
    "\n",
    "- En cuanto a la variación de precio, se observa que por lo general no hay variaciones y son bastante estables sin enbargo si que comprobamos un máximo y un mínimo de variación muy destacables(lo que podría indicar o bien promociones (como el descuento del IVA) o/y subidas de precio abusivas)\n",
    "\n",
    "Otros datos de interés:  \n",
    "\n",
    "- El supermercado que más aparece es Hipercor también el producto Leche y la variante Aceite de oliva virgen extra Picual Casa Juncal.\t\n"
   ]
  },
  {
   "cell_type": "markdown",
   "metadata": {},
   "source": [
    "**CREACION DE BASE DE DATOS EN DBEAVER**"
   ]
  },
  {
   "cell_type": "markdown",
   "metadata": {},
   "source": [
    "Primero diseño los Data Frames que serán mis futuras tablas en la la base de datos"
   ]
  },
  {
   "cell_type": "code",
   "execution_count": 98,
   "metadata": {},
   "outputs": [],
   "source": [
    "df_supermercados= pd.DataFrame()\n",
    "df_supermercados[\"super\"]= df_total[\"supermercado\"].unique()\n",
    "\n",
    "df_productos= pd.DataFrame()\n",
    "df_productos[\"producto\"]= df_total[\"producto\"].unique()"
   ]
  },
  {
   "cell_type": "code",
   "execution_count": 99,
   "metadata": {},
   "outputs": [],
   "source": [
    "df_diccsupe=f.crear_df_id (df_supermercados, \"super\")\n"
   ]
  },
  {
   "cell_type": "code",
   "execution_count": 100,
   "metadata": {},
   "outputs": [],
   "source": [
    "df_diccpro=f.crear_df_id(df_productos, \"producto\")"
   ]
  },
  {
   "cell_type": "code",
   "execution_count": 101,
   "metadata": {},
   "outputs": [
    {
     "data": {
      "text/html": [
       "<div>\n",
       "<style scoped>\n",
       "    .dataframe tbody tr th:only-of-type {\n",
       "        vertical-align: middle;\n",
       "    }\n",
       "\n",
       "    .dataframe tbody tr th {\n",
       "        vertical-align: top;\n",
       "    }\n",
       "\n",
       "    .dataframe thead th {\n",
       "        text-align: right;\n",
       "    }\n",
       "</style>\n",
       "<table border=\"1\" class=\"dataframe\">\n",
       "  <thead>\n",
       "    <tr style=\"text-align: right;\">\n",
       "      <th></th>\n",
       "      <th>fecha</th>\n",
       "      <th>supermercado</th>\n",
       "      <th>producto</th>\n",
       "      <th>variante</th>\n",
       "      <th>precio</th>\n",
       "      <th>variacion</th>\n",
       "    </tr>\n",
       "  </thead>\n",
       "  <tbody>\n",
       "    <tr>\n",
       "      <th>0</th>\n",
       "      <td>2024-07-12</td>\n",
       "      <td>carrefour</td>\n",
       "      <td>aceite-de-girasol</td>\n",
       "      <td>aceite-de-girasol-capicua-garrafa-5-l</td>\n",
       "      <td>21.4</td>\n",
       "      <td>0.0</td>\n",
       "    </tr>\n",
       "    <tr>\n",
       "      <th>1</th>\n",
       "      <td>2024-07-13</td>\n",
       "      <td>carrefour</td>\n",
       "      <td>aceite-de-girasol</td>\n",
       "      <td>aceite-de-girasol-capicua-garrafa-5-l</td>\n",
       "      <td>21.4</td>\n",
       "      <td>0.0</td>\n",
       "    </tr>\n",
       "    <tr>\n",
       "      <th>2</th>\n",
       "      <td>2024-07-14</td>\n",
       "      <td>carrefour</td>\n",
       "      <td>aceite-de-girasol</td>\n",
       "      <td>aceite-de-girasol-capicua-garrafa-5-l</td>\n",
       "      <td>21.4</td>\n",
       "      <td>0.0</td>\n",
       "    </tr>\n",
       "    <tr>\n",
       "      <th>3</th>\n",
       "      <td>2024-07-15</td>\n",
       "      <td>carrefour</td>\n",
       "      <td>aceite-de-girasol</td>\n",
       "      <td>aceite-de-girasol-capicua-garrafa-5-l</td>\n",
       "      <td>21.4</td>\n",
       "      <td>0.0</td>\n",
       "    </tr>\n",
       "    <tr>\n",
       "      <th>4</th>\n",
       "      <td>2024-07-16</td>\n",
       "      <td>carrefour</td>\n",
       "      <td>aceite-de-girasol</td>\n",
       "      <td>aceite-de-girasol-capicua-garrafa-5-l</td>\n",
       "      <td>21.4</td>\n",
       "      <td>0.0</td>\n",
       "    </tr>\n",
       "  </tbody>\n",
       "</table>\n",
       "</div>"
      ],
      "text/plain": [
       "       fecha supermercado           producto  \\\n",
       "0 2024-07-12    carrefour  aceite-de-girasol   \n",
       "1 2024-07-13    carrefour  aceite-de-girasol   \n",
       "2 2024-07-14    carrefour  aceite-de-girasol   \n",
       "3 2024-07-15    carrefour  aceite-de-girasol   \n",
       "4 2024-07-16    carrefour  aceite-de-girasol   \n",
       "\n",
       "                                variante  precio  variacion  \n",
       "0  aceite-de-girasol-capicua-garrafa-5-l    21.4        0.0  \n",
       "1  aceite-de-girasol-capicua-garrafa-5-l    21.4        0.0  \n",
       "2  aceite-de-girasol-capicua-garrafa-5-l    21.4        0.0  \n",
       "3  aceite-de-girasol-capicua-garrafa-5-l    21.4        0.0  \n",
       "4  aceite-de-girasol-capicua-garrafa-5-l    21.4        0.0  "
      ]
     },
     "execution_count": 101,
     "metadata": {},
     "output_type": "execute_result"
    }
   ],
   "source": [
    "df_principal= pd.DataFrame()\n",
    "df_principal[\"fecha\"]= df_total[\"Día\"]\n",
    "df_principal[\"supermercado\"]= df_total[\"supermercado\"]\n",
    "df_principal[\"producto\"]= df_total[\"producto\"]\n",
    "df_principal[\"variante\"]=df_total[\"variante\"]\n",
    "df_principal[\"precio\"]= df_total[\"Precio (€)\"]\n",
    "df_principal[\"variacion\"]=df_total[\"Variación\"]\n",
    "df_principal.head()"
   ]
  },
  {
   "cell_type": "code",
   "execution_count": 102,
   "metadata": {},
   "outputs": [
    {
     "data": {
      "text/html": [
       "<div>\n",
       "<style scoped>\n",
       "    .dataframe tbody tr th:only-of-type {\n",
       "        vertical-align: middle;\n",
       "    }\n",
       "\n",
       "    .dataframe tbody tr th {\n",
       "        vertical-align: top;\n",
       "    }\n",
       "\n",
       "    .dataframe thead th {\n",
       "        text-align: right;\n",
       "    }\n",
       "</style>\n",
       "<table border=\"1\" class=\"dataframe\">\n",
       "  <thead>\n",
       "    <tr style=\"text-align: right;\">\n",
       "      <th></th>\n",
       "      <th>fecha</th>\n",
       "      <th>supermercado</th>\n",
       "      <th>variante</th>\n",
       "      <th>precio</th>\n",
       "      <th>variacion</th>\n",
       "      <th>id_producto</th>\n",
       "    </tr>\n",
       "  </thead>\n",
       "  <tbody>\n",
       "    <tr>\n",
       "      <th>5469</th>\n",
       "      <td>2024-07-22</td>\n",
       "      <td>hipercor</td>\n",
       "      <td>carbonell-aceite-de-oliva-suave-04-pack-2-bote...</td>\n",
       "      <td>20.91</td>\n",
       "      <td>0.0</td>\n",
       "      <td>2</td>\n",
       "    </tr>\n",
       "    <tr>\n",
       "      <th>28619</th>\n",
       "      <td>2024-08-27</td>\n",
       "      <td>alcampo</td>\n",
       "      <td>président-leche-desnatada-de-vaca-de-origen-10...</td>\n",
       "      <td>6.30</td>\n",
       "      <td>0.0</td>\n",
       "      <td>3</td>\n",
       "    </tr>\n",
       "    <tr>\n",
       "      <th>22902</th>\n",
       "      <td>2024-09-12</td>\n",
       "      <td>hipercor</td>\n",
       "      <td>asturiana-leche-desnatada-sin-lactosa-0%-mater...</td>\n",
       "      <td>1.25</td>\n",
       "      <td>0.0</td>\n",
       "      <td>3</td>\n",
       "    </tr>\n",
       "  </tbody>\n",
       "</table>\n",
       "</div>"
      ],
      "text/plain": [
       "           fecha supermercado  \\\n",
       "5469  2024-07-22     hipercor   \n",
       "28619 2024-08-27      alcampo   \n",
       "22902 2024-09-12     hipercor   \n",
       "\n",
       "                                                variante  precio  variacion  \\\n",
       "5469   carbonell-aceite-de-oliva-suave-04-pack-2-bote...   20.91        0.0   \n",
       "28619  président-leche-desnatada-de-vaca-de-origen-10...    6.30        0.0   \n",
       "22902  asturiana-leche-desnatada-sin-lactosa-0%-mater...    1.25        0.0   \n",
       "\n",
       "       id_producto  \n",
       "5469             2  \n",
       "28619            3  \n",
       "22902            3  "
      ]
     },
     "execution_count": 102,
     "metadata": {},
     "output_type": "execute_result"
    }
   ],
   "source": [
    "f.añadir_id_mapeado(df_diccpro,\"producto\",\"id_producto\",\"producto\",\"id_producto\", df_principal).sample(3)"
   ]
  },
  {
   "cell_type": "code",
   "execution_count": 103,
   "metadata": {},
   "outputs": [
    {
     "data": {
      "text/html": [
       "<div>\n",
       "<style scoped>\n",
       "    .dataframe tbody tr th:only-of-type {\n",
       "        vertical-align: middle;\n",
       "    }\n",
       "\n",
       "    .dataframe tbody tr th {\n",
       "        vertical-align: top;\n",
       "    }\n",
       "\n",
       "    .dataframe thead th {\n",
       "        text-align: right;\n",
       "    }\n",
       "</style>\n",
       "<table border=\"1\" class=\"dataframe\">\n",
       "  <thead>\n",
       "    <tr style=\"text-align: right;\">\n",
       "      <th></th>\n",
       "      <th>fecha</th>\n",
       "      <th>variante</th>\n",
       "      <th>precio</th>\n",
       "      <th>variacion</th>\n",
       "      <th>id_producto</th>\n",
       "      <th>id_supermercado</th>\n",
       "    </tr>\n",
       "  </thead>\n",
       "  <tbody>\n",
       "    <tr>\n",
       "      <th>36205</th>\n",
       "      <td>2024-08-06</td>\n",
       "      <td>pascual-leche-semidesnatada-brik-1-l</td>\n",
       "      <td>1.30</td>\n",
       "      <td>0.00</td>\n",
       "      <td>3</td>\n",
       "      <td>5</td>\n",
       "    </tr>\n",
       "    <tr>\n",
       "      <th>13731</th>\n",
       "      <td>2024-10-06</td>\n",
       "      <td>leche-desnatada-ram-brik-1-litro</td>\n",
       "      <td>1.17</td>\n",
       "      <td>0.00</td>\n",
       "      <td>3</td>\n",
       "      <td>3</td>\n",
       "    </tr>\n",
       "    <tr>\n",
       "      <th>5976</th>\n",
       "      <td>2024-10-01</td>\n",
       "      <td>leche-desnatada-lauki-brik-1-l</td>\n",
       "      <td>10.32</td>\n",
       "      <td>0.18</td>\n",
       "      <td>3</td>\n",
       "      <td>4</td>\n",
       "    </tr>\n",
       "  </tbody>\n",
       "</table>\n",
       "</div>"
      ],
      "text/plain": [
       "           fecha                              variante  precio  variacion  \\\n",
       "36205 2024-08-06  pascual-leche-semidesnatada-brik-1-l    1.30       0.00   \n",
       "13731 2024-10-06      leche-desnatada-ram-brik-1-litro    1.17       0.00   \n",
       "5976  2024-10-01        leche-desnatada-lauki-brik-1-l   10.32       0.18   \n",
       "\n",
       "       id_producto  id_supermercado  \n",
       "36205            3                5  \n",
       "13731            3                3  \n",
       "5976             3                4  "
      ]
     },
     "execution_count": 103,
     "metadata": {},
     "output_type": "execute_result"
    }
   ],
   "source": [
    "f.añadir_id_mapeado(df_diccsupe,\"super\",\"id_super\",\"supermercado\",\"id_supermercado\", df_principal).sample(3)"
   ]
  },
  {
   "cell_type": "code",
   "execution_count": 104,
   "metadata": {},
   "outputs": [],
   "source": [
    "df_principal.index = pd.RangeIndex(start=1,stop = len(df_principal)+1,step=1)\n",
    "df_principal[\"id_principal\"]=df_principal.index\n"
   ]
  },
  {
   "cell_type": "code",
   "execution_count": 105,
   "metadata": {},
   "outputs": [
    {
     "data": {
      "text/html": [
       "<div>\n",
       "<style scoped>\n",
       "    .dataframe tbody tr th:only-of-type {\n",
       "        vertical-align: middle;\n",
       "    }\n",
       "\n",
       "    .dataframe tbody tr th {\n",
       "        vertical-align: top;\n",
       "    }\n",
       "\n",
       "    .dataframe thead th {\n",
       "        text-align: right;\n",
       "    }\n",
       "</style>\n",
       "<table border=\"1\" class=\"dataframe\">\n",
       "  <thead>\n",
       "    <tr style=\"text-align: right;\">\n",
       "      <th></th>\n",
       "      <th>fecha</th>\n",
       "      <th>variante</th>\n",
       "      <th>precio</th>\n",
       "      <th>variacion</th>\n",
       "      <th>id_producto</th>\n",
       "      <th>id_supermercado</th>\n",
       "      <th>id_principal</th>\n",
       "    </tr>\n",
       "  </thead>\n",
       "  <tbody>\n",
       "    <tr>\n",
       "      <th>1</th>\n",
       "      <td>2024-07-12</td>\n",
       "      <td>aceite-de-girasol-capicua-garrafa-5-l</td>\n",
       "      <td>21.4</td>\n",
       "      <td>0.0</td>\n",
       "      <td>1</td>\n",
       "      <td>1</td>\n",
       "      <td>1</td>\n",
       "    </tr>\n",
       "    <tr>\n",
       "      <th>2</th>\n",
       "      <td>2024-07-13</td>\n",
       "      <td>aceite-de-girasol-capicua-garrafa-5-l</td>\n",
       "      <td>21.4</td>\n",
       "      <td>0.0</td>\n",
       "      <td>1</td>\n",
       "      <td>1</td>\n",
       "      <td>2</td>\n",
       "    </tr>\n",
       "  </tbody>\n",
       "</table>\n",
       "</div>"
      ],
      "text/plain": [
       "       fecha                               variante  precio  variacion  \\\n",
       "1 2024-07-12  aceite-de-girasol-capicua-garrafa-5-l    21.4        0.0   \n",
       "2 2024-07-13  aceite-de-girasol-capicua-garrafa-5-l    21.4        0.0   \n",
       "\n",
       "   id_producto  id_supermercado  id_principal  \n",
       "1            1                1             1  \n",
       "2            1                1             2  "
      ]
     },
     "execution_count": 105,
     "metadata": {},
     "output_type": "execute_result"
    }
   ],
   "source": [
    "df_principal.head(2)"
   ]
  },
  {
   "cell_type": "code",
   "execution_count": 106,
   "metadata": {},
   "outputs": [
    {
     "data": {
      "text/html": [
       "<div>\n",
       "<style scoped>\n",
       "    .dataframe tbody tr th:only-of-type {\n",
       "        vertical-align: middle;\n",
       "    }\n",
       "\n",
       "    .dataframe tbody tr th {\n",
       "        vertical-align: top;\n",
       "    }\n",
       "\n",
       "    .dataframe thead th {\n",
       "        text-align: right;\n",
       "    }\n",
       "</style>\n",
       "<table border=\"1\" class=\"dataframe\">\n",
       "  <thead>\n",
       "    <tr style=\"text-align: right;\">\n",
       "      <th></th>\n",
       "      <th>fecha</th>\n",
       "      <th>variante</th>\n",
       "      <th>precio</th>\n",
       "      <th>variacion</th>\n",
       "      <th>id_producto</th>\n",
       "      <th>id_supermercado</th>\n",
       "      <th>id_principal</th>\n",
       "    </tr>\n",
       "  </thead>\n",
       "  <tbody>\n",
       "    <tr>\n",
       "      <th>94395</th>\n",
       "      <td>2024-08-06</td>\n",
       "      <td>lletera-campllong-leche-entera-brik-1-l</td>\n",
       "      <td>1.14</td>\n",
       "      <td>0.00</td>\n",
       "      <td>3</td>\n",
       "      <td>5</td>\n",
       "      <td>94395</td>\n",
       "    </tr>\n",
       "    <tr>\n",
       "      <th>6767</th>\n",
       "      <td>2024-07-13</td>\n",
       "      <td>aceite-de-oliva-virgen-extra-ecológico-carbone...</td>\n",
       "      <td>10.33</td>\n",
       "      <td>0.00</td>\n",
       "      <td>2</td>\n",
       "      <td>1</td>\n",
       "      <td>6767</td>\n",
       "    </tr>\n",
       "    <tr>\n",
       "      <th>19837</th>\n",
       "      <td>2024-09-13</td>\n",
       "      <td>aceite-de-oliva-virgen-hacendado-3-l</td>\n",
       "      <td>23.40</td>\n",
       "      <td>0.00</td>\n",
       "      <td>2</td>\n",
       "      <td>2</td>\n",
       "      <td>19837</td>\n",
       "    </tr>\n",
       "    <tr>\n",
       "      <th>53740</th>\n",
       "      <td>2024-07-29</td>\n",
       "      <td>leche-desnatada-sin-lactosa-pascual-brik-1-l</td>\n",
       "      <td>1.19</td>\n",
       "      <td>0.00</td>\n",
       "      <td>3</td>\n",
       "      <td>4</td>\n",
       "      <td>53740</td>\n",
       "    </tr>\n",
       "    <tr>\n",
       "      <th>31084</th>\n",
       "      <td>2024-10-22</td>\n",
       "      <td>aceite-de-oliva-virgen-extra-mendia-garrafa-3-...</td>\n",
       "      <td>26.70</td>\n",
       "      <td>-6.47</td>\n",
       "      <td>2</td>\n",
       "      <td>3</td>\n",
       "      <td>31084</td>\n",
       "    </tr>\n",
       "  </tbody>\n",
       "</table>\n",
       "</div>"
      ],
      "text/plain": [
       "           fecha                                           variante  precio  \\\n",
       "94395 2024-08-06            lletera-campllong-leche-entera-brik-1-l    1.14   \n",
       "6767  2024-07-13  aceite-de-oliva-virgen-extra-ecológico-carbone...   10.33   \n",
       "19837 2024-09-13               aceite-de-oliva-virgen-hacendado-3-l   23.40   \n",
       "53740 2024-07-29       leche-desnatada-sin-lactosa-pascual-brik-1-l    1.19   \n",
       "31084 2024-10-22  aceite-de-oliva-virgen-extra-mendia-garrafa-3-...   26.70   \n",
       "\n",
       "       variacion  id_producto  id_supermercado  id_principal  \n",
       "94395       0.00            3                5         94395  \n",
       "6767        0.00            2                1          6767  \n",
       "19837       0.00            2                2         19837  \n",
       "53740       0.00            3                4         53740  \n",
       "31084      -6.47            2                3         31084  "
      ]
     },
     "execution_count": 106,
     "metadata": {},
     "output_type": "execute_result"
    }
   ],
   "source": [
    "df_principal.sample(5)"
   ]
  },
  {
   "cell_type": "markdown",
   "metadata": {},
   "source": [
    "Ahora conecto con mi base de datos para empezar a crear allí las tablas con los datos"
   ]
  },
  {
   "cell_type": "code",
   "execution_count": 107,
   "metadata": {},
   "outputs": [],
   "source": [
    "try:\n",
    "    conexion= psycopg2.connect(\n",
    "        database= \"Precios_productos_basicos\",\n",
    "        user= \"postgres\",\n",
    "        password= \"admin\",\n",
    "        host= \"localhost\",\n",
    "        port= \"5432\"\n",
    "    )\n",
    "except OperationalError as e:\n",
    "    if e.pgcode == errorcodes.INVALID_PASSWORD:\n",
    "        print(\"La contraseña es erronea\")\n",
    "    elif e.pgcode == errorcodes.CONNECTION_EXCEPTION:\n",
    "        print(\"Error de conexion\")\n",
    "    else:\n",
    "        print(f\"Ocurrió el error {e}\")"
   ]
  },
  {
   "cell_type": "markdown",
   "metadata": {},
   "source": [
    "TABLA Supers"
   ]
  },
  {
   "cell_type": "code",
   "execution_count": 108,
   "metadata": {},
   "outputs": [],
   "source": [
    "cursor= conexion.cursor()\n",
    "query_creacion= \"\"\"\n",
    "CREATE TABLE IF NOT EXISTS mercados(\n",
    "    super VARCHAR(100),\n",
    "    id_super INT PRIMARY KEY   \n",
    ");\n",
    "\"\"\"\n",
    "cursor.execute(query_creacion)   \n",
    "conexion.commit()"
   ]
  },
  {
   "cell_type": "code",
   "execution_count": 109,
   "metadata": {},
   "outputs": [],
   "source": [
    "lista_de_tuplas=[]\n",
    "for fila in df_diccsupe.values:\n",
    "    lista_de_tuplas.append(tuple(fila))\n"
   ]
  },
  {
   "cell_type": "code",
   "execution_count": 110,
   "metadata": {},
   "outputs": [],
   "source": [
    "     \n",
    "query_insercion= \"INSERT INTO mercados (super, id_super) VALUES (%s, %s);\"      #%s es como el format de los strings (la f)\n",
    "\n",
    "cursor.executemany(query_insercion, lista_de_tuplas)                 #Executemany es para poder insertar varios valores\n",
    "conexion.commit()"
   ]
  },
  {
   "cell_type": "markdown",
   "metadata": {},
   "source": [
    "TABLA PRODUCTOS"
   ]
  },
  {
   "cell_type": "code",
   "execution_count": 111,
   "metadata": {},
   "outputs": [],
   "source": [
    "cursor=conexion.cursor()\n",
    "query_creacion= \"\"\"\n",
    "CREATE TABLE productos(\n",
    "    producto VARCHAR(100),\n",
    "    id_producto INT PRIMARY KEY\n",
    ");\n",
    "\"\"\" \n",
    "cursor.execute(query_creacion)\n",
    "conexion.commit()"
   ]
  },
  {
   "cell_type": "code",
   "execution_count": 112,
   "metadata": {},
   "outputs": [],
   "source": [
    "lista_de_tuplas= []\n",
    "for fila in df_diccpro.values:\n",
    "    lista_de_tuplas.append(tuple(fila))"
   ]
  },
  {
   "cell_type": "code",
   "execution_count": 113,
   "metadata": {},
   "outputs": [],
   "source": [
    "query_insercion= \"INSERT INTO productos(producto, id_producto)  VALUES (%s,%s);\"\n",
    "cursor.executemany(query_insercion, lista_de_tuplas)\n",
    "conexion.commit()"
   ]
  },
  {
   "cell_type": "markdown",
   "metadata": {},
   "source": [
    "TABLA PRINCIPAL"
   ]
  },
  {
   "cell_type": "code",
   "execution_count": 114,
   "metadata": {},
   "outputs": [],
   "source": [
    "cursor=conexion.cursor()\n",
    "query_creacion= \"\"\"\n",
    "CREATE TABLE principal(\n",
    "    fecha DATE,\n",
    "    variante VARCHAR(300),\n",
    "    precio FLOAT,\n",
    "    variacion FLOAT,\n",
    "    id_producto INT,\n",
    "    id_super INT,\n",
    "    id_principal INT PRIMARY KEY,\n",
    "    FOREIGN KEY (id_producto) REFERENCES productos(id_producto) ON DELETE RESTRICT ON UPDATE CASCADE,\n",
    "    FOREIGN KEY (id_super) REFERENCES mercados(id_super) ON DELETE RESTRICT ON UPDATE CASCADE\n",
    ");\n",
    "\"\"\" \n",
    "cursor.execute(query_creacion)\n",
    "conexion.commit()\n"
   ]
  },
  {
   "cell_type": "code",
   "execution_count": 115,
   "metadata": {},
   "outputs": [],
   "source": [
    "lista_de_tuplas= []\n",
    "for fila in df_principal.values:\n",
    "    lista_de_tuplas.append(tuple(fila))"
   ]
  },
  {
   "cell_type": "code",
   "execution_count": 116,
   "metadata": {},
   "outputs": [],
   "source": [
    "query_insercion= \"INSERT INTO principal (fecha, variante, precio, variacion, id_producto, id_super, id_principal) VALUES (%s, %s, %s, %s, %s, %s,%s);\"      #%s es como el format de los strings (la f)\n",
    "\n",
    "cursor.executemany(query_insercion, lista_de_tuplas)                 #Executemany es para poder insertar varios valores\n",
    "conexion.commit()"
   ]
  },
  {
   "cell_type": "markdown",
   "metadata": {},
   "source": [
    "QUERYS PARA ANALIZAR"
   ]
  },
  {
   "cell_type": "markdown",
   "metadata": {},
   "source": [
    "Comparación de Precios entre Supermercados: Determinar qué supermercados ofrecen los precios más bajos y cuáles son más caros para cada producto."
   ]
  },
  {
   "cell_type": "code",
   "execution_count": 117,
   "metadata": {},
   "outputs": [],
   "source": [
    "cursor=conexion.cursor()\n",
    "query_precios_super=\"\"\"\n",
    "SELECT m.super ,p2.producto, MIN(p.precio) AS PrecioMin,  MAX(p.precio) AS PrecioMax\n",
    "FROM mercados m\n",
    "INNER JOIN principal p ON m.id_super = p.id_super\n",
    "INNER JOIN productos p2 ON p.id_producto = p2.id_producto \n",
    "GROUP BY m.super, p2.producto \n",
    "ORDER BY PrecioMin, PrecioMax DESC;\n",
    "\"\"\"\n",
    "cursor.execute(query_precios_super)\n",
    "df_precios_super_mi_max= pd.DataFrame(cursor.fetchall())"
   ]
  },
  {
   "cell_type": "code",
   "execution_count": 118,
   "metadata": {},
   "outputs": [
    {
     "data": {
      "text/html": [
       "<div>\n",
       "<style scoped>\n",
       "    .dataframe tbody tr th:only-of-type {\n",
       "        vertical-align: middle;\n",
       "    }\n",
       "\n",
       "    .dataframe tbody tr th {\n",
       "        vertical-align: top;\n",
       "    }\n",
       "\n",
       "    .dataframe thead th {\n",
       "        text-align: right;\n",
       "    }\n",
       "</style>\n",
       "<table border=\"1\" class=\"dataframe\">\n",
       "  <thead>\n",
       "    <tr style=\"text-align: right;\">\n",
       "      <th></th>\n",
       "      <th>0</th>\n",
       "      <th>1</th>\n",
       "      <th>2</th>\n",
       "      <th>3</th>\n",
       "    </tr>\n",
       "  </thead>\n",
       "  <tbody>\n",
       "    <tr>\n",
       "      <th>0</th>\n",
       "      <td>alcampo</td>\n",
       "      <td>leche</td>\n",
       "      <td>0.50</td>\n",
       "      <td>23.43</td>\n",
       "    </tr>\n",
       "    <tr>\n",
       "      <th>1</th>\n",
       "      <td>hipercor</td>\n",
       "      <td>leche</td>\n",
       "      <td>0.64</td>\n",
       "      <td>16.95</td>\n",
       "    </tr>\n",
       "    <tr>\n",
       "      <th>2</th>\n",
       "      <td>dia</td>\n",
       "      <td>leche</td>\n",
       "      <td>0.69</td>\n",
       "      <td>14.64</td>\n",
       "    </tr>\n",
       "    <tr>\n",
       "      <th>3</th>\n",
       "      <td>carrefour</td>\n",
       "      <td>leche</td>\n",
       "      <td>0.72</td>\n",
       "      <td>46.30</td>\n",
       "    </tr>\n",
       "    <tr>\n",
       "      <th>4</th>\n",
       "      <td>eroski</td>\n",
       "      <td>leche</td>\n",
       "      <td>0.73</td>\n",
       "      <td>6.85</td>\n",
       "    </tr>\n",
       "  </tbody>\n",
       "</table>\n",
       "</div>"
      ],
      "text/plain": [
       "           0      1     2      3\n",
       "0    alcampo  leche  0.50  23.43\n",
       "1   hipercor  leche  0.64  16.95\n",
       "2        dia  leche  0.69  14.64\n",
       "3  carrefour  leche  0.72  46.30\n",
       "4     eroski  leche  0.73   6.85"
      ]
     },
     "execution_count": 118,
     "metadata": {},
     "output_type": "execute_result"
    }
   ],
   "source": [
    "df_precios_super_mi_max.head()"
   ]
  },
  {
   "cell_type": "markdown",
   "metadata": {},
   "source": [
    "Análisis de la Evolución de Precios: Estudiar cómo han cambiado los precios de los productos a lo largo del tiempo en distintos supermercados."
   ]
  },
  {
   "cell_type": "code",
   "execution_count": 119,
   "metadata": {},
   "outputs": [],
   "source": [
    "cursor=conexion.cursor()\n",
    "query_evol_precios=\"\"\"\n",
    "SELECT p.fecha, m.super, p2.producto, SUM(p.variacion) OVER (PARTITION BY m.super, p2.producto ORDER BY p.fecha) AS PrecioAcumulado\n",
    "FROM mercados m\n",
    "INNER JOIN principal p ON m.id_super = p.id_super\n",
    "INNER JOIN productos p2 ON p.id_producto = p2.id_producto\n",
    "ORDER BY p2.producto, m.super, p.fecha;\n",
    "\"\"\"\n",
    "cursor.execute(query_evol_precios)\n",
    "df_evol_precios_super= pd.DataFrame(cursor.fetchall())"
   ]
  },
  {
   "cell_type": "code",
   "execution_count": 124,
   "metadata": {},
   "outputs": [
    {
     "data": {
      "text/html": [
       "<div>\n",
       "<style scoped>\n",
       "    .dataframe tbody tr th:only-of-type {\n",
       "        vertical-align: middle;\n",
       "    }\n",
       "\n",
       "    .dataframe tbody tr th {\n",
       "        vertical-align: top;\n",
       "    }\n",
       "\n",
       "    .dataframe thead th {\n",
       "        text-align: right;\n",
       "    }\n",
       "</style>\n",
       "<table border=\"1\" class=\"dataframe\">\n",
       "  <thead>\n",
       "    <tr style=\"text-align: right;\">\n",
       "      <th></th>\n",
       "      <th>0</th>\n",
       "      <th>1</th>\n",
       "      <th>2</th>\n",
       "      <th>3</th>\n",
       "    </tr>\n",
       "  </thead>\n",
       "  <tbody>\n",
       "    <tr>\n",
       "      <th>66086</th>\n",
       "      <td>2024-07-26</td>\n",
       "      <td>alcampo</td>\n",
       "      <td>leche</td>\n",
       "      <td>-11.89</td>\n",
       "    </tr>\n",
       "    <tr>\n",
       "      <th>93417</th>\n",
       "      <td>2024-08-27</td>\n",
       "      <td>dia</td>\n",
       "      <td>leche</td>\n",
       "      <td>-6.17</td>\n",
       "    </tr>\n",
       "    <tr>\n",
       "      <th>62307</th>\n",
       "      <td>2024-10-23</td>\n",
       "      <td>hipercor</td>\n",
       "      <td>aceite-de-oliva</td>\n",
       "      <td>-81.40</td>\n",
       "    </tr>\n",
       "    <tr>\n",
       "      <th>70389</th>\n",
       "      <td>2024-08-20</td>\n",
       "      <td>alcampo</td>\n",
       "      <td>leche</td>\n",
       "      <td>-21.18</td>\n",
       "    </tr>\n",
       "    <tr>\n",
       "      <th>130420</th>\n",
       "      <td>2024-07-24</td>\n",
       "      <td>mercadona</td>\n",
       "      <td>leche</td>\n",
       "      <td>-4.66</td>\n",
       "    </tr>\n",
       "  </tbody>\n",
       "</table>\n",
       "</div>"
      ],
      "text/plain": [
       "                 0          1                2      3\n",
       "66086   2024-07-26    alcampo            leche -11.89\n",
       "93417   2024-08-27        dia            leche  -6.17\n",
       "62307   2024-10-23   hipercor  aceite-de-oliva -81.40\n",
       "70389   2024-08-20    alcampo            leche -21.18\n",
       "130420  2024-07-24  mercadona            leche  -4.66"
      ]
     },
     "execution_count": 124,
     "metadata": {},
     "output_type": "execute_result"
    }
   ],
   "source": [
    "df_evol_precios_super.sample(5)"
   ]
  },
  {
   "cell_type": "markdown",
   "metadata": {},
   "source": [
    "Detección de Anomalías: Identificar subidas o bajadas de precios inusuales que podrían señalar prácticas abusivas o promociones."
   ]
  },
  {
   "cell_type": "code",
   "execution_count": 121,
   "metadata": {},
   "outputs": [],
   "source": [
    "cursor=conexion.cursor()\n",
    "query_anomalia_precios=\"\"\"\n",
    "SELECT fecha, super, p2.producto, sum(p.variacion)  \n",
    "FROM mercados m \n",
    "INNER JOIN principal p ON m.id_super = p.id_super\n",
    "INNER JOIN productos p2 ON p.id_producto = p2.id_producto \n",
    "GROUP BY super, p2.producto, fecha;\n",
    "\"\"\"\n",
    "cursor.execute(query_anomalia_precios)\n",
    "df_precios_anomalias_supers= pd.DataFrame(cursor.fetchall())"
   ]
  },
  {
   "cell_type": "code",
   "execution_count": 123,
   "metadata": {},
   "outputs": [
    {
     "data": {
      "text/html": [
       "<div>\n",
       "<style scoped>\n",
       "    .dataframe tbody tr th:only-of-type {\n",
       "        vertical-align: middle;\n",
       "    }\n",
       "\n",
       "    .dataframe tbody tr th {\n",
       "        vertical-align: top;\n",
       "    }\n",
       "\n",
       "    .dataframe thead th {\n",
       "        text-align: right;\n",
       "    }\n",
       "</style>\n",
       "<table border=\"1\" class=\"dataframe\">\n",
       "  <thead>\n",
       "    <tr style=\"text-align: right;\">\n",
       "      <th></th>\n",
       "      <th>0</th>\n",
       "      <th>1</th>\n",
       "      <th>2</th>\n",
       "      <th>3</th>\n",
       "    </tr>\n",
       "  </thead>\n",
       "  <tbody>\n",
       "    <tr>\n",
       "      <th>710</th>\n",
       "      <td>2024-09-17</td>\n",
       "      <td>dia</td>\n",
       "      <td>aceite-de-girasol</td>\n",
       "      <td>0.00</td>\n",
       "    </tr>\n",
       "    <tr>\n",
       "      <th>555</th>\n",
       "      <td>2024-10-26</td>\n",
       "      <td>carrefour</td>\n",
       "      <td>aceite-de-oliva</td>\n",
       "      <td>-0.05</td>\n",
       "    </tr>\n",
       "    <tr>\n",
       "      <th>1499</th>\n",
       "      <td>2024-10-10</td>\n",
       "      <td>hipercor</td>\n",
       "      <td>aceite-de-oliva</td>\n",
       "      <td>0.00</td>\n",
       "    </tr>\n",
       "    <tr>\n",
       "      <th>634</th>\n",
       "      <td>2024-10-16</td>\n",
       "      <td>carrefour</td>\n",
       "      <td>leche</td>\n",
       "      <td>0.00</td>\n",
       "    </tr>\n",
       "    <tr>\n",
       "      <th>799</th>\n",
       "      <td>2024-08-27</td>\n",
       "      <td>dia</td>\n",
       "      <td>aceite-de-oliva</td>\n",
       "      <td>0.00</td>\n",
       "    </tr>\n",
       "  </tbody>\n",
       "</table>\n",
       "</div>"
      ],
      "text/plain": [
       "               0          1                  2     3\n",
       "710   2024-09-17        dia  aceite-de-girasol  0.00\n",
       "555   2024-10-26  carrefour    aceite-de-oliva -0.05\n",
       "1499  2024-10-10   hipercor    aceite-de-oliva  0.00\n",
       "634   2024-10-16  carrefour              leche  0.00\n",
       "799   2024-08-27        dia    aceite-de-oliva  0.00"
      ]
     },
     "execution_count": 123,
     "metadata": {},
     "output_type": "execute_result"
    }
   ],
   "source": [
    "df_precios_anomalias_supers.sample(5)"
   ]
  },
  {
   "cell_type": "markdown",
   "metadata": {},
   "source": [
    "Análisis de la Dispersión de Precios: Evaluar la variabilidad de los precios de un mismo producto en diferentes supermercados.  \n",
    "\n",
    "PARA HACER ESTO UN BOX PLOT DE LA VARIACION PUEDE SERVIR PERO NS QUE DF NECESITARÍA(Luego lo miro)\n",
    "\n"
   ]
  },
  {
   "cell_type": "markdown",
   "metadata": {},
   "source": [
    "Comparación de Precios Promedio: Calcular y comparar los precios promedio de cada producto en diferentes supermercados."
   ]
  },
  {
   "cell_type": "code",
   "execution_count": null,
   "metadata": {},
   "outputs": [],
   "source": [
    "cursor=conexion.cursor()\n",
    "query_precios_super=\"\"\"\n",
    "SELECT m.super ,p2.producto, p.precio\n",
    "FROM mercados m\n",
    "INNER JOIN principal p ON m.id_super = p.id_super\n",
    "INNER JOIN productos p2 ON p.id_producto = p2.id_producto \n",
    "WHERE fecha = current_date ;\n",
    "\"\"\"\n",
    "cursor.execute(query_precios_super)\n",
    "df_precios_super_mi_max= pd.DataFrame(cursor.fetchall())"
   ]
  },
  {
   "cell_type": "markdown",
   "metadata": {},
   "source": [
    "QUERIES PARA VISUALIZACION"
   ]
  },
  {
   "cell_type": "code",
   "execution_count": 134,
   "metadata": {},
   "outputs": [],
   "source": [
    "cursor=conexion.cursor()\n",
    "query_comparacion_max_min_leche=\"\"\"\n",
    "SELECT m.super ,p2.producto, p.precio\n",
    "FROM mercados m\n",
    "INNER JOIN principal p ON m.id_super = p.id_super\n",
    "INNER JOIN productos p2 ON p.id_producto = p2.id_producto \n",
    "WHERE (fecha = current_date AND p2.producto = 'leche') ;\n",
    "\"\"\"\n",
    "cursor.execute(query_comparacion_max_min_leche)\n",
    "df_comparacion_max_min_leche= pd.DataFrame(cursor.fetchall())"
   ]
  },
  {
   "cell_type": "code",
   "execution_count": 135,
   "metadata": {},
   "outputs": [
    {
     "data": {
      "text/html": [
       "<div>\n",
       "<style scoped>\n",
       "    .dataframe tbody tr th:only-of-type {\n",
       "        vertical-align: middle;\n",
       "    }\n",
       "\n",
       "    .dataframe tbody tr th {\n",
       "        vertical-align: top;\n",
       "    }\n",
       "\n",
       "    .dataframe thead th {\n",
       "        text-align: right;\n",
       "    }\n",
       "</style>\n",
       "<table border=\"1\" class=\"dataframe\">\n",
       "  <thead>\n",
       "    <tr style=\"text-align: right;\">\n",
       "      <th></th>\n",
       "      <th>0</th>\n",
       "      <th>1</th>\n",
       "      <th>2</th>\n",
       "    </tr>\n",
       "  </thead>\n",
       "  <tbody>\n",
       "    <tr>\n",
       "      <th>0</th>\n",
       "      <td>carrefour</td>\n",
       "      <td>leche</td>\n",
       "      <td>5.60</td>\n",
       "    </tr>\n",
       "    <tr>\n",
       "      <th>1</th>\n",
       "      <td>carrefour</td>\n",
       "      <td>leche</td>\n",
       "      <td>2.30</td>\n",
       "    </tr>\n",
       "    <tr>\n",
       "      <th>2</th>\n",
       "      <td>carrefour</td>\n",
       "      <td>leche</td>\n",
       "      <td>1.39</td>\n",
       "    </tr>\n",
       "    <tr>\n",
       "      <th>3</th>\n",
       "      <td>carrefour</td>\n",
       "      <td>leche</td>\n",
       "      <td>1.88</td>\n",
       "    </tr>\n",
       "    <tr>\n",
       "      <th>4</th>\n",
       "      <td>carrefour</td>\n",
       "      <td>leche</td>\n",
       "      <td>1.09</td>\n",
       "    </tr>\n",
       "  </tbody>\n",
       "</table>\n",
       "</div>"
      ],
      "text/plain": [
       "           0      1     2\n",
       "0  carrefour  leche  5.60\n",
       "1  carrefour  leche  2.30\n",
       "2  carrefour  leche  1.39\n",
       "3  carrefour  leche  1.88\n",
       "4  carrefour  leche  1.09"
      ]
     },
     "execution_count": 135,
     "metadata": {},
     "output_type": "execute_result"
    }
   ],
   "source": [
    "df_comparacion_max_min_leche.head()"
   ]
  },
  {
   "cell_type": "code",
   "execution_count": 174,
   "metadata": {},
   "outputs": [],
   "source": [
    "def datos_grafico_comparacion_max_min(ejex,ejey,hue,data,pallete,categoria_producto,distancia_datalabel):  \n",
    "    fig, axes = plt.subplots(nrows = 1, ncols = 2, figsize = (20, 5), sharex=True, sharey=True)\n",
    "    sns.boxplot(x= ejex, y= ejey, hue= hue, data=data, palette= pallete, ax = axes[0], capprops={'color':'purple'}) # para cambiar el color de los bigotes\n",
    "    axes[0].set_title(f\"Distribución del precio de la {categoria_producto} en distintos supermercados hoy\")\n",
    "    axes[0].set_xlabel(\"Supermercados\")\n",
    "    axes[0].set_ylabel(\"Precio\")\n",
    "\n",
    "    sns.barplot(x= ejex, y= ejey, hue= hue, data=data, palette= pallete, ax = axes[1])\n",
    "    axes[1].set_title(f\"Precio Medio de la {categoria_producto} por supermercado hoy\")\n",
    "    axes[1].set_xlabel(\"Supermercados\")\n",
    "    axes[1].set_ylabel(\"Precio Medio\")\n",
    "    for container in axes[1].containers:\n",
    "        axes[1].bar_label(container, fmt=\"%.2f\",  padding=distancia_datalabel) "
   ]
  },
  {
   "cell_type": "code",
   "execution_count": 175,
   "metadata": {},
   "outputs": [
    {
     "data": {
      "image/png": "[encoded data removed]",
      "text/plain": [
       "<Figure size 2000x500 with 2 Axes>"
      ]
     },
     "metadata": {},
     "output_type": "display_data"
    }
   ],
   "source": [
    "datos_grafico_comparacion_max_min(0,2,1,df_comparacion_max_min_leche,\"light:blue\",\"Leche\",14)"
   ]
  },
  {
   "cell_type": "code",
   "execution_count": 176,
   "metadata": {},
   "outputs": [],
   "source": [
    "cursor=conexion.cursor()\n",
    "query_comparacion_max_min_oliva=\"\"\"\n",
    "SELECT m.super ,p2.producto, p.precio\n",
    "FROM mercados m\n",
    "INNER JOIN principal p ON m.id_super = p.id_super\n",
    "INNER JOIN productos p2 ON p.id_producto = p2.id_producto \n",
    "WHERE (fecha = current_date AND p2.producto = 'aceite-de-oliva') ;\n",
    "\"\"\"\n",
    "cursor.execute(query_comparacion_max_min_oliva)\n",
    "df_comparacion_max_min_oliva= pd.DataFrame(cursor.fetchall())"
   ]
  },
  {
   "cell_type": "code",
   "execution_count": 177,
   "metadata": {},
   "outputs": [
    {
     "data": {
      "text/html": [
       "<div>\n",
       "<style scoped>\n",
       "    .dataframe tbody tr th:only-of-type {\n",
       "        vertical-align: middle;\n",
       "    }\n",
       "\n",
       "    .dataframe tbody tr th {\n",
       "        vertical-align: top;\n",
       "    }\n",
       "\n",
       "    .dataframe thead th {\n",
       "        text-align: right;\n",
       "    }\n",
       "</style>\n",
       "<table border=\"1\" class=\"dataframe\">\n",
       "  <thead>\n",
       "    <tr style=\"text-align: right;\">\n",
       "      <th></th>\n",
       "      <th>0</th>\n",
       "      <th>1</th>\n",
       "      <th>2</th>\n",
       "    </tr>\n",
       "  </thead>\n",
       "  <tbody>\n",
       "    <tr>\n",
       "      <th>0</th>\n",
       "      <td>carrefour</td>\n",
       "      <td>aceite-de-oliva</td>\n",
       "      <td>9.48</td>\n",
       "    </tr>\n",
       "    <tr>\n",
       "      <th>1</th>\n",
       "      <td>carrefour</td>\n",
       "      <td>aceite-de-oliva</td>\n",
       "      <td>9.07</td>\n",
       "    </tr>\n",
       "    <tr>\n",
       "      <th>2</th>\n",
       "      <td>carrefour</td>\n",
       "      <td>aceite-de-oliva</td>\n",
       "      <td>51.20</td>\n",
       "    </tr>\n",
       "    <tr>\n",
       "      <th>3</th>\n",
       "      <td>carrefour</td>\n",
       "      <td>aceite-de-oliva</td>\n",
       "      <td>10.69</td>\n",
       "    </tr>\n",
       "    <tr>\n",
       "      <th>4</th>\n",
       "      <td>carrefour</td>\n",
       "      <td>aceite-de-oliva</td>\n",
       "      <td>11.21</td>\n",
       "    </tr>\n",
       "  </tbody>\n",
       "</table>\n",
       "</div>"
      ],
      "text/plain": [
       "           0                1      2\n",
       "0  carrefour  aceite-de-oliva   9.48\n",
       "1  carrefour  aceite-de-oliva   9.07\n",
       "2  carrefour  aceite-de-oliva  51.20\n",
       "3  carrefour  aceite-de-oliva  10.69\n",
       "4  carrefour  aceite-de-oliva  11.21"
      ]
     },
     "execution_count": 177,
     "metadata": {},
     "output_type": "execute_result"
    }
   ],
   "source": [
    "df_comparacion_max_min_oliva.head()"
   ]
  },
  {
   "cell_type": "code",
   "execution_count": 183,
   "metadata": {},
   "outputs": [
    {
     "data": {
      "image/png": "[encoded data removed]",
      "text/plain": [
       "<Figure size 2000x500 with 2 Axes>"
      ]
     },
     "metadata": {},
     "output_type": "display_data"
    }
   ],
   "source": [
    "datos_grafico_comparacion_max_min(0,2,1,df_comparacion_max_min_oliva,\"Greens\",\"Aceite de oliva\",14)"
   ]
  },
  {
   "cell_type": "code",
   "execution_count": 184,
   "metadata": {},
   "outputs": [],
   "source": [
    "cursor=conexion.cursor()\n",
    "query_comparacion_max_min_girasol=\"\"\"\n",
    "SELECT m.super ,p2.producto, p.precio\n",
    "FROM mercados m\n",
    "INNER JOIN principal p ON m.id_super = p.id_super\n",
    "INNER JOIN productos p2 ON p.id_producto = p2.id_producto \n",
    "WHERE (fecha = current_date AND p2.producto = 'aceite-de-girasol') ;\n",
    "\"\"\"\n",
    "cursor.execute(query_comparacion_max_min_girasol)\n",
    "df_comparacion_max_min_girasol= pd.DataFrame(cursor.fetchall())"
   ]
  },
  {
   "cell_type": "code",
   "execution_count": 185,
   "metadata": {},
   "outputs": [
    {
     "data": {
      "text/html": [
       "<div>\n",
       "<style scoped>\n",
       "    .dataframe tbody tr th:only-of-type {\n",
       "        vertical-align: middle;\n",
       "    }\n",
       "\n",
       "    .dataframe tbody tr th {\n",
       "        vertical-align: top;\n",
       "    }\n",
       "\n",
       "    .dataframe thead th {\n",
       "        text-align: right;\n",
       "    }\n",
       "</style>\n",
       "<table border=\"1\" class=\"dataframe\">\n",
       "  <thead>\n",
       "    <tr style=\"text-align: right;\">\n",
       "      <th></th>\n",
       "      <th>0</th>\n",
       "      <th>1</th>\n",
       "      <th>2</th>\n",
       "    </tr>\n",
       "  </thead>\n",
       "  <tbody>\n",
       "    <tr>\n",
       "      <th>0</th>\n",
       "      <td>carrefour</td>\n",
       "      <td>aceite-de-girasol</td>\n",
       "      <td>21.90</td>\n",
       "    </tr>\n",
       "    <tr>\n",
       "      <th>1</th>\n",
       "      <td>carrefour</td>\n",
       "      <td>aceite-de-girasol</td>\n",
       "      <td>1.48</td>\n",
       "    </tr>\n",
       "    <tr>\n",
       "      <th>2</th>\n",
       "      <td>carrefour</td>\n",
       "      <td>aceite-de-girasol</td>\n",
       "      <td>10.55</td>\n",
       "    </tr>\n",
       "    <tr>\n",
       "      <th>3</th>\n",
       "      <td>carrefour</td>\n",
       "      <td>aceite-de-girasol</td>\n",
       "      <td>2.35</td>\n",
       "    </tr>\n",
       "    <tr>\n",
       "      <th>4</th>\n",
       "      <td>carrefour</td>\n",
       "      <td>aceite-de-girasol</td>\n",
       "      <td>12.65</td>\n",
       "    </tr>\n",
       "  </tbody>\n",
       "</table>\n",
       "</div>"
      ],
      "text/plain": [
       "           0                  1      2\n",
       "0  carrefour  aceite-de-girasol  21.90\n",
       "1  carrefour  aceite-de-girasol   1.48\n",
       "2  carrefour  aceite-de-girasol  10.55\n",
       "3  carrefour  aceite-de-girasol   2.35\n",
       "4  carrefour  aceite-de-girasol  12.65"
      ]
     },
     "execution_count": 185,
     "metadata": {},
     "output_type": "execute_result"
    }
   ],
   "source": [
    "df_comparacion_max_min_girasol.head()"
   ]
  },
  {
   "cell_type": "code",
   "execution_count": 189,
   "metadata": {},
   "outputs": [
    {
     "data": {
      "image/png": "[encoded data removed]",
      "text/plain": [
       "<Figure size 2000x500 with 2 Axes>"
      ]
     },
     "metadata": {},
     "output_type": "display_data"
    }
   ],
   "source": [
    "datos_grafico_comparacion_max_min(0,2,1,df_comparacion_max_min_girasol,\"YlOrBr\",\"Aceite de girasol\",35)"
   ]
  }
 ],
 "metadata": {
  "kernelspec": {
   "display_name": "Python 3",
   "language": "python",
   "name": "python3"
  },
  "language_info": {
   "codemirror_mode": {
    "name": "ipython",
    "version": 3
   },
   "file_extension": ".py",
   "mimetype": "text/x-python",
   "name": "python",
   "nbconvert_exporter": "python",
   "pygments_lexer": "ipython3",
   "version": "3.11.9"
  }
 },
 "nbformat": 4,
 "nbformat_minor": 2
}
