{
 "cells": [
  {
   "cell_type": "code",
   "execution_count": 1,
   "metadata": {},
   "outputs": [],
   "source": [
    "import pandas as pd\n",
    "import requests\n",
    "import selenium\n",
    "from selenium import webdriver  # Selenium es una herramienta para automatizar la interacción con navegadores web.\n",
    "from webdriver_manager.chrome import ChromeDriverManager  # ChromeDriverManager gestiona la instalación del controlador de Chrome.\n",
    "from selenium.webdriver.common.keys import Keys  # Keys es útil para simular eventos de teclado en Selenium.\n",
    "from selenium.webdriver.support.ui import Select  # Select se utiliza para interactuar con elementos <select> en páginas web.\n",
    "from selenium.webdriver.support.ui import WebDriverWait\n",
    "from selenium.webdriver.support import expected_conditions as EC\n",
    "from selenium.common.exceptions import NoSuchElementException # Excepciones comunes de selenium que nos podemos encontrar \n",
    "from bs4 import BeautifulSoup\n",
    "from time import sleep \n",
    "import re\n",
    "import sys \n",
    "import os\n",
    "sys.path.append(os.path.abspath(\"../src\"))   \n",
    "from datetime import datetime\n",
    "import psycopg2\n",
    "from psycopg2 import OperationalError, errorcodes, errors\n",
    "\n",
    "import matplotlib.pyplot as plt\n",
    "import matplotlib_inline\n",
    "import seaborn as sns\n",
    "\n",
    "\n",
    "import funciones as f"
   ]
  },
  {
   "cell_type": "markdown",
   "metadata": {},
   "source": [
    "Sacar lista supers"
   ]
  },
  {
   "cell_type": "code",
   "execution_count": 2,
   "metadata": {},
   "outputs": [
    {
     "data": {
      "text/plain": [
       "['mercadona', 'alcampo', 'carrefour', 'hipercor', 'dia', 'eroski']"
      ]
     },
     "execution_count": 2,
     "metadata": {},
     "output_type": "execute_result"
    }
   ],
   "source": [
    "url_super = \"https://super.facua.org/\"\n",
    "res_facua = requests.get(url_super)\n",
    "sopa_mercados = BeautifulSoup(res_facua.content, \"html.parser\")\n",
    "lista_mercados = sopa_mercados.findAll(\"a\", {\"class\" :\"nav-link\"})\n",
    "lista_supers= [mercado.getText().lower() for mercado in lista_mercados]\n",
    "lista_supers.pop()\n",
    "lista_supers\n"
   ]
  },
  {
   "cell_type": "markdown",
   "metadata": {},
   "source": [
    "Sacar lista productos"
   ]
  },
  {
   "cell_type": "code",
   "execution_count": 3,
   "metadata": {},
   "outputs": [
    {
     "name": "stdout",
     "output_type": "stream",
     "text": [
      "aceite-de-girasol\n",
      "1\n",
      "aceite-de-oliva\n",
      "2\n",
      "leche\n",
      "3\n"
     ]
    }
   ],
   "source": [
    "url_mercados = f\"https://super.facua.org/mercadona/\"\n",
    "res_producto = requests.get(url_mercados)\n",
    "sopa_productos = BeautifulSoup(res_producto.content, \"html.parser\")\n",
    "lista_prod = sopa_productos.findAll(\"p\", {\"class\" :\"fw-bolder\"})\n",
    "lista_productos= [mercado.getText().lower().replace(\" \", \"-\") for mercado in lista_prod]\n",
    "for i, producto in enumerate(lista_productos,start=1):\n",
    "    id_prod= i\n",
    "    nombre_producto= producto\n",
    "    print(nombre_producto)\n",
    "    print(id_prod)\n"
   ]
  },
  {
   "cell_type": "markdown",
   "metadata": {},
   "source": [
    "Sacar lista variantes\n"
   ]
  },
  {
   "cell_type": "code",
   "execution_count": 4,
   "metadata": {},
   "outputs": [
    {
     "name": "stdout",
     "output_type": "stream",
     "text": [
      "1\n",
      "aceite-de-girasol-refinado-02-hacendado-1-l\n",
      "2\n",
      "aceite-de-girasol-refinado-02-hacendado-5-l\n"
     ]
    }
   ],
   "source": [
    "url_variante = \"https://super.facua.org/mercadona/aceite-de-girasol/\"\n",
    "res_variante= requests.get(url_variante)\n",
    "sopa_variante = BeautifulSoup(res_variante.content, \"html.parser\")\n",
    "lista_var = sopa_variante.findAll(\"p\", {\"class\" :\"fw-bolder\"})\n",
    "lista_variantes= [variante.getText().lower().replace(\" \", \"-\").replace(\",\", \"\").replace(\"º\",\"\").replace(\".\",\"\") for variante in lista_var]\n",
    "for i, variante in enumerate(lista_variantes, start=1):\n",
    "    id_var= i\n",
    "    nombre_variante= variante\n",
    "    print(id_var)\n",
    "    print(nombre_variante)"
   ]
  },
  {
   "cell_type": "markdown",
   "metadata": {},
   "source": [
    "Lo comento para que no me moleste"
   ]
  },
  {
   "cell_type": "code",
   "execution_count": 5,
   "metadata": {},
   "outputs": [],
   "source": [
    "# for mercado in lista_supers:\n",
    "#     df_tablas= pd.DataFrame()\n",
    "#     driver = webdriver.Chrome()\n",
    "#     url_mercados = f\"https://super.facua.org/{mercado}/\"\n",
    "#     driver.get(url_mercados)\n",
    "#     sleep(3)\n",
    "#     #aceptar cookie\n",
    "#     driver.find_element(\"css selector\", \"#rcc-confirm-button\").click()\n",
    "#     #hacer aquí la lista de productos\n",
    "#     res_producto = requests.get(url_mercados)\n",
    "#     sopa_productos = BeautifulSoup(res_producto.content, \"html.parser\")\n",
    "#     lista_prod = sopa_productos.findAll(\"p\", {\"class\" :\"fw-bolder\"})\n",
    "#     lista_productos= [prod.getText().lower().replace(\" \", \"-\") for prod in lista_prod]\n",
    "\n",
    "#     for i, producto in enumerate(lista_productos):\n",
    "#         driver.execute_script(\"window.scrollBy(0, 200);\")\n",
    "#         sleep(2)\n",
    "#         #selecciona producto\n",
    "#         driver.find_element(\"css selector\", f\"body > section:nth-child(4) > div > div.row.gx-4.gx-lg-5.row-cols-2.row-cols-md-3.row-cols-xl-4.justify-content-center > div:nth-child({i+1}) > div > div.card-footer.p-4.pt-0.border-top-0.bg-transparent > div > a\").click()\n",
    "#         sopa_variante = BeautifulSoup(driver.page_source, \"html.parser\")\n",
    "#         lista_var = sopa_variante.findAll(\"p\", {\"class\" :\"fw-bolder\"})\n",
    "#         lista_variantes= [variante.getText().lower().replace(\" \", \"-\").replace(\",\", \"\").replace(\"º\",\"\").replace(\".\",\"\") for variante in lista_var]\n",
    "#         lista_variantes_bien=[]\n",
    "#         for elemento in lista_variantes:\n",
    "#             if \"aceite\" in elemento or \"leche\" in elemento:\n",
    "#                 lista_variantes_bien.append(elemento)\n",
    "#         for j ,variante in enumerate(lista_variantes_bien):\n",
    "#             while True:\n",
    "#                 #selecciona variante\n",
    "#                 try:\n",
    "#                     sleep(2)\n",
    "#                     driver.find_element(\"css selector\", f\"body > section:nth-child(4) > div > div:nth-child(7) > div:nth-child({j+1}) > div > div.card-footer.p-4.pt-0.border-top-0.bg-transparent > div > a\").click()\n",
    "#                     break\n",
    "#                 except:\n",
    "#                     driver.execute_script(\"window.scrollBy(0, 200);\")\n",
    "#             sopa_mercados = BeautifulSoup(driver.page_source, \"html.parser\")\n",
    "#             tabla_general= sopa_mercados.findAll(\"table\")\n",
    "#             tablaindiv=tabla_general[-1]\n",
    "#             #por aquí crear las columnas necesarias usando lista de productos y variante (mercado se pone formateado tal cual)\n",
    "#             df_tablas=pd.concat([df_tablas, f.sacar_tabla(tablaindiv,mercado,producto,variante)])\n",
    "#             driver.back()\n",
    "#         driver.back()    \n",
    "#     driver.close()\n",
    "#     df_tablas.to_csv(f'../datos/datos{mercado}.csv', index=False)\n"
   ]
  },
  {
   "cell_type": "code",
   "execution_count": 6,
   "metadata": {},
   "outputs": [],
   "source": [
    "# df_tablas.head()"
   ]
  },
  {
   "cell_type": "code",
   "execution_count": null,
   "metadata": {},
   "outputs": [],
   "source": []
  },
  {
   "cell_type": "code",
   "execution_count": 7,
   "metadata": {},
   "outputs": [
    {
     "data": {
      "text/plain": [
       "['aceite de oliva',\n",
       " 'oliva de aceite',\n",
       " 'oliva aceite de',\n",
       " 'leche merengada azul',\n",
       " 'merengada leche azul',\n",
       " 'merengada zaul leche']"
      ]
     },
     "execution_count": 7,
     "metadata": {},
     "output_type": "execute_result"
    }
   ],
   "source": [
    "lista=[]\n",
    "lista_variantes_bien=[\"aceite de oliva\", \"oliva de aceite\", \"oliva aceite de\", \"leche merengada azul\", \"merengada leche azul\", \"merengada zaul leche\", \"caca\"]     \n",
    "for elemento in lista_variantes_bien:\n",
    "    if \"aceite\" in elemento or \"leche\" in elemento:\n",
    "        lista.append(elemento)\n",
    "lista"
   ]
  },
  {
   "cell_type": "markdown",
   "metadata": {},
   "source": [
    "Carga de datos"
   ]
  },
  {
   "cell_type": "code",
   "execution_count": 8,
   "metadata": {},
   "outputs": [],
   "source": [
    "alcampo=pd.read_csv(\"../datos/datosalcampo.csv\")\n",
    "mercadona=pd.read_csv(\"../datos/datosmercadona.csv\")\n",
    "carrefour=pd.read_csv(\"../datos/datoscarrefour.csv\")\n",
    "dia=pd.read_csv(\"../datos/datosdia.csv\")\n",
    "eroski=pd.read_csv(\"../datos/datoseroski.csv\")\n",
    "hipercor=pd.read_csv(\"../datos/datoshipercor.csv\")"
   ]
  },
  {
   "cell_type": "code",
   "execution_count": 9,
   "metadata": {},
   "outputs": [
    {
     "data": {
      "text/html": [
       "<div>\n",
       "<style scoped>\n",
       "    .dataframe tbody tr th:only-of-type {\n",
       "        vertical-align: middle;\n",
       "    }\n",
       "\n",
       "    .dataframe tbody tr th {\n",
       "        vertical-align: top;\n",
       "    }\n",
       "\n",
       "    .dataframe thead th {\n",
       "        text-align: right;\n",
       "    }\n",
       "</style>\n",
       "<table border=\"1\" class=\"dataframe\">\n",
       "  <thead>\n",
       "    <tr style=\"text-align: right;\">\n",
       "      <th></th>\n",
       "      <th>Día</th>\n",
       "      <th>Precio (€)</th>\n",
       "      <th>Variación</th>\n",
       "      <th>supermercado</th>\n",
       "      <th>producto</th>\n",
       "      <th>variante</th>\n",
       "    </tr>\n",
       "  </thead>\n",
       "  <tbody>\n",
       "    <tr>\n",
       "      <th>0</th>\n",
       "      <td>30/06/2024</td>\n",
       "      <td>5,88</td>\n",
       "      <td>=</td>\n",
       "      <td>alcampo</td>\n",
       "      <td>aceite-de-girasol</td>\n",
       "      <td>campomar-nature-aceite-de-girasol-ecológico-ca...</td>\n",
       "    </tr>\n",
       "    <tr>\n",
       "      <th>1</th>\n",
       "      <td>01/07/2024</td>\n",
       "      <td>5,88</td>\n",
       "      <td>=</td>\n",
       "      <td>alcampo</td>\n",
       "      <td>aceite-de-girasol</td>\n",
       "      <td>campomar-nature-aceite-de-girasol-ecológico-ca...</td>\n",
       "    </tr>\n",
       "    <tr>\n",
       "      <th>2</th>\n",
       "      <td>12/07/2024</td>\n",
       "      <td>5,88</td>\n",
       "      <td>=</td>\n",
       "      <td>alcampo</td>\n",
       "      <td>aceite-de-girasol</td>\n",
       "      <td>campomar-nature-aceite-de-girasol-ecológico-ca...</td>\n",
       "    </tr>\n",
       "    <tr>\n",
       "      <th>3</th>\n",
       "      <td>13/07/2024</td>\n",
       "      <td>5,88</td>\n",
       "      <td>=</td>\n",
       "      <td>alcampo</td>\n",
       "      <td>aceite-de-girasol</td>\n",
       "      <td>campomar-nature-aceite-de-girasol-ecológico-ca...</td>\n",
       "    </tr>\n",
       "    <tr>\n",
       "      <th>4</th>\n",
       "      <td>14/07/2024</td>\n",
       "      <td>5,88</td>\n",
       "      <td>=</td>\n",
       "      <td>alcampo</td>\n",
       "      <td>aceite-de-girasol</td>\n",
       "      <td>campomar-nature-aceite-de-girasol-ecológico-ca...</td>\n",
       "    </tr>\n",
       "  </tbody>\n",
       "</table>\n",
       "</div>"
      ],
      "text/plain": [
       "          Día Precio (€) Variación supermercado           producto  \\\n",
       "0  30/06/2024       5,88         =      alcampo  aceite-de-girasol   \n",
       "1  01/07/2024       5,88         =      alcampo  aceite-de-girasol   \n",
       "2  12/07/2024       5,88         =      alcampo  aceite-de-girasol   \n",
       "3  13/07/2024       5,88         =      alcampo  aceite-de-girasol   \n",
       "4  14/07/2024       5,88         =      alcampo  aceite-de-girasol   \n",
       "\n",
       "                                            variante  \n",
       "0  campomar-nature-aceite-de-girasol-ecológico-ca...  \n",
       "1  campomar-nature-aceite-de-girasol-ecológico-ca...  \n",
       "2  campomar-nature-aceite-de-girasol-ecológico-ca...  \n",
       "3  campomar-nature-aceite-de-girasol-ecológico-ca...  \n",
       "4  campomar-nature-aceite-de-girasol-ecológico-ca...  "
      ]
     },
     "execution_count": 9,
     "metadata": {},
     "output_type": "execute_result"
    }
   ],
   "source": [
    "alcampo.head()"
   ]
  },
  {
   "cell_type": "code",
   "execution_count": 10,
   "metadata": {},
   "outputs": [
    {
     "data": {
      "text/html": [
       "<div>\n",
       "<style scoped>\n",
       "    .dataframe tbody tr th:only-of-type {\n",
       "        vertical-align: middle;\n",
       "    }\n",
       "\n",
       "    .dataframe tbody tr th {\n",
       "        vertical-align: top;\n",
       "    }\n",
       "\n",
       "    .dataframe thead th {\n",
       "        text-align: right;\n",
       "    }\n",
       "</style>\n",
       "<table border=\"1\" class=\"dataframe\">\n",
       "  <thead>\n",
       "    <tr style=\"text-align: right;\">\n",
       "      <th></th>\n",
       "      <th>Día</th>\n",
       "      <th>Precio (€)</th>\n",
       "      <th>Variación</th>\n",
       "      <th>supermercado</th>\n",
       "      <th>producto</th>\n",
       "      <th>variante</th>\n",
       "    </tr>\n",
       "  </thead>\n",
       "  <tbody>\n",
       "    <tr>\n",
       "      <th>0</th>\n",
       "      <td>12/07/2024</td>\n",
       "      <td>1,45</td>\n",
       "      <td>=</td>\n",
       "      <td>mercadona</td>\n",
       "      <td>aceite-de-girasol</td>\n",
       "      <td>aceite-de-girasol-refinado-02-hacendado-1-l</td>\n",
       "    </tr>\n",
       "    <tr>\n",
       "      <th>1</th>\n",
       "      <td>13/07/2024</td>\n",
       "      <td>1,45</td>\n",
       "      <td>=</td>\n",
       "      <td>mercadona</td>\n",
       "      <td>aceite-de-girasol</td>\n",
       "      <td>aceite-de-girasol-refinado-02-hacendado-1-l</td>\n",
       "    </tr>\n",
       "    <tr>\n",
       "      <th>2</th>\n",
       "      <td>14/07/2024</td>\n",
       "      <td>1,45</td>\n",
       "      <td>=</td>\n",
       "      <td>mercadona</td>\n",
       "      <td>aceite-de-girasol</td>\n",
       "      <td>aceite-de-girasol-refinado-02-hacendado-1-l</td>\n",
       "    </tr>\n",
       "    <tr>\n",
       "      <th>3</th>\n",
       "      <td>15/07/2024</td>\n",
       "      <td>1,45</td>\n",
       "      <td>=</td>\n",
       "      <td>mercadona</td>\n",
       "      <td>aceite-de-girasol</td>\n",
       "      <td>aceite-de-girasol-refinado-02-hacendado-1-l</td>\n",
       "    </tr>\n",
       "    <tr>\n",
       "      <th>4</th>\n",
       "      <td>16/07/2024</td>\n",
       "      <td>1,45</td>\n",
       "      <td>=</td>\n",
       "      <td>mercadona</td>\n",
       "      <td>aceite-de-girasol</td>\n",
       "      <td>aceite-de-girasol-refinado-02-hacendado-1-l</td>\n",
       "    </tr>\n",
       "  </tbody>\n",
       "</table>\n",
       "</div>"
      ],
      "text/plain": [
       "          Día Precio (€) Variación supermercado           producto  \\\n",
       "0  12/07/2024       1,45         =    mercadona  aceite-de-girasol   \n",
       "1  13/07/2024       1,45         =    mercadona  aceite-de-girasol   \n",
       "2  14/07/2024       1,45         =    mercadona  aceite-de-girasol   \n",
       "3  15/07/2024       1,45         =    mercadona  aceite-de-girasol   \n",
       "4  16/07/2024       1,45         =    mercadona  aceite-de-girasol   \n",
       "\n",
       "                                      variante  \n",
       "0  aceite-de-girasol-refinado-02-hacendado-1-l  \n",
       "1  aceite-de-girasol-refinado-02-hacendado-1-l  \n",
       "2  aceite-de-girasol-refinado-02-hacendado-1-l  \n",
       "3  aceite-de-girasol-refinado-02-hacendado-1-l  \n",
       "4  aceite-de-girasol-refinado-02-hacendado-1-l  "
      ]
     },
     "execution_count": 10,
     "metadata": {},
     "output_type": "execute_result"
    }
   ],
   "source": [
    "mercadona.head()"
   ]
  },
  {
   "cell_type": "code",
   "execution_count": 11,
   "metadata": {},
   "outputs": [
    {
     "data": {
      "text/html": [
       "<div>\n",
       "<style scoped>\n",
       "    .dataframe tbody tr th:only-of-type {\n",
       "        vertical-align: middle;\n",
       "    }\n",
       "\n",
       "    .dataframe tbody tr th {\n",
       "        vertical-align: top;\n",
       "    }\n",
       "\n",
       "    .dataframe thead th {\n",
       "        text-align: right;\n",
       "    }\n",
       "</style>\n",
       "<table border=\"1\" class=\"dataframe\">\n",
       "  <thead>\n",
       "    <tr style=\"text-align: right;\">\n",
       "      <th></th>\n",
       "      <th>Día</th>\n",
       "      <th>Precio (€)</th>\n",
       "      <th>Variación</th>\n",
       "      <th>supermercado</th>\n",
       "      <th>producto</th>\n",
       "      <th>variante</th>\n",
       "    </tr>\n",
       "  </thead>\n",
       "  <tbody>\n",
       "    <tr>\n",
       "      <th>0</th>\n",
       "      <td>12/07/2024</td>\n",
       "      <td>1,89</td>\n",
       "      <td>=</td>\n",
       "      <td>eroski</td>\n",
       "      <td>aceite-de-girasol</td>\n",
       "      <td>aceite-alto-oleico-eroski-botella-1-litro</td>\n",
       "    </tr>\n",
       "    <tr>\n",
       "      <th>1</th>\n",
       "      <td>13/07/2024</td>\n",
       "      <td>1,89</td>\n",
       "      <td>=</td>\n",
       "      <td>eroski</td>\n",
       "      <td>aceite-de-girasol</td>\n",
       "      <td>aceite-alto-oleico-eroski-botella-1-litro</td>\n",
       "    </tr>\n",
       "    <tr>\n",
       "      <th>2</th>\n",
       "      <td>14/07/2024</td>\n",
       "      <td>1,89</td>\n",
       "      <td>=</td>\n",
       "      <td>eroski</td>\n",
       "      <td>aceite-de-girasol</td>\n",
       "      <td>aceite-alto-oleico-eroski-botella-1-litro</td>\n",
       "    </tr>\n",
       "    <tr>\n",
       "      <th>3</th>\n",
       "      <td>15/07/2024</td>\n",
       "      <td>1,89</td>\n",
       "      <td>=</td>\n",
       "      <td>eroski</td>\n",
       "      <td>aceite-de-girasol</td>\n",
       "      <td>aceite-alto-oleico-eroski-botella-1-litro</td>\n",
       "    </tr>\n",
       "    <tr>\n",
       "      <th>4</th>\n",
       "      <td>16/07/2024</td>\n",
       "      <td>1,89</td>\n",
       "      <td>=</td>\n",
       "      <td>eroski</td>\n",
       "      <td>aceite-de-girasol</td>\n",
       "      <td>aceite-alto-oleico-eroski-botella-1-litro</td>\n",
       "    </tr>\n",
       "  </tbody>\n",
       "</table>\n",
       "</div>"
      ],
      "text/plain": [
       "          Día Precio (€) Variación supermercado           producto  \\\n",
       "0  12/07/2024       1,89         =       eroski  aceite-de-girasol   \n",
       "1  13/07/2024       1,89         =       eroski  aceite-de-girasol   \n",
       "2  14/07/2024       1,89         =       eroski  aceite-de-girasol   \n",
       "3  15/07/2024       1,89         =       eroski  aceite-de-girasol   \n",
       "4  16/07/2024       1,89         =       eroski  aceite-de-girasol   \n",
       "\n",
       "                                    variante  \n",
       "0  aceite-alto-oleico-eroski-botella-1-litro  \n",
       "1  aceite-alto-oleico-eroski-botella-1-litro  \n",
       "2  aceite-alto-oleico-eroski-botella-1-litro  \n",
       "3  aceite-alto-oleico-eroski-botella-1-litro  \n",
       "4  aceite-alto-oleico-eroski-botella-1-litro  "
      ]
     },
     "execution_count": 11,
     "metadata": {},
     "output_type": "execute_result"
    }
   ],
   "source": [
    "eroski.head()"
   ]
  },
  {
   "cell_type": "code",
   "execution_count": 12,
   "metadata": {},
   "outputs": [
    {
     "data": {
      "text/html": [
       "<div>\n",
       "<style scoped>\n",
       "    .dataframe tbody tr th:only-of-type {\n",
       "        vertical-align: middle;\n",
       "    }\n",
       "\n",
       "    .dataframe tbody tr th {\n",
       "        vertical-align: top;\n",
       "    }\n",
       "\n",
       "    .dataframe thead th {\n",
       "        text-align: right;\n",
       "    }\n",
       "</style>\n",
       "<table border=\"1\" class=\"dataframe\">\n",
       "  <thead>\n",
       "    <tr style=\"text-align: right;\">\n",
       "      <th></th>\n",
       "      <th>Día</th>\n",
       "      <th>Precio (€)</th>\n",
       "      <th>Variación</th>\n",
       "      <th>supermercado</th>\n",
       "      <th>producto</th>\n",
       "      <th>variante</th>\n",
       "    </tr>\n",
       "  </thead>\n",
       "  <tbody>\n",
       "    <tr>\n",
       "      <th>0</th>\n",
       "      <td>29/08/2024</td>\n",
       "      <td>1,99</td>\n",
       "      <td>=</td>\n",
       "      <td>dia</td>\n",
       "      <td>aceite-de-girasol</td>\n",
       "      <td>aceite-de-girasol-alto-oleico-especial-freidor...</td>\n",
       "    </tr>\n",
       "    <tr>\n",
       "      <th>1</th>\n",
       "      <td>30/08/2024</td>\n",
       "      <td>1,99</td>\n",
       "      <td>=</td>\n",
       "      <td>dia</td>\n",
       "      <td>aceite-de-girasol</td>\n",
       "      <td>aceite-de-girasol-alto-oleico-especial-freidor...</td>\n",
       "    </tr>\n",
       "    <tr>\n",
       "      <th>2</th>\n",
       "      <td>31/08/2024</td>\n",
       "      <td>1,99</td>\n",
       "      <td>=</td>\n",
       "      <td>dia</td>\n",
       "      <td>aceite-de-girasol</td>\n",
       "      <td>aceite-de-girasol-alto-oleico-especial-freidor...</td>\n",
       "    </tr>\n",
       "    <tr>\n",
       "      <th>3</th>\n",
       "      <td>01/09/2024</td>\n",
       "      <td>1,99</td>\n",
       "      <td>=</td>\n",
       "      <td>dia</td>\n",
       "      <td>aceite-de-girasol</td>\n",
       "      <td>aceite-de-girasol-alto-oleico-especial-freidor...</td>\n",
       "    </tr>\n",
       "    <tr>\n",
       "      <th>4</th>\n",
       "      <td>02/09/2024</td>\n",
       "      <td>1,99</td>\n",
       "      <td>=</td>\n",
       "      <td>dia</td>\n",
       "      <td>aceite-de-girasol</td>\n",
       "      <td>aceite-de-girasol-alto-oleico-especial-freidor...</td>\n",
       "    </tr>\n",
       "  </tbody>\n",
       "</table>\n",
       "</div>"
      ],
      "text/plain": [
       "          Día Precio (€) Variación supermercado           producto  \\\n",
       "0  29/08/2024       1,99         =          dia  aceite-de-girasol   \n",
       "1  30/08/2024       1,99         =          dia  aceite-de-girasol   \n",
       "2  31/08/2024       1,99         =          dia  aceite-de-girasol   \n",
       "3  01/09/2024       1,99         =          dia  aceite-de-girasol   \n",
       "4  02/09/2024       1,99         =          dia  aceite-de-girasol   \n",
       "\n",
       "                                            variante  \n",
       "0  aceite-de-girasol-alto-oleico-especial-freidor...  \n",
       "1  aceite-de-girasol-alto-oleico-especial-freidor...  \n",
       "2  aceite-de-girasol-alto-oleico-especial-freidor...  \n",
       "3  aceite-de-girasol-alto-oleico-especial-freidor...  \n",
       "4  aceite-de-girasol-alto-oleico-especial-freidor...  "
      ]
     },
     "execution_count": 12,
     "metadata": {},
     "output_type": "execute_result"
    }
   ],
   "source": [
    "dia.head()"
   ]
  },
  {
   "cell_type": "code",
   "execution_count": 13,
   "metadata": {},
   "outputs": [
    {
     "data": {
      "text/html": [
       "<div>\n",
       "<style scoped>\n",
       "    .dataframe tbody tr th:only-of-type {\n",
       "        vertical-align: middle;\n",
       "    }\n",
       "\n",
       "    .dataframe tbody tr th {\n",
       "        vertical-align: top;\n",
       "    }\n",
       "\n",
       "    .dataframe thead th {\n",
       "        text-align: right;\n",
       "    }\n",
       "</style>\n",
       "<table border=\"1\" class=\"dataframe\">\n",
       "  <thead>\n",
       "    <tr style=\"text-align: right;\">\n",
       "      <th></th>\n",
       "      <th>Día</th>\n",
       "      <th>Precio (€)</th>\n",
       "      <th>Variación</th>\n",
       "      <th>supermercado</th>\n",
       "      <th>producto</th>\n",
       "      <th>variante</th>\n",
       "    </tr>\n",
       "  </thead>\n",
       "  <tbody>\n",
       "    <tr>\n",
       "      <th>0</th>\n",
       "      <td>13/07/2024</td>\n",
       "      <td>1,40</td>\n",
       "      <td>=</td>\n",
       "      <td>hipercor</td>\n",
       "      <td>aceite-de-girasol</td>\n",
       "      <td>abrilsol-aceite-refinado-de-girasol-botella-1-l</td>\n",
       "    </tr>\n",
       "    <tr>\n",
       "      <th>1</th>\n",
       "      <td>14/07/2024</td>\n",
       "      <td>1,40</td>\n",
       "      <td>=</td>\n",
       "      <td>hipercor</td>\n",
       "      <td>aceite-de-girasol</td>\n",
       "      <td>abrilsol-aceite-refinado-de-girasol-botella-1-l</td>\n",
       "    </tr>\n",
       "    <tr>\n",
       "      <th>2</th>\n",
       "      <td>15/07/2024</td>\n",
       "      <td>1,40</td>\n",
       "      <td>=</td>\n",
       "      <td>hipercor</td>\n",
       "      <td>aceite-de-girasol</td>\n",
       "      <td>abrilsol-aceite-refinado-de-girasol-botella-1-l</td>\n",
       "    </tr>\n",
       "    <tr>\n",
       "      <th>3</th>\n",
       "      <td>16/07/2024</td>\n",
       "      <td>1,40</td>\n",
       "      <td>=</td>\n",
       "      <td>hipercor</td>\n",
       "      <td>aceite-de-girasol</td>\n",
       "      <td>abrilsol-aceite-refinado-de-girasol-botella-1-l</td>\n",
       "    </tr>\n",
       "    <tr>\n",
       "      <th>4</th>\n",
       "      <td>17/07/2024</td>\n",
       "      <td>1,40</td>\n",
       "      <td>=</td>\n",
       "      <td>hipercor</td>\n",
       "      <td>aceite-de-girasol</td>\n",
       "      <td>abrilsol-aceite-refinado-de-girasol-botella-1-l</td>\n",
       "    </tr>\n",
       "  </tbody>\n",
       "</table>\n",
       "</div>"
      ],
      "text/plain": [
       "          Día Precio (€) Variación supermercado           producto  \\\n",
       "0  13/07/2024       1,40         =     hipercor  aceite-de-girasol   \n",
       "1  14/07/2024       1,40         =     hipercor  aceite-de-girasol   \n",
       "2  15/07/2024       1,40         =     hipercor  aceite-de-girasol   \n",
       "3  16/07/2024       1,40         =     hipercor  aceite-de-girasol   \n",
       "4  17/07/2024       1,40         =     hipercor  aceite-de-girasol   \n",
       "\n",
       "                                          variante  \n",
       "0  abrilsol-aceite-refinado-de-girasol-botella-1-l  \n",
       "1  abrilsol-aceite-refinado-de-girasol-botella-1-l  \n",
       "2  abrilsol-aceite-refinado-de-girasol-botella-1-l  \n",
       "3  abrilsol-aceite-refinado-de-girasol-botella-1-l  \n",
       "4  abrilsol-aceite-refinado-de-girasol-botella-1-l  "
      ]
     },
     "execution_count": 13,
     "metadata": {},
     "output_type": "execute_result"
    }
   ],
   "source": [
    "hipercor.head()"
   ]
  },
  {
   "cell_type": "code",
   "execution_count": 14,
   "metadata": {},
   "outputs": [
    {
     "data": {
      "text/html": [
       "<div>\n",
       "<style scoped>\n",
       "    .dataframe tbody tr th:only-of-type {\n",
       "        vertical-align: middle;\n",
       "    }\n",
       "\n",
       "    .dataframe tbody tr th {\n",
       "        vertical-align: top;\n",
       "    }\n",
       "\n",
       "    .dataframe thead th {\n",
       "        text-align: right;\n",
       "    }\n",
       "</style>\n",
       "<table border=\"1\" class=\"dataframe\">\n",
       "  <thead>\n",
       "    <tr style=\"text-align: right;\">\n",
       "      <th></th>\n",
       "      <th>Día</th>\n",
       "      <th>Precio (€)</th>\n",
       "      <th>Variación</th>\n",
       "      <th>supermercado</th>\n",
       "      <th>producto</th>\n",
       "      <th>variante</th>\n",
       "    </tr>\n",
       "  </thead>\n",
       "  <tbody>\n",
       "    <tr>\n",
       "      <th>0</th>\n",
       "      <td>12/07/2024</td>\n",
       "      <td>21,40</td>\n",
       "      <td>=</td>\n",
       "      <td>carrefour</td>\n",
       "      <td>aceite-de-girasol</td>\n",
       "      <td>aceite-de-girasol-capicua-garrafa-5-l</td>\n",
       "    </tr>\n",
       "    <tr>\n",
       "      <th>1</th>\n",
       "      <td>13/07/2024</td>\n",
       "      <td>21,40</td>\n",
       "      <td>=</td>\n",
       "      <td>carrefour</td>\n",
       "      <td>aceite-de-girasol</td>\n",
       "      <td>aceite-de-girasol-capicua-garrafa-5-l</td>\n",
       "    </tr>\n",
       "    <tr>\n",
       "      <th>2</th>\n",
       "      <td>14/07/2024</td>\n",
       "      <td>21,40</td>\n",
       "      <td>=</td>\n",
       "      <td>carrefour</td>\n",
       "      <td>aceite-de-girasol</td>\n",
       "      <td>aceite-de-girasol-capicua-garrafa-5-l</td>\n",
       "    </tr>\n",
       "    <tr>\n",
       "      <th>3</th>\n",
       "      <td>15/07/2024</td>\n",
       "      <td>21,40</td>\n",
       "      <td>=</td>\n",
       "      <td>carrefour</td>\n",
       "      <td>aceite-de-girasol</td>\n",
       "      <td>aceite-de-girasol-capicua-garrafa-5-l</td>\n",
       "    </tr>\n",
       "    <tr>\n",
       "      <th>4</th>\n",
       "      <td>16/07/2024</td>\n",
       "      <td>21,40</td>\n",
       "      <td>=</td>\n",
       "      <td>carrefour</td>\n",
       "      <td>aceite-de-girasol</td>\n",
       "      <td>aceite-de-girasol-capicua-garrafa-5-l</td>\n",
       "    </tr>\n",
       "  </tbody>\n",
       "</table>\n",
       "</div>"
      ],
      "text/plain": [
       "          Día Precio (€) Variación supermercado           producto  \\\n",
       "0  12/07/2024      21,40         =    carrefour  aceite-de-girasol   \n",
       "1  13/07/2024      21,40         =    carrefour  aceite-de-girasol   \n",
       "2  14/07/2024      21,40         =    carrefour  aceite-de-girasol   \n",
       "3  15/07/2024      21,40         =    carrefour  aceite-de-girasol   \n",
       "4  16/07/2024      21,40         =    carrefour  aceite-de-girasol   \n",
       "\n",
       "                                variante  \n",
       "0  aceite-de-girasol-capicua-garrafa-5-l  \n",
       "1  aceite-de-girasol-capicua-garrafa-5-l  \n",
       "2  aceite-de-girasol-capicua-garrafa-5-l  \n",
       "3  aceite-de-girasol-capicua-garrafa-5-l  \n",
       "4  aceite-de-girasol-capicua-garrafa-5-l  "
      ]
     },
     "execution_count": 14,
     "metadata": {},
     "output_type": "execute_result"
    }
   ],
   "source": [
    "carrefour.head()"
   ]
  },
  {
   "cell_type": "markdown",
   "metadata": {},
   "source": [
    "Creación Data Frame Total y Exploración inicial"
   ]
  },
  {
   "cell_type": "code",
   "execution_count": 15,
   "metadata": {},
   "outputs": [],
   "source": [
    "df= pd.DataFrame()\n",
    "df_total= pd.concat([df,carrefour,mercadona,eroski,dia,hipercor,alcampo])"
   ]
  },
  {
   "cell_type": "code",
   "execution_count": 16,
   "metadata": {},
   "outputs": [
    {
     "data": {
      "text/html": [
       "<div>\n",
       "<style scoped>\n",
       "    .dataframe tbody tr th:only-of-type {\n",
       "        vertical-align: middle;\n",
       "    }\n",
       "\n",
       "    .dataframe tbody tr th {\n",
       "        vertical-align: top;\n",
       "    }\n",
       "\n",
       "    .dataframe thead th {\n",
       "        text-align: right;\n",
       "    }\n",
       "</style>\n",
       "<table border=\"1\" class=\"dataframe\">\n",
       "  <thead>\n",
       "    <tr style=\"text-align: right;\">\n",
       "      <th></th>\n",
       "      <th>Día</th>\n",
       "      <th>Precio (€)</th>\n",
       "      <th>Variación</th>\n",
       "      <th>supermercado</th>\n",
       "      <th>producto</th>\n",
       "      <th>variante</th>\n",
       "    </tr>\n",
       "  </thead>\n",
       "  <tbody>\n",
       "    <tr>\n",
       "      <th>0</th>\n",
       "      <td>12/07/2024</td>\n",
       "      <td>21,40</td>\n",
       "      <td>=</td>\n",
       "      <td>carrefour</td>\n",
       "      <td>aceite-de-girasol</td>\n",
       "      <td>aceite-de-girasol-capicua-garrafa-5-l</td>\n",
       "    </tr>\n",
       "    <tr>\n",
       "      <th>1</th>\n",
       "      <td>13/07/2024</td>\n",
       "      <td>21,40</td>\n",
       "      <td>=</td>\n",
       "      <td>carrefour</td>\n",
       "      <td>aceite-de-girasol</td>\n",
       "      <td>aceite-de-girasol-capicua-garrafa-5-l</td>\n",
       "    </tr>\n",
       "    <tr>\n",
       "      <th>2</th>\n",
       "      <td>14/07/2024</td>\n",
       "      <td>21,40</td>\n",
       "      <td>=</td>\n",
       "      <td>carrefour</td>\n",
       "      <td>aceite-de-girasol</td>\n",
       "      <td>aceite-de-girasol-capicua-garrafa-5-l</td>\n",
       "    </tr>\n",
       "    <tr>\n",
       "      <th>3</th>\n",
       "      <td>15/07/2024</td>\n",
       "      <td>21,40</td>\n",
       "      <td>=</td>\n",
       "      <td>carrefour</td>\n",
       "      <td>aceite-de-girasol</td>\n",
       "      <td>aceite-de-girasol-capicua-garrafa-5-l</td>\n",
       "    </tr>\n",
       "    <tr>\n",
       "      <th>4</th>\n",
       "      <td>16/07/2024</td>\n",
       "      <td>21,40</td>\n",
       "      <td>=</td>\n",
       "      <td>carrefour</td>\n",
       "      <td>aceite-de-girasol</td>\n",
       "      <td>aceite-de-girasol-capicua-garrafa-5-l</td>\n",
       "    </tr>\n",
       "  </tbody>\n",
       "</table>\n",
       "</div>"
      ],
      "text/plain": [
       "          Día Precio (€) Variación supermercado           producto  \\\n",
       "0  12/07/2024      21,40         =    carrefour  aceite-de-girasol   \n",
       "1  13/07/2024      21,40         =    carrefour  aceite-de-girasol   \n",
       "2  14/07/2024      21,40         =    carrefour  aceite-de-girasol   \n",
       "3  15/07/2024      21,40         =    carrefour  aceite-de-girasol   \n",
       "4  16/07/2024      21,40         =    carrefour  aceite-de-girasol   \n",
       "\n",
       "                                variante  \n",
       "0  aceite-de-girasol-capicua-garrafa-5-l  \n",
       "1  aceite-de-girasol-capicua-garrafa-5-l  \n",
       "2  aceite-de-girasol-capicua-garrafa-5-l  \n",
       "3  aceite-de-girasol-capicua-garrafa-5-l  \n",
       "4  aceite-de-girasol-capicua-garrafa-5-l  "
      ]
     },
     "execution_count": 16,
     "metadata": {},
     "output_type": "execute_result"
    }
   ],
   "source": [
    "df_total.head()"
   ]
  },
  {
   "cell_type": "markdown",
   "metadata": {},
   "source": [
    "**RESULTADOS INICIALES DE EXPLORACION**    \n",
    "\n",
    "\n",
    "Contamos con un Data Frame de 134114 filas y 6 columnas.\n",
    "\n",
    "*Nulos:*  \n",
    "\n",
    "- No cuenta con ningun dato nulo que tengamos que tratar\n",
    "\n",
    "\n",
    "*Duplicados:*  \n",
    "\n",
    "- Contamos con 1160 filas duplicadas lo que supone un 0,86% del total de filas.  \n",
    "- Tras analizarlos y comprobar la web, nos dimos cuenta de que los podemos eliminar ya que en la propia web aparecen productos duplicados(Nos quedamos con un Data Frame con 132954 filas y 6 columnas). \n",
    "\n",
    "*Formatos:*  \n",
    "\n",
    "- En la columna variacion quise convertir los iguales a 0, quedarme solo con los porcentajes y luego ya pasar a float.  \n",
    "- En la columna precio cambié las , por los . y los pasé a float.   \n",
    "- En la columna Día la fecha debería estar en formato fecha así que la cambié. \n",
    "\n",
    "\n",
    "\n"
   ]
  },
  {
   "cell_type": "markdown",
   "metadata": {},
   "source": [
    "Tratamos los duplicados"
   ]
  },
  {
   "cell_type": "code",
   "execution_count": 17,
   "metadata": {},
   "outputs": [
    {
     "data": {
      "text/plain": [
       "(134114, 6)"
      ]
     },
     "execution_count": 17,
     "metadata": {},
     "output_type": "execute_result"
    }
   ],
   "source": [
    "df_total.shape"
   ]
  },
  {
   "cell_type": "code",
   "execution_count": 18,
   "metadata": {},
   "outputs": [
    {
     "data": {
      "text/plain": [
       "np.int64(1160)"
      ]
     },
     "execution_count": 18,
     "metadata": {},
     "output_type": "execute_result"
    }
   ],
   "source": [
    "df_total.duplicated().sum()"
   ]
  },
  {
   "cell_type": "code",
   "execution_count": 19,
   "metadata": {},
   "outputs": [
    {
     "data": {
      "text/plain": [
       "np.float64(0.86)"
      ]
     },
     "execution_count": 19,
     "metadata": {},
     "output_type": "execute_result"
    }
   ],
   "source": [
    "round((df_total.duplicated().sum()/len(df_total))*100, 2)"
   ]
  },
  {
   "cell_type": "code",
   "execution_count": 20,
   "metadata": {},
   "outputs": [
    {
     "data": {
      "text/html": [
       "<div>\n",
       "<style scoped>\n",
       "    .dataframe tbody tr th:only-of-type {\n",
       "        vertical-align: middle;\n",
       "    }\n",
       "\n",
       "    .dataframe tbody tr th {\n",
       "        vertical-align: top;\n",
       "    }\n",
       "\n",
       "    .dataframe thead th {\n",
       "        text-align: right;\n",
       "    }\n",
       "</style>\n",
       "<table border=\"1\" class=\"dataframe\">\n",
       "  <thead>\n",
       "    <tr style=\"text-align: right;\">\n",
       "      <th></th>\n",
       "      <th>Día</th>\n",
       "      <th>Precio (€)</th>\n",
       "      <th>Variación</th>\n",
       "      <th>supermercado</th>\n",
       "      <th>producto</th>\n",
       "      <th>variante</th>\n",
       "    </tr>\n",
       "  </thead>\n",
       "  <tbody>\n",
       "    <tr>\n",
       "      <th>11872</th>\n",
       "      <td>15/07/2024</td>\n",
       "      <td>1,08</td>\n",
       "      <td>=</td>\n",
       "      <td>carrefour</td>\n",
       "      <td>leche</td>\n",
       "      <td>leche-desnatada-central-lechera-asturiana-brik...</td>\n",
       "    </tr>\n",
       "    <tr>\n",
       "      <th>11873</th>\n",
       "      <td>16/07/2024</td>\n",
       "      <td>1,08</td>\n",
       "      <td>=</td>\n",
       "      <td>carrefour</td>\n",
       "      <td>leche</td>\n",
       "      <td>leche-desnatada-central-lechera-asturiana-brik...</td>\n",
       "    </tr>\n",
       "    <tr>\n",
       "      <th>11874</th>\n",
       "      <td>17/07/2024</td>\n",
       "      <td>1,08</td>\n",
       "      <td>=</td>\n",
       "      <td>carrefour</td>\n",
       "      <td>leche</td>\n",
       "      <td>leche-desnatada-central-lechera-asturiana-brik...</td>\n",
       "    </tr>\n",
       "    <tr>\n",
       "      <th>11875</th>\n",
       "      <td>18/07/2024</td>\n",
       "      <td>1,08</td>\n",
       "      <td>=</td>\n",
       "      <td>carrefour</td>\n",
       "      <td>leche</td>\n",
       "      <td>leche-desnatada-central-lechera-asturiana-brik...</td>\n",
       "    </tr>\n",
       "    <tr>\n",
       "      <th>11876</th>\n",
       "      <td>19/07/2024</td>\n",
       "      <td>1,08</td>\n",
       "      <td>=</td>\n",
       "      <td>carrefour</td>\n",
       "      <td>leche</td>\n",
       "      <td>leche-desnatada-central-lechera-asturiana-brik...</td>\n",
       "    </tr>\n",
       "  </tbody>\n",
       "</table>\n",
       "</div>"
      ],
      "text/plain": [
       "              Día Precio (€) Variación supermercado producto  \\\n",
       "11872  15/07/2024       1,08         =    carrefour    leche   \n",
       "11873  16/07/2024       1,08         =    carrefour    leche   \n",
       "11874  17/07/2024       1,08         =    carrefour    leche   \n",
       "11875  18/07/2024       1,08         =    carrefour    leche   \n",
       "11876  19/07/2024       1,08         =    carrefour    leche   \n",
       "\n",
       "                                                variante  \n",
       "11872  leche-desnatada-central-lechera-asturiana-brik...  \n",
       "11873  leche-desnatada-central-lechera-asturiana-brik...  \n",
       "11874  leche-desnatada-central-lechera-asturiana-brik...  \n",
       "11875  leche-desnatada-central-lechera-asturiana-brik...  \n",
       "11876  leche-desnatada-central-lechera-asturiana-brik...  "
      ]
     },
     "execution_count": 20,
     "metadata": {},
     "output_type": "execute_result"
    }
   ],
   "source": [
    "df_total[df_total.duplicated()].head()"
   ]
  },
  {
   "cell_type": "code",
   "execution_count": 21,
   "metadata": {},
   "outputs": [],
   "source": [
    "df_total.drop_duplicates(inplace=True)"
   ]
  },
  {
   "cell_type": "markdown",
   "metadata": {},
   "source": [
    "Formateamos"
   ]
  },
  {
   "cell_type": "code",
   "execution_count": 22,
   "metadata": {},
   "outputs": [
    {
     "name": "stdout",
     "output_type": "stream",
     "text": [
      "<class 'pandas.core.frame.DataFrame'>\n",
      "Index: 132954 entries, 0 to 32867\n",
      "Data columns (total 6 columns):\n",
      " #   Column        Non-Null Count   Dtype \n",
      "---  ------        --------------   ----- \n",
      " 0   Día           132954 non-null  object\n",
      " 1   Precio (€)    132954 non-null  object\n",
      " 2   Variación     132954 non-null  object\n",
      " 3   supermercado  132954 non-null  object\n",
      " 4   producto      132954 non-null  object\n",
      " 5   variante      132954 non-null  object\n",
      "dtypes: object(6)\n",
      "memory usage: 7.1+ MB\n"
     ]
    }
   ],
   "source": [
    "df_total.info()"
   ]
  },
  {
   "cell_type": "code",
   "execution_count": 23,
   "metadata": {},
   "outputs": [],
   "source": [
    "df_total[\"Precio (€)\"]=df_total[\"Precio (€)\"].str.replace(\",\", \".\").astype(float)\n",
    "\n"
   ]
  },
  {
   "cell_type": "code",
   "execution_count": 24,
   "metadata": {},
   "outputs": [
    {
     "data": {
      "text/html": [
       "<div>\n",
       "<style scoped>\n",
       "    .dataframe tbody tr th:only-of-type {\n",
       "        vertical-align: middle;\n",
       "    }\n",
       "\n",
       "    .dataframe tbody tr th {\n",
       "        vertical-align: top;\n",
       "    }\n",
       "\n",
       "    .dataframe thead th {\n",
       "        text-align: right;\n",
       "    }\n",
       "</style>\n",
       "<table border=\"1\" class=\"dataframe\">\n",
       "  <thead>\n",
       "    <tr style=\"text-align: right;\">\n",
       "      <th></th>\n",
       "      <th>Día</th>\n",
       "      <th>Precio (€)</th>\n",
       "      <th>Variación</th>\n",
       "      <th>supermercado</th>\n",
       "      <th>producto</th>\n",
       "      <th>variante</th>\n",
       "    </tr>\n",
       "  </thead>\n",
       "  <tbody>\n",
       "    <tr>\n",
       "      <th>3221</th>\n",
       "      <td>25/10/2024</td>\n",
       "      <td>8.99</td>\n",
       "      <td>=</td>\n",
       "      <td>eroski</td>\n",
       "      <td>aceite-de-oliva</td>\n",
       "      <td>aceite-de-oliva-1-urzante-botella-1-litro</td>\n",
       "    </tr>\n",
       "    <tr>\n",
       "      <th>23398</th>\n",
       "      <td>07/10/2024</td>\n",
       "      <td>7.74</td>\n",
       "      <td>=</td>\n",
       "      <td>alcampo</td>\n",
       "      <td>leche</td>\n",
       "      <td>kaiku-leche-semidesnatada-de-vaca-sin-lactosa-...</td>\n",
       "    </tr>\n",
       "    <tr>\n",
       "      <th>6547</th>\n",
       "      <td>09/08/2024</td>\n",
       "      <td>0.99</td>\n",
       "      <td>=</td>\n",
       "      <td>dia</td>\n",
       "      <td>leche</td>\n",
       "      <td>leche-desnatada-rica-en-proteínas-puleva-pack-...</td>\n",
       "    </tr>\n",
       "    <tr>\n",
       "      <th>10021</th>\n",
       "      <td>04/08/2024</td>\n",
       "      <td>8.00</td>\n",
       "      <td>=</td>\n",
       "      <td>hipercor</td>\n",
       "      <td>aceite-de-oliva</td>\n",
       "      <td>el-corte-ingles-aceite-de-oliva-suave-04-conti...</td>\n",
       "    </tr>\n",
       "    <tr>\n",
       "      <th>19236</th>\n",
       "      <td>27/07/2024</td>\n",
       "      <td>4.50</td>\n",
       "      <td>=</td>\n",
       "      <td>alcampo</td>\n",
       "      <td>leche</td>\n",
       "      <td>central-lechera-asturiana-leche-de-vaca-entera...</td>\n",
       "    </tr>\n",
       "  </tbody>\n",
       "</table>\n",
       "</div>"
      ],
      "text/plain": [
       "              Día  Precio (€) Variación supermercado         producto  \\\n",
       "3221   25/10/2024        8.99         =       eroski  aceite-de-oliva   \n",
       "23398  07/10/2024        7.74         =      alcampo            leche   \n",
       "6547   09/08/2024        0.99         =          dia            leche   \n",
       "10021  04/08/2024        8.00         =     hipercor  aceite-de-oliva   \n",
       "19236  27/07/2024        4.50         =      alcampo            leche   \n",
       "\n",
       "                                                variante  \n",
       "3221           aceite-de-oliva-1-urzante-botella-1-litro  \n",
       "23398  kaiku-leche-semidesnatada-de-vaca-sin-lactosa-...  \n",
       "6547   leche-desnatada-rica-en-proteínas-puleva-pack-...  \n",
       "10021  el-corte-ingles-aceite-de-oliva-suave-04-conti...  \n",
       "19236  central-lechera-asturiana-leche-de-vaca-entera...  "
      ]
     },
     "execution_count": 24,
     "metadata": {},
     "output_type": "execute_result"
    }
   ],
   "source": [
    "df_total.sample(5)"
   ]
  },
  {
   "cell_type": "code",
   "execution_count": 25,
   "metadata": {},
   "outputs": [],
   "source": [
    "df_total[\"Variación\"]=df_total[\"Variación\"].str.replace(\"+\",\"\").str.replace(\",\", \".\").str.split(\" \").str[0].str.replace(\"=\", \"0\").astype(float)"
   ]
  },
  {
   "cell_type": "code",
   "execution_count": 109,
   "metadata": {},
   "outputs": [],
   "source": [
    "df_total[\"Día\"]=pd.to_datetime(df_total[\"Día\"], dayfirst= True)"
   ]
  },
  {
   "cell_type": "code",
   "execution_count": 110,
   "metadata": {},
   "outputs": [
    {
     "name": "stdout",
     "output_type": "stream",
     "text": [
      "<class 'pandas.core.frame.DataFrame'>\n",
      "Index: 132954 entries, 0 to 32867\n",
      "Data columns (total 6 columns):\n",
      " #   Column        Non-Null Count   Dtype         \n",
      "---  ------        --------------   -----         \n",
      " 0   Día           132954 non-null  datetime64[ns]\n",
      " 1   Precio (€)    132954 non-null  float64       \n",
      " 2   Variación     132954 non-null  float64       \n",
      " 3   supermercado  132954 non-null  object        \n",
      " 4   producto      132954 non-null  object        \n",
      " 5   variante      132954 non-null  object        \n",
      "dtypes: datetime64[ns](1), float64(2), object(3)\n",
      "memory usage: 7.1+ MB\n"
     ]
    }
   ],
   "source": [
    "df_total.info()"
   ]
  },
  {
   "cell_type": "code",
   "execution_count": 108,
   "metadata": {},
   "outputs": [],
   "source": [
    "df_total.to_csv(f'../datos/datos_Supers_completo.csv', index=False)"
   ]
  }
 ],
 "metadata": {
  "kernelspec": {
   "display_name": "Python 3",
   "language": "python",
   "name": "python3"
  },
  "language_info": {
   "codemirror_mode": {
    "name": "ipython",
    "version": 3
   },
   "file_extension": ".py",
   "mimetype": "text/x-python",
   "name": "python",
   "nbconvert_exporter": "python",
   "pygments_lexer": "ipython3",
   "version": "3.11.9"
  }
 },
 "nbformat": 4,
 "nbformat_minor": 2
}
