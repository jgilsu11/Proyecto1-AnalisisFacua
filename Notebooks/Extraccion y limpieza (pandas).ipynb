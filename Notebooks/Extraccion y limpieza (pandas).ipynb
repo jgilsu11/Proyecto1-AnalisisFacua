{
 "cells": [
  {
   "cell_type": "code",
   "execution_count": 2,
   "metadata": {},
   "outputs": [],
   "source": [
    "import pandas as pd\n",
    "import requests\n",
    "import selenium\n",
    "from selenium import webdriver  # Selenium es una herramienta para automatizar la interacción con navegadores web.\n",
    "from webdriver_manager.chrome import ChromeDriverManager  # ChromeDriverManager gestiona la instalación del controlador de Chrome.\n",
    "from selenium.webdriver.common.keys import Keys  # Keys es útil para simular eventos de teclado en Selenium.\n",
    "from selenium.webdriver.support.ui import Select  # Select se utiliza para interactuar con elementos <select> en páginas web.\n",
    "from selenium.webdriver.support.ui import WebDriverWait\n",
    "from selenium.webdriver.support import expected_conditions as EC\n",
    "from selenium.common.exceptions import NoSuchElementException # Excepciones comunes de selenium que nos podemos encontrar \n",
    "from bs4 import BeautifulSoup\n",
    "from time import sleep \n",
    "import re\n",
    "import sys \n",
    "import os\n",
    "sys.path.append(os.path.abspath(\"../src\"))   \n",
    "\n",
    "\n",
    "import funciones as f"
   ]
  },
  {
   "cell_type": "code",
   "execution_count": 22,
   "metadata": {},
   "outputs": [],
   "source": [
    "# for mercado in lista_supers:\n",
    "#     driver = webdriver.Chrome()\n",
    "#     url_mercados = f\"https://super.facua.org/{mercado}/\"\n",
    "#     driver.get(url_mercados)\n",
    "#     sleep(3)\n",
    "#     lista_num_producto=[]\n",
    "    \n",
    "#     for #aquí quiero meter los productos usando beutiful\n",
    "#         for num_producto in range(1, len())\n",
    "#             driver.find_element(\"css selector\", f\"body > section:nth-child(4) > div > div.row.gx-4.gx-lg-5.row-cols-2.row-cols-md-3.row-cols-xl-4.justify-content-center > div:nth-child({num_producto}) > div > div.card-footer.p-4.pt-0.border-top-0.bg-transparent > div > a\").click()\n",
    "#             sleep(2)\n",
    "#             lista_variante_producto=[]\n",
    "#             for #aqui quiero meter las variantes de producto usando beutiful\n",
    "#                 for num_variante in range(1, len()):\n",
    "#                     driver.find_element(\"css selector\", f\"body > section:nth-child(4) > div > div:nth-child(7) > div:nth-child({num_variante}) > div > div.card-footer.p-4.pt-0.border-top-0.bg-transparent > div > a\").click()\n",
    "#                 #usar BeautifulSoup para coger la primera tabla y que me la guarde\n",
    "#                 url_facua = f\"https://super.facua.org/{mercadona}/{producto}/{variante}/\"\n",
    "#                 res_facua = requests.get(url_facua)\n",
    "#                 sopa_mercados = BeautifulSoup(res_facua.content, \"html.parser\")\n",
    "#                 lista_mercados = sopa_mercados.findAll(\"a\", {\"class\" :\"nav-link\"})\n"
   ]
  },
  {
   "cell_type": "code",
   "execution_count": 16,
   "metadata": {},
   "outputs": [],
   "source": [
    "# driver = webdriver.Chrome()\n",
    "# url_mercados = f\"https://super.facua.org/mercadona/\"\n",
    "# driver.get(url_mercados)\n",
    "# #quitar cookie\n",
    "# driver.find_element(\"css selector\", \"#rcc-confirm-button\").click()\n",
    "# sleep(2)\n",
    "# url_variante=driver.find_element(\"css selector\", \"body > section:nth-child(4) > div > div:nth-child(7) > div:nth-child(1) > div > div.card-footer.p-4.pt-0.border-top-0.bg-transparent > div > a\")\n",
    "# driver.get(url_variante)\n",
    "# res_variante = requests.get(url_variante)\n",
    "# sopa_variantes = BeautifulSoup(res_variante.content, \"html.parser\")\n",
    "# lista_mercados = sopa_mercados.findAll(\"table\")\n",
    "# lista_mercados"
   ]
  },
  {
   "cell_type": "code",
   "execution_count": null,
   "metadata": {},
   "outputs": [],
   "source": [
    "def sacar_tabla(tabla_indiv):\n",
    "    tr_tabla=tabla_indiv.findAll(\"tr\")\n",
    "    th_tabla = tabla_indiv.findAll(\"th\")\n",
    "    td_tabla=tabla_indiv.findAll(\"td\")\n",
    "    df_cuerpo=pd.DataFrame([r.findAll('td') for r in tr_tabla][1:]).map(lambda x: x.text)\n",
    "    dicc_encabezado=dict(enumerate(pd.DataFrame(th_tabla).T.values[0]))  #enumerate porque coincide el 0,1 y 2 con los titulos de las columnas\n",
    "    df_tabla= df_cuerpo.rename(dicc_encabezado, axis=1)\n",
    "    return df_tabla"
   ]
  },
  {
   "cell_type": "markdown",
   "metadata": {},
   "source": [
    "Sacar lista supers"
   ]
  },
  {
   "cell_type": "code",
   "execution_count": 23,
   "metadata": {},
   "outputs": [
    {
     "data": {
      "text/plain": [
       "['mercadona', 'alcampo', 'carrefour', 'hipercor', 'dia', 'eroski']"
      ]
     },
     "execution_count": 23,
     "metadata": {},
     "output_type": "execute_result"
    }
   ],
   "source": [
    "url_super = \"https://super.facua.org/\"\n",
    "res_facua = requests.get(url_super)\n",
    "sopa_mercados = BeautifulSoup(res_facua.content, \"html.parser\")\n",
    "lista_mercados = sopa_mercados.findAll(\"a\", {\"class\" :\"nav-link\"})\n",
    "lista_supers= [mercado.getText().lower() for mercado in lista_mercados]\n",
    "lista_supers.pop()\n",
    "lista_supers\n"
   ]
  },
  {
   "cell_type": "code",
   "execution_count": 19,
   "metadata": {},
   "outputs": [],
   "source": [
    "for mercado in lista_supers:\n",
    "    df_tablas= pd.DataFrame()\n",
    "    driver = webdriver.Chrome()\n",
    "    url_mercados = f\"https://super.facua.org/{mercado}/\"\n",
    "    driver.get(url_mercados)\n",
    "    sleep(3)\n",
    "    #aceptar cookie\n",
    "    driver.find_element(\"css selector\", \"#rcc-confirm-button\").click()\n",
    "    #hacer aquí la lista de productos\n",
    "    res_producto = requests.get(url_mercados)\n",
    "    sopa_productos = BeautifulSoup(res_producto.content, \"html.parser\")\n",
    "    lista_prod = sopa_productos.findAll(\"p\", {\"class\" :\"fw-bolder\"})\n",
    "    lista_productos= [prod.getText().lower().replace(\" \", \"-\") for prod in lista_prod]\n",
    "\n",
    "    for i, producto in enumerate(lista_productos):\n",
    "        driver.execute_script(\"window.scrollBy(0, 500);\")\n",
    "        sleep(2)\n",
    "        #selecciona producto\n",
    "        driver.find_element(\"css selector\", f\"body > section:nth-child(4) > div > div.row.gx-4.gx-lg-5.row-cols-2.row-cols-md-3.row-cols-xl-4.justify-content-center > div:nth-child({i}) > div > div.card-footer.p-4.pt-0.border-top-0.bg-transparent > div > a\").click()\n",
    "        url_producto = driver.page_source\n",
    "        #hacer aquí la lista de variantes\n",
    "        res_variante= requests.get(url_producto)\n",
    "        sopa_variante = BeautifulSoup(res_variante.content, \"html.parser\")\n",
    "        lista_var = sopa_variante.findAll(\"p\", {\"class\" :\"fw-bolder\"})\n",
    "        lista_variantes= [variante.getText().lower().replace(\" \", \"-\").replace(\",\", \"\").replace(\"º\",\"\").replace(\".\",\"\") for variante in lista_var]\n",
    "\n",
    "        for j ,variante in enumerate(lista_variantes):\n",
    "            driver.execute_script(\"window.scrollBy(0, 500);\")\n",
    "            sleep(2)\n",
    "            #selecciona variante\n",
    "            driver.find_element(\"css selector\", f\"body > section:nth-child(4) > div > div:nth-child(7) > div:nth-child({j}) > div > div.card-footer.p-4.pt-0.border-top-0.bg-transparent > div > a\").click()\n",
    "            url_variante = driver.page_source\n",
    "            res_facua = requests.get(url_variante)\n",
    "            sopa_mercados = BeautifulSoup(res_facua.content, \"html.parser\")\n",
    "            tabla_general= sopa_mercados.findAll(\"table\")\n",
    "            tablaindiv=tabla_general[0]\n",
    "            #por aquí crear las columnas necesarias usando lista de productos y variante (mercado se pone formateado tal cual)\n",
    "            df_tablas=pd.concat([df_tablas, sacar_tabla(tablaindiv)],  ),\n",
    "    \n",
    "    df_tablas.to_csv(f'datos/datos{mercado}.csv', index=False)\n"
   ]
  },
  {
   "cell_type": "markdown",
   "metadata": {},
   "source": [
    "Sacar lista productos"
   ]
  },
  {
   "cell_type": "code",
   "execution_count": 28,
   "metadata": {},
   "outputs": [],
   "source": [
    "url_mercados = f\"https://super.facua.org/mercadona/\"\n",
    "res_producto = requests.get(url_mercados)\n",
    "sopa_productos = BeautifulSoup(res_producto.content, \"html.parser\")\n",
    "lista_prod = sopa_productos.findAll(\"p\", {\"class\" :\"fw-bolder\"})\n",
    "lista_productos= [mercado.getText().lower().replace(\" \", \"-\") for mercado in lista_prod]\n",
    "for i, producto in enumerate(lista_productos):\n",
    "    id_prod= i\n",
    "    nombre_producto= producto\n",
    " \n",
    " "
   ]
  },
  {
   "cell_type": "markdown",
   "metadata": {},
   "source": [
    "Aquí creamos la lista de tuplas para añadir las columnas que queremos que hay que multiplicar por la len de la tabla de historico para que ocupe toda la columna"
   ]
  },
  {
   "cell_type": "code",
   "execution_count": 32,
   "metadata": {},
   "outputs": [
    {
     "data": {
      "text/plain": [
       "[('texti', 'agdh', 'uu'),\n",
       " ('texti', 'agdh', 'uu'),\n",
       " ('texti', 'agdh', 'uu'),\n",
       " ('texti', 'agdh', 'uu')]"
      ]
     },
     "execution_count": 32,
     "metadata": {},
     "output_type": "execute_result"
    }
   ],
   "source": [
    "tupla= (mercado, producto, variante)\n",
    "lista=[tupla for i in range (1,len(tablaindiv))]\n",
    "lista"
   ]
  },
  {
   "cell_type": "code",
   "execution_count": 30,
   "metadata": {},
   "outputs": [
    {
     "data": {
      "text/plain": [
       "'leche'"
      ]
     },
     "execution_count": 30,
     "metadata": {},
     "output_type": "execute_result"
    }
   ],
   "source": [
    "nombre_producto"
   ]
  },
  {
   "cell_type": "markdown",
   "metadata": {},
   "source": [
    "Sacar lista variantes\n"
   ]
  },
  {
   "cell_type": "code",
   "execution_count": 42,
   "metadata": {},
   "outputs": [],
   "source": [
    "url_variante = \"https://super.facua.org/mercadona/aceite-de-girasol/\"\n",
    "res_variante= requests.get(url_variante)\n",
    "sopa_variante = BeautifulSoup(res_variante.content, \"html.parser\")\n",
    "lista_var = sopa_variante.findAll(\"p\", {\"class\" :\"fw-bolder\"})\n",
    "lista_variantes= [variante.getText().lower().replace(\" \", \"-\").replace(\",\", \"\").replace(\"º\",\"\").replace(\".\",\"\") for variante in lista_var]\n",
    "for i, variante in enumerate(lista_variantes):\n",
    "    id_var= i\n",
    "    nombre_variante= variante"
   ]
  },
  {
   "cell_type": "code",
   "execution_count": 43,
   "metadata": {},
   "outputs": [
    {
     "data": {
      "text/plain": [
       "'aceite-de-girasol-refinado-02-hacendado-5-l'"
      ]
     },
     "execution_count": 43,
     "metadata": {},
     "output_type": "execute_result"
    }
   ],
   "source": [
    "nombre_variante"
   ]
  },
  {
   "cell_type": "code",
   "execution_count": 21,
   "metadata": {},
   "outputs": [
    {
     "data": {
      "text/html": [
       "<div>\n",
       "<style scoped>\n",
       "    .dataframe tbody tr th:only-of-type {\n",
       "        vertical-align: middle;\n",
       "    }\n",
       "\n",
       "    .dataframe tbody tr th {\n",
       "        vertical-align: top;\n",
       "    }\n",
       "\n",
       "    .dataframe thead th {\n",
       "        text-align: right;\n",
       "    }\n",
       "</style>\n",
       "<table border=\"1\" class=\"dataframe\">\n",
       "  <thead>\n",
       "    <tr style=\"text-align: right;\">\n",
       "      <th></th>\n",
       "      <th>Día</th>\n",
       "      <th>Precio (€)</th>\n",
       "      <th>Variación</th>\n",
       "    </tr>\n",
       "  </thead>\n",
       "  <tbody>\n",
       "    <tr>\n",
       "      <th>0</th>\n",
       "      <td>12/07/2024</td>\n",
       "      <td>1,45</td>\n",
       "      <td>=</td>\n",
       "    </tr>\n",
       "    <tr>\n",
       "      <th>1</th>\n",
       "      <td>13/07/2024</td>\n",
       "      <td>1,45</td>\n",
       "      <td>=</td>\n",
       "    </tr>\n",
       "    <tr>\n",
       "      <th>2</th>\n",
       "      <td>14/07/2024</td>\n",
       "      <td>1,45</td>\n",
       "      <td>=</td>\n",
       "    </tr>\n",
       "    <tr>\n",
       "      <th>3</th>\n",
       "      <td>15/07/2024</td>\n",
       "      <td>1,45</td>\n",
       "      <td>=</td>\n",
       "    </tr>\n",
       "    <tr>\n",
       "      <th>4</th>\n",
       "      <td>16/07/2024</td>\n",
       "      <td>1,45</td>\n",
       "      <td>=</td>\n",
       "    </tr>\n",
       "    <tr>\n",
       "      <th>...</th>\n",
       "      <td>...</td>\n",
       "      <td>...</td>\n",
       "      <td>...</td>\n",
       "    </tr>\n",
       "    <tr>\n",
       "      <th>101</th>\n",
       "      <td>21/10/2024</td>\n",
       "      <td>1,48</td>\n",
       "      <td>=</td>\n",
       "    </tr>\n",
       "    <tr>\n",
       "      <th>102</th>\n",
       "      <td>22/10/2024</td>\n",
       "      <td>1,48</td>\n",
       "      <td>=</td>\n",
       "    </tr>\n",
       "    <tr>\n",
       "      <th>103</th>\n",
       "      <td>23/10/2024</td>\n",
       "      <td>1,48</td>\n",
       "      <td>=</td>\n",
       "    </tr>\n",
       "    <tr>\n",
       "      <th>104</th>\n",
       "      <td>24/10/2024</td>\n",
       "      <td>1,48</td>\n",
       "      <td>=</td>\n",
       "    </tr>\n",
       "    <tr>\n",
       "      <th>105</th>\n",
       "      <td>25/10/2024</td>\n",
       "      <td>1,48</td>\n",
       "      <td>=</td>\n",
       "    </tr>\n",
       "  </tbody>\n",
       "</table>\n",
       "<p>106 rows × 3 columns</p>\n",
       "</div>"
      ],
      "text/plain": [
       "            Día Precio (€) Variación\n",
       "0    12/07/2024       1,45         =\n",
       "1    13/07/2024       1,45         =\n",
       "2    14/07/2024       1,45         =\n",
       "3    15/07/2024       1,45         =\n",
       "4    16/07/2024       1,45         =\n",
       "..          ...        ...       ...\n",
       "101  21/10/2024       1,48         =\n",
       "102  22/10/2024       1,48         =\n",
       "103  23/10/2024       1,48         =\n",
       "104  24/10/2024       1,48         =\n",
       "105  25/10/2024       1,48         =\n",
       "\n",
       "[106 rows x 3 columns]"
      ]
     },
     "execution_count": 21,
     "metadata": {},
     "output_type": "execute_result"
    }
   ],
   "source": [
    "sacar_tabla(tablaindiv)"
   ]
  },
  {
   "cell_type": "code",
   "execution_count": 4,
   "metadata": {},
   "outputs": [],
   "source": [
    "tabla=tabla[0]"
   ]
  },
  {
   "cell_type": "code",
   "execution_count": null,
   "metadata": {},
   "outputs": [],
   "source": [
    "tr_tabla=tabla.findAll(\"tr\")\n",
    "th_tabla = tabla.findAll(\"th\")\n",
    "td_tabla=tabla.findAll(\"td\")"
   ]
  },
  {
   "cell_type": "code",
   "execution_count": 16,
   "metadata": {},
   "outputs": [
    {
     "data": {
      "text/html": [
       "<div>\n",
       "<style scoped>\n",
       "    .dataframe tbody tr th:only-of-type {\n",
       "        vertical-align: middle;\n",
       "    }\n",
       "\n",
       "    .dataframe tbody tr th {\n",
       "        vertical-align: top;\n",
       "    }\n",
       "\n",
       "    .dataframe thead th {\n",
       "        text-align: right;\n",
       "    }\n",
       "</style>\n",
       "<table border=\"1\" class=\"dataframe\">\n",
       "  <thead>\n",
       "    <tr style=\"text-align: right;\">\n",
       "      <th></th>\n",
       "      <th>Día</th>\n",
       "      <th>Precio (€)</th>\n",
       "      <th>Variación</th>\n",
       "    </tr>\n",
       "  </thead>\n",
       "  <tbody>\n",
       "    <tr>\n",
       "      <th>0</th>\n",
       "      <td>12/07/2024</td>\n",
       "      <td>1,45</td>\n",
       "      <td>=</td>\n",
       "    </tr>\n",
       "    <tr>\n",
       "      <th>1</th>\n",
       "      <td>13/07/2024</td>\n",
       "      <td>1,45</td>\n",
       "      <td>=</td>\n",
       "    </tr>\n",
       "    <tr>\n",
       "      <th>2</th>\n",
       "      <td>14/07/2024</td>\n",
       "      <td>1,45</td>\n",
       "      <td>=</td>\n",
       "    </tr>\n",
       "    <tr>\n",
       "      <th>3</th>\n",
       "      <td>15/07/2024</td>\n",
       "      <td>1,45</td>\n",
       "      <td>=</td>\n",
       "    </tr>\n",
       "    <tr>\n",
       "      <th>4</th>\n",
       "      <td>16/07/2024</td>\n",
       "      <td>1,45</td>\n",
       "      <td>=</td>\n",
       "    </tr>\n",
       "    <tr>\n",
       "      <th>...</th>\n",
       "      <td>...</td>\n",
       "      <td>...</td>\n",
       "      <td>...</td>\n",
       "    </tr>\n",
       "    <tr>\n",
       "      <th>101</th>\n",
       "      <td>21/10/2024</td>\n",
       "      <td>1,48</td>\n",
       "      <td>=</td>\n",
       "    </tr>\n",
       "    <tr>\n",
       "      <th>102</th>\n",
       "      <td>22/10/2024</td>\n",
       "      <td>1,48</td>\n",
       "      <td>=</td>\n",
       "    </tr>\n",
       "    <tr>\n",
       "      <th>103</th>\n",
       "      <td>23/10/2024</td>\n",
       "      <td>1,48</td>\n",
       "      <td>=</td>\n",
       "    </tr>\n",
       "    <tr>\n",
       "      <th>104</th>\n",
       "      <td>24/10/2024</td>\n",
       "      <td>1,48</td>\n",
       "      <td>=</td>\n",
       "    </tr>\n",
       "    <tr>\n",
       "      <th>105</th>\n",
       "      <td>25/10/2024</td>\n",
       "      <td>1,48</td>\n",
       "      <td>=</td>\n",
       "    </tr>\n",
       "  </tbody>\n",
       "</table>\n",
       "<p>106 rows × 3 columns</p>\n",
       "</div>"
      ],
      "text/plain": [
       "            Día Precio (€) Variación\n",
       "0    12/07/2024       1,45         =\n",
       "1    13/07/2024       1,45         =\n",
       "2    14/07/2024       1,45         =\n",
       "3    15/07/2024       1,45         =\n",
       "4    16/07/2024       1,45         =\n",
       "..          ...        ...       ...\n",
       "101  21/10/2024       1,48         =\n",
       "102  22/10/2024       1,48         =\n",
       "103  23/10/2024       1,48         =\n",
       "104  24/10/2024       1,48         =\n",
       "105  25/10/2024       1,48         =\n",
       "\n",
       "[106 rows x 3 columns]"
      ]
     },
     "execution_count": 16,
     "metadata": {},
     "output_type": "execute_result"
    }
   ],
   "source": [
    "df_cuerpo=pd.DataFrame([r.findAll('td') for r in tr_tabla][1:]).map(lambda x: x.text)\n",
    "dicc_encabezado=dict(enumerate(pd.DataFrame(th_tabla).T.values[0]))  #enumerate porque coincide el 0,1 y 2 con los titulos de las columnas\n",
    "df_tabla= df_cuerpo.rename(dicc_encabezado, axis=1)\n",
    "df_tabla"
   ]
  },
  {
   "cell_type": "code",
   "execution_count": 12,
   "metadata": {},
   "outputs": [
    {
     "data": {
      "text/plain": [
       "{0: 'Día', 1: 'Precio (€)', 2: 'Variación'}"
      ]
     },
     "execution_count": 12,
     "metadata": {},
     "output_type": "execute_result"
    }
   ],
   "source": [
    "dict(enumerate(pd.DataFrame(enunciados).T.values[0]))\n"
   ]
  }
 ],
 "metadata": {
  "kernelspec": {
   "display_name": "Python 3",
   "language": "python",
   "name": "python3"
  },
  "language_info": {
   "codemirror_mode": {
    "name": "ipython",
    "version": 3
   },
   "file_extension": ".py",
   "mimetype": "text/x-python",
   "name": "python",
   "nbconvert_exporter": "python",
   "pygments_lexer": "ipython3",
   "version": "3.11.9"
  }
 },
 "nbformat": 4,
 "nbformat_minor": 2
}
