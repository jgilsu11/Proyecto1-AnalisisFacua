{
 "cells": [
  {
   "cell_type": "code",
   "execution_count": 33,
   "metadata": {},
   "outputs": [],
   "source": [
    "import pandas as pd\n",
    "import requests\n",
    "import selenium\n",
    "from selenium import webdriver  # Selenium es una herramienta para automatizar la interacción con navegadores web.\n",
    "from webdriver_manager.chrome import ChromeDriverManager  # ChromeDriverManager gestiona la instalación del controlador de Chrome.\n",
    "from selenium.webdriver.common.keys import Keys  # Keys es útil para simular eventos de teclado en Selenium.\n",
    "from selenium.webdriver.support.ui import Select  # Select se utiliza para interactuar con elementos <select> en páginas web.\n",
    "from selenium.webdriver.support.ui import WebDriverWait\n",
    "from selenium.webdriver.support import expected_conditions as EC\n",
    "from selenium.common.exceptions import NoSuchElementException # Excepciones comunes de selenium que nos podemos encontrar \n",
    "from bs4 import BeautifulSoup\n",
    "from time import sleep \n",
    "import re"
   ]
  },
  {
   "cell_type": "code",
   "execution_count": 11,
   "metadata": {},
   "outputs": [
    {
     "data": {
      "text/plain": [
       "['Mercadona', 'Alcampo', 'Carrefour', 'Hipercor', 'Dia', 'Eroski']"
      ]
     },
     "execution_count": 11,
     "metadata": {},
     "output_type": "execute_result"
    }
   ],
   "source": [
    "url_facua = \"https://super.facua.org/\"\n",
    "res_facua = requests.get(url_facua)\n",
    "sopa_mercados = BeautifulSoup(res_facua.content, \"html.parser\")\n",
    "lista_mercados = sopa_mercados.findAll(\"a\", {\"class\" :\"nav-link\"})\n",
    "lista_supers= [mercado.getText() for mercado in lista_mercados]\n",
    "lista_supers.pop()\n",
    "lista_supers\n"
   ]
  },
  {
   "cell_type": "code",
   "execution_count": null,
   "metadata": {},
   "outputs": [],
   "source": [
    "for mercado in lista_supers:\n",
    "    driver = webdriver.Chrome()\n",
    "    url_mercados = f\"https://super.facua.org/{mercado}/\"\n",
    "    driver.get(url_mercados)\n",
    "    sleep(3)\n",
    "    lista_num_producto=[]\n",
    "    \n",
    "    for #aquí quiero meter los productos usando beutiful\n",
    "        for num_producto in range(1, len())\n",
    "            driver.find_element(\"css selector\", f\"body > section:nth-child(4) > div > div.row.gx-4.gx-lg-5.row-cols-2.row-cols-md-3.row-cols-xl-4.justify-content-center > div:nth-child({num_producto}) > div > div.card-footer.p-4.pt-0.border-top-0.bg-transparent > div > a\").click()\n",
    "            sleep(2)\n",
    "            lista_variante_producto=[]\n",
    "            for #aqui quiero meter las variantes de producto usando beutiful\n",
    "                for num_variante in range(1, len()):\n",
    "                    driver.find_element(\"css selector\", f\"body > section:nth-child(4) > div > div:nth-child(7) > div:nth-child({num_variante}) > div > div.card-footer.p-4.pt-0.border-top-0.bg-transparent > div > a\").click()\n",
    "                #usar BeautifulSoup para coger la primera tabla y que me la guarde\n",
    "                url_facua = f\"https://super.facua.org/{mercadona}/{producto}/{variante}/\"\n",
    "                res_facua = requests.get(url_facua)\n",
    "                sopa_mercados = BeautifulSoup(res_facua.content, \"html.parser\")\n",
    "                lista_mercados = sopa_mercados.findAll(\"a\", {\"class\" :\"nav-link\"})\n"
   ]
  },
  {
   "cell_type": "code",
   "execution_count": 16,
   "metadata": {},
   "outputs": [],
   "source": [
    "# driver = webdriver.Chrome()\n",
    "# url_mercados = f\"https://super.facua.org/mercadona/\"\n",
    "# driver.get(url_mercados)\n",
    "# #quitar cookie\n",
    "# driver.find_element(\"css selector\", \"#rcc-confirm-button\").click()\n",
    "# sleep(2)\n",
    "# url_variante=driver.find_element(\"css selector\", \"body > section:nth-child(4) > div > div:nth-child(7) > div:nth-child(1) > div > div.card-footer.p-4.pt-0.border-top-0.bg-transparent > div > a\")\n",
    "# driver.get(url_variante)\n",
    "# res_variante = requests.get(url_variante)\n",
    "# sopa_variantes = BeautifulSoup(res_variante.content, \"html.parser\")\n",
    "# lista_mercados = sopa_mercados.findAll(\"table\")\n",
    "# lista_mercados"
   ]
  },
  {
   "cell_type": "code",
   "execution_count": 25,
   "metadata": {},
   "outputs": [],
   "source": [
    "driver = webdriver.Chrome()\n",
    "url_mercados = \"https://super.facua.org/mercadona/\"\n",
    "driver.get(url_mercados)\n",
    "sleep(3)\n",
    "#aceptar cookie\n",
    "driver.find_element(\"css selector\", \"#rcc-confirm-button\").click()\n",
    "\n",
    "lista_num_producto=[]\n",
    "driver.execute_script(\"window.scrollBy(0, 500);\")\n",
    "sleep(2)\n",
    "#selecciona producto\n",
    "driver.find_element(\"css selector\", f\"body > section:nth-child(4) > div > div.row.gx-4.gx-lg-5.row-cols-2.row-cols-md-3.row-cols-xl-4.justify-content-center > div:nth-child(1) > div > div.card-footer.p-4.pt-0.border-top-0.bg-transparent > div > a\").click()\n",
    "driver.execute_script(\"window.scrollBy(0, 500);\")\n",
    "sleep(2)\n",
    "#selecciona variante\n",
    "lista_variante_producto=[]\n",
    "driver.find_element(\"css selector\", f\"body > section:nth-child(4) > div > div:nth-child(7) > div:nth-child(1) > div > div.card-footer.p-4.pt-0.border-top-0.bg-transparent > div > a\").click()\n",
    "\n",
    "url_facua = \"https://super.facua.org/mercadona/aceite-de-girasol/aceite-de-girasol-refinado-02-hacendado-1-l/\"\n",
    "res_facua = requests.get(url_facua)\n",
    "sopa_mercados = BeautifulSoup(res_facua.content, \"html.parser\")\n",
    "enunciados = sopa_mercados.findAll(\"thead\")\n"
   ]
  },
  {
   "cell_type": "code",
   "execution_count": 26,
   "metadata": {},
   "outputs": [
    {
     "data": {
      "text/plain": [
       "['DíaPrecio (€)Variación']"
      ]
     },
     "execution_count": 26,
     "metadata": {},
     "output_type": "execute_result"
    }
   ],
   "source": [
    "enunciadop=[enunciado.getText() for enunciado in enunciados]\n",
    "# lista_encabezados = tabla.findAll(\"thead\")\n",
    "# lista_encabezados\n",
    "enunciadop"
   ]
  },
  {
   "cell_type": "code",
   "execution_count": 48,
   "metadata": {},
   "outputs": [
    {
     "data": {
      "text/plain": [
       "['Día', 'Precio', 'Variación']"
      ]
     },
     "execution_count": 48,
     "metadata": {},
     "output_type": "execute_result"
    }
   ],
   "source": [
    "juntos= enunciados[0].getText().split(\" (€)\")[0]\n",
    "col_vari= enunciados[0].getText().split(\" (€)\")[1]\n",
    "lista_encabezado=[]\n",
    "col_día = juntos[:3]  \n",
    "col_precio = juntos[3:]\n",
    "lista_encabezado=[col_día,col_precio,col_vari]\n",
    "lista_encabezado\n",
    "\n"
   ]
  },
  {
   "cell_type": "code",
   "execution_count": 44,
   "metadata": {},
   "outputs": [
    {
     "data": {
      "text/plain": [
       "'Variación'"
      ]
     },
     "execution_count": 44,
     "metadata": {},
     "output_type": "execute_result"
    }
   ],
   "source": []
  }
 ],
 "metadata": {
  "kernelspec": {
   "display_name": "proyecto4_entorno",
   "language": "python",
   "name": "python3"
  },
  "language_info": {
   "codemirror_mode": {
    "name": "ipython",
    "version": 3
   },
   "file_extension": ".py",
   "mimetype": "text/x-python",
   "name": "python",
   "nbconvert_exporter": "python",
   "pygments_lexer": "ipython3",
   "version": "3.11.9"
  }
 },
 "nbformat": 4,
 "nbformat_minor": 2
}
